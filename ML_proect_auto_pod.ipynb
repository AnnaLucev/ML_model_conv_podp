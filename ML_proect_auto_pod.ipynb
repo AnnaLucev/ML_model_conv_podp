{
 "cells": [
  {
   "cell_type": "markdown",
   "id": "8a0afd70",
   "metadata": {},
   "source": [
    "# Анализ сайта «СберАвтоподписка» (ML проект)"
   ]
  },
  {
   "cell_type": "markdown",
   "id": "e0ca54b2",
   "metadata": {},
   "source": [
    "## Задача:\n",
    "Задача:\n",
    "- предсказать совершение целевого действия (ориентировочное значение ROC-AUC ~ 0.65)\n",
    "- упаковать получившуюся модель в сервис, который будет брать на вход все атрибуты, типа utm_*, Wevice_*, geo_*, и отдавать на выход 0/1 (1 - если пользователь совершил целевое действие)\n",
    "- Формат файла — (минимум) .py-скрипт с инструкциIй по локальному запуску или (максимум) localhost web app.\n",
    "- Содержание — модель, берущая на вход строку с данными по визиту (согласно схеме данных) и отдающая на выход результат предсказания по отдельному событию в числовом формате 0|1"
   ]
  },
  {
   "cell_type": "code",
   "execution_count": 40,
   "id": "52cea2fd",
   "metadata": {},
   "outputs": [],
   "source": [
    "import pandas as pd\n",
    "import numpy as np\n",
    "import seaborn as sns\n",
    "from sklearn.preprocessing import OneHotEncoder\n",
    "from sklearn.preprocessing import StandardScaler\n",
    "from sklearn.ensemble import RandomForestClassifier\n",
    "from sklearn.linear_model import LogisticRegression, LinearRegression\n",
    "from sklearn.feature_selection import RFE\n",
    "from sklearn.metrics import roc_auc_score\n",
    "from sklearn.metrics import roc_curve\n",
    "from sklearn.metrics import accuracy_score, confusion_matrix, mean_absolute_error\n",
    "from sklearn.model_selection import train_test_split, cross_val_score, cross_validate\n",
    "from sklearn.neural_network import MLPClassifier\n",
    "from sklearn.impute import SimpleImputer\n",
    "from sklearn.preprocessing import MinMaxScaler\n",
    "\n",
    "import statistics as st\n",
    "import missingno as msno\n",
    "import matplotlib.pyplot as plt\n",
    "from matplotlib.ticker import FormatStrFormatter\n",
    "%matplotlib inline\n",
    "from scipy import stats\n",
    "from scipy.stats import mode\n",
    "\n",
    "import pickle"
   ]
  },
  {
   "cell_type": "code",
   "execution_count": 15,
   "id": "3a6228b5",
   "metadata": {},
   "outputs": [],
   "source": [
    "import warnings\n",
    "warnings.filterwarnings('ignore')"
   ]
  },
  {
   "cell_type": "markdown",
   "id": "9aa90307",
   "metadata": {},
   "source": [
    "## Оглавление\n",
    "- Исходные данные\n",
    "- 0. Общие функции\n",
    "- 1. EDA\n",
    "    - 1.1. ИССЛЕДОВАНИЕ ИСХОДНОГО ФАЙЛА 'ga_hits.csv'\n",
    "        - 1.1.1. Общие данные по файлу\n",
    "        - 1.1.2. Заполнение таблицы для работы, проверка качества заполнения, расчет параметра CR ('ga_hits.csv')\n",
    "        - 1.1.3. Группировка по id и расчет суммарного CR  ('ga_hits.csv')\n",
    "        - 1.1.4. Определение признака марки и модели авто -- \"model_auto\" \n",
    "            - 1.1.4.1. Выделение и группировка данных по марке и модели авто \n",
    "            - 1.1.4.2. Исследование популярности марки авто\n",
    "            - 1.1.4.3. Стандартизация категориальной переменной марки авто\n",
    "    - 1.2.  ИССЛЕДОВАНИЕ ИСХОДНОГО ФАЙЛА 'ga_sessions.csv'\n",
    "        - 1.2.1.  Присоединение параметра конверсии - \"CR\"\n",
    "    - 1.3.  DATA CLEANING рабочей выборки \n",
    "        - 1.3.1. Исследование исходных данных\n",
    "        - 1.3.2. Работа с отсутствующими  и нулевыми данными \n",
    "            - 1.3.2.1. Удаление столбцов с отсутств.данными >20% -'device_model','_merge', 'utm_keyword', 'device_os'\n",
    "            - 1.3.2.2. Проверка объема нулевых значений по столбцам таблицы ('(not set)' или 'none')\n",
    "            - 1.3.2.3. Работа со столбцами с отсутствующими и нулевыми значениями (8 столбцов)\n",
    "            - 1.3.2.4.  Проверка результатов \n",
    "        - 1.3.3.  Преобразование типов данных\n",
    "            - 1.3.3.1.  Преобразование столбцов даты и времени визита \n",
    "        - 1.3.4. Удаление \"лишних\" столбцов\n",
    "- 2. FEATURE ENGINEERING\n",
    "    - 2.1. Формирование дополнительных, необходимых для анализа, столбцов\n",
    "        - 2.1.1. Формирование доп. столбцов - 'CR_result'(0/1), 'org_traffic', 'advertising_social_NW, 'advertising_social_NW\n",
    "        - 2.1.2. Преобразование 'client_id', 'date', добавление столбцов дат 'month' и 'dayofweek'\n",
    "        - 2.1.3. Преобразование категориальных - 'device_screen_resolution', 'device_browser', 'device_brand', 'utm_campaign',  'utm_source', 'geo_city' \n",
    "        - 2.1.4. Выводы по разделу 2.1.\n",
    "    - 2.2. Исследование распределения конверсии во времени\n",
    "    - 2.3. Исследование корреляции признаков\n",
    "    - 2.4. Стандартизация и нормализация данных\n",
    "        - 2.4.1. Стандартизация категориальных переменных\n",
    "        - 2.4.2. Стандартизация количественных переменных\n",
    "- 4. Modelling\n",
    "    - 4.1. Исследование выборки 1 (общая, без сокращения признаков, без моделей авто)\n",
    "        - 4.1.1. Подготовка данных\n",
    "        - 4.1.2 Обучение моделей разными методами - Логистическая регрессия, Случайный лес, Многослойный персептрон\n",
    "        - 4.1.3. Кросс-валидация на тренировочной выборке\n",
    "        - 4.1.4. Выбор лучшей модели на выборке 1\n",
    "    - 4.2. Исследование моделей на второй выборке (с сокращением признаков, без моделей авто)\n",
    "        - 4.2.1. Сокращение признаков, подготовка данных\n",
    "        - 4.2.2.  Обучение моделей разными методами - Логистическая регрессия, Случайный лес, Многослойный персептрон\n",
    "        - 4.2.3. Кросс-валидация на тренировочной выборке\n",
    "        - 4.2.4. Выбор лучшей модели на выборке 2\n",
    "    - 4.3. Исследование моделей на третьей выборке (с сокращением признаков, с моделями авто)\n",
    "        - 4.3.1. Подготовка данных\n",
    "        - 4.3.2 Обучение моделей разными методами - Логистическая регрессия, Случайный лес, Многослойный персептрон\n",
    "        - 4.3.3. Кросс-валидация на тренировочной выборке\n",
    "        - 4.3.4. Выбор лучшей модели на выборке 3\n",
    "- 5. RESULTS\n",
    "    - 5.1. Общие выводы по модели\n",
    "    - 5.2. Подготовка к общему использованию"
   ]
  },
  {
   "cell_type": "markdown",
   "id": "734fa4ff",
   "metadata": {},
   "source": [
    "## Исходные данные\n",
    "Файл GA Sessions (ga_sessions.pkl)  --- одна строка = один визит на  сайт\n",
    "Файл  GA Hits (ga_hits.pkl)   --- Одна строка = одно событие в рамках одного визита на сайт"
   ]
  },
  {
   "cell_type": "markdown",
   "id": "75472e3d",
   "metadata": {},
   "source": [
    "## 0. Общие функции "
   ]
  },
  {
   "cell_type": "code",
   "execution_count": 16,
   "id": "e7ecca80",
   "metadata": {},
   "outputs": [],
   "source": [
    "# Функция вывода содержание таблицы: количество уникальных значений в столбцах, их список\n",
    "def df_info_(df):\n",
    "    print('Размер выборки -', df.shape)\n",
    "    print('Состав выборки -', df.columns)\n",
    "    return df.head(3)"
   ]
  },
  {
   "cell_type": "code",
   "execution_count": 17,
   "id": "fec1da95",
   "metadata": {},
   "outputs": [],
   "source": [
    "# Функция вывода общей информации  по столбцам выборки по уникальным значениям  и их кол-ве\n",
    "def df_info_uniq(df):\n",
    "    for column in df:\n",
    "        print('')\n",
    "        print('Характеристика:', column)\n",
    "        uniqvalue = df[column].nunique()\n",
    "        print('Количество уникальных значений: ', uniqvalue)\n",
    "        print('Список значений: ',  df[column].value_counts())"
   ]
  },
  {
   "cell_type": "code",
   "execution_count": 18,
   "id": "e158649b",
   "metadata": {},
   "outputs": [],
   "source": [
    "# Функция выводы процента пропущенных значений по всем столбцам датафрейма по возрастанию\n",
    "def missing_values(df):\n",
    "    missing_values = ((df.isna().sum() / len(df)) * 100).sort_values(ascending=False)\n",
    "    print('Процент пропущенных значений:')\n",
    "    return missing_values"
   ]
  },
  {
   "cell_type": "code",
   "execution_count": 19,
   "id": "5f060e50",
   "metadata": {},
   "outputs": [],
   "source": [
    "# Функция оценки количества заполненных объектов в выборке\n",
    "def print_useful_rows_info(df):\n",
    "    print('Количество полностью заполненных объектов из всей выборки: ', len(df.dropna()))\n",
    "    print('Процент полностью заполненных объектов из всей выборки: ', round(len(df.dropna())/len(df) * 100, 2))"
   ]
  },
  {
   "cell_type": "code",
   "execution_count": 20,
   "id": "d38026cf",
   "metadata": {},
   "outputs": [],
   "source": [
    "# Функция выделения модели авто\n",
    "def model_au(s):\n",
    "    if len(s.split(sep=('/'))) >= 3:  \n",
    "        if s.split(sep=('/'))[1] == 'cars':\n",
    "            if s.split(sep=('/'))[2] == 'all':\n",
    "                model_ = s.split(sep=('/'))[3]+' '+s.split(sep=('/'))[4]\n",
    "                if len(model_)!= 8:\n",
    "                    return model_\n",
    "                else :\n",
    "                    model_ = 'none'\n",
    "                    return model_\n",
    "            else :\n",
    "                str_list = s.split(sep='?')[0]\n",
    "                model_ = str_list.split(sep=('/'))[2]\n",
    "                if len(model_) != 8:\n",
    "                    return model_\n",
    "                else:\n",
    "                    model_ = 'none'\n",
    "                    return model_\n",
    "        else :\n",
    "            model_ = 'none'\n",
    "            return model_\n",
    "    else :\n",
    "        model_ = 'none'\n",
    "        return model_"
   ]
  },
  {
   "cell_type": "code",
   "execution_count": 21,
   "id": "81bd82e5",
   "metadata": {},
   "outputs": [],
   "source": [
    "def check_none_values (df):\n",
    "    df_ = list(df.columns)\n",
    "    num = np.array(df_)\n",
    "    c = len(df.columns)\n",
    "    df__ = pd.DataFrame(num.reshape(c,1), columns=['columns'])\n",
    "    result = []\n",
    "    for column in df:\n",
    "        none_values = ((len(df[((df[column]=='(not set)') | (df[column]=='none') | (df[column]=='(none)'))])/len(df))*100)\n",
    "        result.append(none_values)  \n",
    "    df__['result']=result\n",
    "    print('Проверка % нулевых значений объектов из всей выборки (проверка нулевых данных): ')\n",
    "    return df__.sort_values('result', ascending=False)"
   ]
  },
  {
   "cell_type": "code",
   "execution_count": 22,
   "id": "c289da47",
   "metadata": {},
   "outputs": [],
   "source": [
    "# Замена отсутствующих значений на моду столбца, сформированную через группировку по другому столбцу\n",
    "def re_moda_group(df, st_group, st_res):\n",
    "    df_mod_gr = df.groupby(st_group)[st_res].agg(res_mode = st.mode)\n",
    "    df_mod_gr['res_mode'] = df_mod_gr['res_mode'].astype('string')\n",
    "    df = df.merge(df_mod_gr, on = st_group, how='outer', indicator=False)\n",
    "    df[st_res] = replace_isna_data (df[st_res],df['res_mode'])\n",
    "    return df[st_res]"
   ]
  },
  {
   "cell_type": "code",
   "execution_count": 23,
   "id": "bd108b8d",
   "metadata": {},
   "outputs": [],
   "source": [
    "# Функция замены отсутствующих данных на значение другого столбца этой же таблицы и проверка результата\n",
    "# пустые значения df1 меняем на значения df2\n",
    "def replace_isna_data (df1,df2):                             \n",
    "    df1= df1.fillna(df2)\n",
    "    print('Итоговый процент отсутствующих значений после замены: ', (df1.isna().sum()/(len(df1)))*100)\n",
    "    return df1"
   ]
  },
  {
   "cell_type": "code",
   "execution_count": 24,
   "id": "c9a31906",
   "metadata": {},
   "outputs": [],
   "source": [
    "# Функция замены отсутствующих данных на моду всего столбца и проверка результата\n",
    "def replace_isna_data_all_column_mode(df):\n",
    "    x = df.mode()[0]\n",
    "    df = df.fillna(x)\n",
    "    print(\"Итоговый процент отсутствующих значений после замены на моду столбца - \", df.isna().sum())\n",
    "    return df"
   ]
  },
  {
   "cell_type": "code",
   "execution_count": 25,
   "id": "1dc9627d",
   "metadata": {},
   "outputs": [],
   "source": [
    "# Функция замены нулевых значений, т.е. равных '(not set)' или 'none',на моду всего столбца \n",
    "def replace_none_data_all_column_mode(df):\n",
    "    x = df.mode()[0]\n",
    "    df = df.replace(['(not set)', 'none','(none)'], x) \n",
    "    return df\n",
    "# Функция проверки наличия нулевых значений в столбце, т.е. равных '(not set)' или 'none'\n",
    "def none_value (df):\n",
    "    none_value = ((len(df[((df=='(not set)') | (df=='none') | (df=='(none)'))])/len(df))*100)\n",
    "    return print('Процент нулевых значений: ', none_value)"
   ]
  },
  {
   "cell_type": "code",
   "execution_count": 26,
   "id": "b8c4425c",
   "metadata": {},
   "outputs": [],
   "source": [
    "# Функция замены нулевых данных на значение другого столбца этой же таблицы  и в остатке на заданное значение \n",
    "def re_moda_group_none(df, st_group, st_res, nul_mode):\n",
    "    df_mod_gr = df.groupby(st_group)[st_res].agg(res_mode = st.mode)\n",
    "    df_mod_gr['res_mode'] = df_mod_gr['res_mode'].astype('string')\n",
    "    df = df.merge(df_mod_gr, on = st_group, how='outer', indicator=False)\n",
    "    df[st_res] = np.where(((df[st_res] == '(not set)') | (df[st_res] == '(none)') | (df[st_res] == 'none')), df['res_mode'], df[st_res]) \n",
    "    df[st_res] = df[st_res].replace(['(not set)', 'none','(none)'], nul_mode) \n",
    "    none_value(df[st_res])\n",
    "    return df[st_res]"
   ]
  },
  {
   "cell_type": "code",
   "execution_count": 27,
   "id": "0cd9106d",
   "metadata": {},
   "outputs": [],
   "source": [
    "# Функция замены нулевых значений, т.е. равных '(not set)' или 'none',на моду всего столбца \n",
    "def replace_none_data_all_column_mode(df):\n",
    "    x = df.mode()[0]\n",
    "    df = df.replace(['(not set)', 'none','(none)'], x) \n",
    "    return df"
   ]
  },
  {
   "cell_type": "code",
   "execution_count": 28,
   "id": "536d7fe3",
   "metadata": {},
   "outputs": [],
   "source": [
    "# Функция проверки наличия нулевых значений в столбце, т.е. равных '(not set)' или 'none'\n",
    "def none_value (df):\n",
    "    none_value = ((len(df[((df=='(not set)') | (df=='none') | (df=='(none)'))])/len(df))*100)\n",
    "    return print('Процент нулевых значений: ', none_value)"
   ]
  },
  {
   "cell_type": "code",
   "execution_count": 29,
   "id": "c2fb6d9c",
   "metadata": {},
   "outputs": [],
   "source": [
    "# Функция проверки наличия только числовых значений в текстовой ячейке столбца таблицы\n",
    "def numer(df):\n",
    "    g = 0\n",
    "    for i in range(len(df)):\n",
    "        if df[i].isnumeric() == True:\n",
    "            g = g+1\n",
    "        else:\n",
    "            g = g+0\n",
    "    return (print('Числовых значений нет') if g == 0  else print(('Числовых значений - '), g))"
   ]
  },
  {
   "cell_type": "code",
   "execution_count": 30,
   "id": "7d9fd367",
   "metadata": {},
   "outputs": [],
   "source": [
    "# Функция проверки процента полностью заполненных объектов в итоговой таблице\n",
    "def print_useful_rows_info(df):\n",
    "    print('Количество полностью заполненных объектов из всей выборки: ', len(df.dropna()))\n",
    "    print('Процент полностью заполненных объектов из всей выборки: ', round(len(df.dropna())/len(df) * 100, 2))"
   ]
  },
  {
   "cell_type": "code",
   "execution_count": 31,
   "id": "6205df4d",
   "metadata": {},
   "outputs": [],
   "source": [
    "# Функция группировки по выделенному столбцу и подсчетом количества элементов по выборке и суммы по конверсии\n",
    "# определение лидеров \n",
    "def gr_CR_and_count(df, column):\n",
    "    d = df.groupby([column]).agg({'session_id': 'size', 'CR_result': 'sum'}).reset_index().rename(columns={'session_id': 'count', 'CR_result': 'count_CR'}).sort_values(by='count_CR', ascending = False)\n",
    "    return d"
   ]
  },
  {
   "cell_type": "code",
   "execution_count": 32,
   "id": "0cf6fe5e",
   "metadata": {},
   "outputs": [],
   "source": [
    "# Функция визуализации результатов выборки лидеров\n",
    "def vis_leaders_count_CR(df, column, name):\n",
    "    print(name)\n",
    "    df_ = df[0:10]\n",
    "    plt.figure(1)\n",
    "    plt.figure(figsize=(20, 3))\n",
    "    plt.bar(df_[column], df_['count'])\n",
    "    plt.ylabel('Количество')\n",
    "    plt.title('10 лидеров распределения')\n",
    "    plt.show();\n",
    "    plt.figure(2)\n",
    "    plt.figure(figsize=(20, 3))\n",
    "    plt.bar(df_[column], df_['count_CR'])\n",
    "    plt.xlabel(name)\n",
    "    plt.ylabel('Количество')\n",
    "    plt.title('10 лидеров распределения  конверсии в целевое действие')\n",
    "    plt.show();"
   ]
  },
  {
   "cell_type": "code",
   "execution_count": 33,
   "id": "fe6a33c2",
   "metadata": {},
   "outputs": [],
   "source": [
    "# Функция вывода метрики точности accuracy для тренировочной и тестовой моделей\n",
    "def accur_train_test(predicted_train, predicted_test, y_train, y_test):\n",
    "    print(f'TRAIN ACC: {accuracy_score(y_train, predicted_train)}')\n",
    "    print(f'TEST ACC: {accuracy_score(y_test, predicted_test)}')"
   ]
  },
  {
   "cell_type": "code",
   "execution_count": 119,
   "id": "a368e6c8",
   "metadata": {},
   "outputs": [],
   "source": [
    "# функция предсказания обученной модели на тренировочном и тестовом датасетях, вывода точности предсказания и Сonfusion_matrix\n",
    "def mod_pred(mod, X_train, y_train, X_test, y_test, name):\n",
    "    predicted_train_res_mod = mod.predict(X_train)\n",
    "    predicted_test_res_mod = mod.predict(X_test)\n",
    "    print('Модель  --', name)\n",
    "    print('Показатели точности модели --')\n",
    "    accur_train_test(predicted_train_res_mod, predicted_test_res_mod, y_train, y_test)\n",
    "    print('Сonfusion_matrix -\\n', confusion_matrix(y_test, predicted_test_res_mod))\n",
    "\n",
    "# функция вывода параметров и кривой  ROC-AUC\n",
    "def roc_auc_test(mod, X, y):\n",
    "    y_pred_proba = mod.predict_proba(X)[::,1]\n",
    "    fpr, tpr, _ = roc_curve(y, y_pred_proba)\n",
    "    auc = roc_auc_score(y, y_pred_proba)\n",
    "    plt.figure(figsize=(5, 3))\n",
    "    plt.plot(fpr,tpr,label =\" AUC= \"+str(auc))\n",
    "    plt.legend(loc = 4)\n",
    "    plt.show()     "
   ]
  },
  {
   "cell_type": "code",
   "execution_count": 35,
   "id": "12ce4ca2",
   "metadata": {},
   "outputs": [],
   "source": [
    "# функция кросс валидации на тренировочной выборке\n",
    "def cross_val(mod, X_train, y_train, cv_n, name_model):\n",
    "    print('Показатели после кросс-валидации модели ---', name_model)\n",
    "    print(cross_validate(mod, X_train, y_train, cv = cv_n))\n",
    "    cv_score_mod = cross_val_score(mod, X_train, y_train, cv = cv_n)\n",
    "    print( \"Cреднее значение точности модели - \", cv_score_mod.mean()*100, \"%\",  \n",
    "          \"\\nСтандартное отклонение точности модели -\", cv_score_mod.std())\n",
    "    return cv_score_mod"
   ]
  },
  {
   "cell_type": "code",
   "execution_count": null,
   "id": "54caf8c6",
   "metadata": {},
   "outputs": [],
   "source": []
  },
  {
   "cell_type": "markdown",
   "id": "4aaa4e0d",
   "metadata": {},
   "source": [
    "## 1. EDA\n",
    "### 1.1. ИССЛЕДОВАНИЕ ИСХОДНОГО ФАЙЛА 'ga_hits.csv'\n",
    "Проверен файл с расширением .pkl, его содержание аналогично, поэтому сразу работаем с ga_hits.csv\n",
    "\n",
    "#### 1.1.1. Общие данные по файлу"
   ]
  },
  {
   "cell_type": "code",
   "execution_count": 26,
   "id": "7bb0384a",
   "metadata": {},
   "outputs": [
    {
     "name": "stdout",
     "output_type": "stream",
     "text": [
      "Размер выборки - (15726470, 11)\n",
      "Состав выборки - Index(['session_id', 'hit_date', 'hit_time', 'hit_number', 'hit_type',\n",
      "       'hit_referer', 'hit_page_path', 'event_category', 'event_action',\n",
      "       'event_label', 'event_value'],\n",
      "      dtype='object')\n"
     ]
    },
    {
     "data": {
      "text/html": [
       "<div>\n",
       "<style scoped>\n",
       "    .dataframe tbody tr th:only-of-type {\n",
       "        vertical-align: middle;\n",
       "    }\n",
       "\n",
       "    .dataframe tbody tr th {\n",
       "        vertical-align: top;\n",
       "    }\n",
       "\n",
       "    .dataframe thead th {\n",
       "        text-align: right;\n",
       "    }\n",
       "</style>\n",
       "<table border=\"1\" class=\"dataframe\">\n",
       "  <thead>\n",
       "    <tr style=\"text-align: right;\">\n",
       "      <th></th>\n",
       "      <th>session_id</th>\n",
       "      <th>hit_date</th>\n",
       "      <th>hit_time</th>\n",
       "      <th>hit_number</th>\n",
       "      <th>hit_type</th>\n",
       "      <th>hit_referer</th>\n",
       "      <th>hit_page_path</th>\n",
       "      <th>event_category</th>\n",
       "      <th>event_action</th>\n",
       "      <th>event_label</th>\n",
       "      <th>event_value</th>\n",
       "    </tr>\n",
       "  </thead>\n",
       "  <tbody>\n",
       "    <tr>\n",
       "      <th>0</th>\n",
       "      <td>5639623078712724064.1640254056.1640254056</td>\n",
       "      <td>2021-12-23</td>\n",
       "      <td>597864.0</td>\n",
       "      <td>30</td>\n",
       "      <td>event</td>\n",
       "      <td>NaN</td>\n",
       "      <td>sberauto.com/cars?utm_source_initial=google&amp;ut...</td>\n",
       "      <td>quiz</td>\n",
       "      <td>quiz_show</td>\n",
       "      <td>NaN</td>\n",
       "      <td>NaN</td>\n",
       "    </tr>\n",
       "    <tr>\n",
       "      <th>1</th>\n",
       "      <td>7750352294969115059.1640271109.1640271109</td>\n",
       "      <td>2021-12-23</td>\n",
       "      <td>597331.0</td>\n",
       "      <td>41</td>\n",
       "      <td>event</td>\n",
       "      <td>NaN</td>\n",
       "      <td>sberauto.com/cars/fiat?city=1&amp;city=18&amp;rental_c...</td>\n",
       "      <td>quiz</td>\n",
       "      <td>quiz_show</td>\n",
       "      <td>NaN</td>\n",
       "      <td>NaN</td>\n",
       "    </tr>\n",
       "    <tr>\n",
       "      <th>2</th>\n",
       "      <td>885342191847998240.1640235807.1640235807</td>\n",
       "      <td>2021-12-23</td>\n",
       "      <td>796252.0</td>\n",
       "      <td>49</td>\n",
       "      <td>event</td>\n",
       "      <td>NaN</td>\n",
       "      <td>sberauto.com/cars/all/volkswagen/polo/e994838f...</td>\n",
       "      <td>quiz</td>\n",
       "      <td>quiz_show</td>\n",
       "      <td>NaN</td>\n",
       "      <td>NaN</td>\n",
       "    </tr>\n",
       "  </tbody>\n",
       "</table>\n",
       "</div>"
      ],
      "text/plain": [
       "                                  session_id    hit_date  hit_time  \\\n",
       "0  5639623078712724064.1640254056.1640254056  2021-12-23  597864.0   \n",
       "1  7750352294969115059.1640271109.1640271109  2021-12-23  597331.0   \n",
       "2   885342191847998240.1640235807.1640235807  2021-12-23  796252.0   \n",
       "\n",
       "   hit_number hit_type hit_referer  \\\n",
       "0          30    event         NaN   \n",
       "1          41    event         NaN   \n",
       "2          49    event         NaN   \n",
       "\n",
       "                                       hit_page_path event_category  \\\n",
       "0  sberauto.com/cars?utm_source_initial=google&ut...           quiz   \n",
       "1  sberauto.com/cars/fiat?city=1&city=18&rental_c...           quiz   \n",
       "2  sberauto.com/cars/all/volkswagen/polo/e994838f...           quiz   \n",
       "\n",
       "  event_action event_label  event_value  \n",
       "0    quiz_show         NaN          NaN  \n",
       "1    quiz_show         NaN          NaN  \n",
       "2    quiz_show         NaN          NaN  "
      ]
     },
     "execution_count": 26,
     "metadata": {},
     "output_type": "execute_result"
    }
   ],
   "source": [
    "df_out = pd.read_csv('data/ga_hits.csv')\n",
    "df_info_(df_out)"
   ]
  },
  {
   "cell_type": "markdown",
   "id": "1fa06a81",
   "metadata": {},
   "source": [
    "ga_hits.csv  - одна строка = одно событие в рамках одного визита на сайт\n",
    "\n",
    "1. session_id - ID визита\n",
    "2. hit_date  - дата события\n",
    "3. hit_time - время события \n",
    "4. hit_number - порядковый номер события в рамках сессии\n",
    "5. hit_type - тип события\n",
    "6. hit_referer - источник события\n",
    "7. hit_page_path - страница события\n",
    "8. event_category - тип действия\n",
    "9. event_action - действие\n",
    "10. event_label - тег действия\n",
    "11. event_value - значение результата действия"
   ]
  },
  {
   "cell_type": "code",
   "execution_count": 17,
   "id": "060de8b7",
   "metadata": {},
   "outputs": [
    {
     "name": "stdout",
     "output_type": "stream",
     "text": [
      "\n",
      "Характеристика: session_id\n",
      "Количество уникальных значений:  1734610\n",
      "Список значений:  5442565791571325612.1632449195.1632449195    768\n",
      "6568868914238486437.1632270313.1632270313    678\n",
      "5959671972744778783.1632490527.1632490600    548\n",
      "7452598043578978502.1632358598.1632358598    514\n",
      "3070792010704358528.1629752408.1629752408    498\n",
      "                                            ... \n",
      "4570994095441102117.1630324006.1630324006      1\n",
      "768506153535315810.1630314342.1630314342       1\n",
      "5517253735248338264.1630315080.1630315080      1\n",
      "4054272189286640867.1630334209.1630334209      1\n",
      "5381267721977892188.1640271196.1640271196      1\n",
      "Name: session_id, Length: 1734610, dtype: int64\n",
      "\n",
      "Характеристика: hit_date\n",
      "Количество уникальных значений:  226\n",
      "Список значений:  2021-05-24    513035\n",
      "2021-12-21    280192\n",
      "2021-05-25    235805\n",
      "2021-09-23    168899\n",
      "2021-05-26    158382\n",
      "               ...  \n",
      "2021-07-24     23490\n",
      "2021-05-23     18773\n",
      "2021-05-19     14605\n",
      "2021-05-22     13917\n",
      "2021-05-21     13497\n",
      "Name: hit_date, Length: 226, dtype: int64\n",
      "\n",
      "Характеристика: hit_time\n",
      "Количество уникальных значений:  925887\n",
      "Список значений:  0.0          41137\n",
      "1.0          18522\n",
      "2.0          10101\n",
      "3.0           6060\n",
      "4.0           4478\n",
      "             ...  \n",
      "544067.0         1\n",
      "698726.0         1\n",
      "1200872.0        1\n",
      "1484143.0        1\n",
      "742820.0         1\n",
      "Name: hit_time, Length: 925887, dtype: int64\n",
      "\n",
      "Характеристика: hit_number\n",
      "Количество уникальных значений:  500\n",
      "Список значений:  3      1097355\n",
      "4       928038\n",
      "7       667634\n",
      "8       572076\n",
      "9       548347\n",
      "        ...   \n",
      "479         43\n",
      "497         43\n",
      "462         41\n",
      "494         41\n",
      "486         41\n",
      "Name: hit_number, Length: 500, dtype: int64\n",
      "\n",
      "Характеристика: hit_type\n",
      "Количество уникальных значений:  1\n",
      "Список значений:  event    15726470\n",
      "Name: hit_type, dtype: int64\n",
      "\n",
      "Характеристика: hit_referer\n",
      "Количество уникальных значений:  37873\n",
      "Список значений:  HbolMJUevblAbkHClEQa    8879187\n",
      "FwdMTcXzWAwhtsnMAbhS      91940\n",
      "sAGDBCdeVPmQPwkVEcIX      53565\n",
      "GQmOLxANuSeCxCanBpMl      35470\n",
      "ZeRnFrHdnMmnqraghdGJ      23016\n",
      "                         ...   \n",
      "VaOgrsicGpgIbzLNSDbc          1\n",
      "rSeuBRLEcgyWsXrSYQqh          1\n",
      "UNckxKWlzUxsKgvMBNdE          1\n",
      "YZNVwxZKSbzYIwrGrgdY          1\n",
      "tvGabHlPFDvTmIFiCKTL          1\n",
      "Name: hit_referer, Length: 37873, dtype: int64\n",
      "\n",
      "Характеристика: hit_page_path\n",
      "Количество уникальных значений:  342715\n",
      "Список значений:  podpiska.sberauto.com/                                                                                                                                                                                                  2793639\n",
      "sberauto.com/cars?city=1&rental_page=rental_only&rental_car=rental_only&city=18                                                                                                                                         1103484\n",
      "sberauto.com/cars?utm_source_initial=sbol&utm_medium_initial=banner&utm_campaign_initial=LEoPHuyFvzoNfnzGgfcd&utm_content_initial=vCIpmpaGBnIQhyYNkXqp&city=1&rental_page=rental_only&rental_car=rental_only&city=18     754215\n",
      "sberauto.com/cars/f28947a1?rental_page=rental_car                                                                                                                                                                        264878\n",
      "sberauto.com/cars/bf24b977?rental_page=rental_car                                                                                                                                                                        263966\n",
      "                                                                                                                                                                                                                         ...   \n",
      "podpiska.sberauto.com/?fbclid=iwar09fvzokgiv3gx81ai3dyf2qcny_qa4zgby20oxibjfb0n-xjfftpexqbq                                                                                                                                   1\n",
      "podpiska.sberauto.com/?fbclid=iwar05frzto9b6i3y-gkugl3rhizmjha7pznimzeix3tugv-6qdjdshjhwzrs                                                                                                                                   1\n",
      "podpiska.sberauto.com/?yclid=4999432059093308360                                                                                                                                                                              1\n",
      "podpiska.sberauto.com/?yclid=4994941468752008183                                                                                                                                                                              1\n",
      "sberauto.com/moskva/cars?datefrom=2021&rental_car=rental_only&rental_page=rental_only&page=2                                                                                                                                  1\n",
      "Name: hit_page_path, Length: 342715, dtype: int64\n",
      "\n",
      "Характеристика: event_category\n",
      "Количество уникальных значений:  52\n",
      "Список значений:  card_web                         7456998\n",
      "search_form                      2423605\n",
      "sub_page_view                    1986074\n",
      "sub_button_click                 1073471\n",
      "listing_ads                      1040468\n",
      "cars                              358915\n",
      "sap_search_form                   356596\n",
      "quiz                              263134\n",
      "auth                              189373\n",
      "sap_search__form                  188129\n",
      "jivosite                           88443\n",
      "chat                               85007\n",
      "ad_banner                          40441\n",
      "offers                             31218\n",
      "navigation                         27075\n",
      "footer                             20297\n",
      "sub_submit                         18495\n",
      "greenday_sub_button_click          15425\n",
      "main_banners                       14142\n",
      "profile_menu                       13879\n",
      "scrolling_main_page                12160\n",
      "active_invitation                   8478\n",
      "header                              3531\n",
      "my_idea                             2319\n",
      "greenday_listing_ads                1792\n",
      "main_services                       1464\n",
      "phone                               1212\n",
      "category_tile                        924\n",
      "greenday_gtm.triggergroup            766\n",
      "add_ad                               749\n",
      "greenday_sub_submit                  732\n",
      "credit_landing_pos                   274\n",
      "add_ad_additional_information        122\n",
      "main_advantages                      100\n",
      "add_ad_vin                            88\n",
      "pos_landing                           67\n",
      "add_ad_publish_success                65\n",
      "add_ad_options                        62\n",
      "add_ad_city                           59\n",
      "add_ad_photo                          55\n",
      "add_ad_price                          53\n",
      "add_ad_preview                        49\n",
      "add_ad_description                    48\n",
      "add_ad_documents                      46\n",
      "credit_buttons                        27\n",
      "wallet                                15\n",
      "tesla                                 10\n",
      "greenday_sub_page_view                 7\n",
      "add_ad_form                            4\n",
      "greenday_card_web                      4\n",
      "app_banner                             2\n",
      "titul_form                             1\n",
      "Name: event_category, dtype: int64\n",
      "\n",
      "Характеристика: event_action\n",
      "Количество уникальных значений:  230\n",
      "Список значений:  view_card                     3558985\n",
      "view_new_card                 3551009\n",
      "sub_landing                   1798117\n",
      "go_to_car_card                 973666\n",
      "sub_view_cars_click            791515\n",
      "                               ...   \n",
      "click_on_android                    1\n",
      "new_year_road_help_btn              1\n",
      "titul_page_view                     1\n",
      "show_pos_status_declined            1\n",
      "survey_buy_after_sell_when          1\n",
      "Name: event_action, Length: 230, dtype: int64\n",
      "\n",
      "Характеристика: event_label\n",
      "Количество уникальных значений:  39825\n",
      "Список значений:  KclpemfoHstknWHFiLit    6505447\n",
      "hAHqGICPFQiPwtzubOzs    1284914\n",
      "OHfyUfDKdPgBdvelDlfG     626554\n",
      "pzAKUYdRKNEUXxxBFUPX     358915\n",
      "ghOrjqpgskpGHSFfBBsi     342500\n",
      "                         ...   \n",
      "iFTveknOEiHmdgIHHqBZ          1\n",
      "WKfoFxrMANSjHQMIhCZr          1\n",
      "RAJXTkPWctNbMZubUIng          1\n",
      "jRptuMMybqHerOxplPYo          1\n",
      "aNlmojNIfsJaXKZHCDiU          1\n",
      "Name: event_label, Length: 39825, dtype: int64\n",
      "\n",
      "Характеристика: event_value\n",
      "Количество уникальных значений:  0\n",
      "Список значений:  Series([], Name: event_value, dtype: int64)\n"
     ]
    }
   ],
   "source": [
    "# Смотрим содержание таблицы: количество уникальных значений в столбцах, их список\n",
    "df_info_uniq(df_out)"
   ]
  },
  {
   "cell_type": "code",
   "execution_count": 18,
   "id": "fc1bc200",
   "metadata": {},
   "outputs": [
    {
     "data": {
      "text/plain": [
       "<AxesSubplot:>"
      ]
     },
     "execution_count": 18,
     "metadata": {},
     "output_type": "execute_result"
    },
    {
     "data": {
      "image/png": "[encoded data removed]",
      "text/plain": [
       "<Figure size 1800x720 with 2 Axes>"
      ]
     },
     "metadata": {
      "needs_background": "light"
     },
     "output_type": "display_data"
    }
   ],
   "source": [
    "# Изучаем визуальное отображение полноты данных таблицы\n",
    "msno.matrix(df_out)"
   ]
  },
  {
   "cell_type": "code",
   "execution_count": 22,
   "id": "acb191e9",
   "metadata": {},
   "outputs": [
    {
     "name": "stdout",
     "output_type": "stream",
     "text": [
      "Процент пропущенных значений:\n"
     ]
    },
    {
     "data": {
      "text/plain": [
       "event_value       100.000000\n",
       "hit_time           58.247795\n",
       "hit_referer        39.899634\n",
       "event_label        23.909905\n",
       "session_id          0.000000\n",
       "hit_date            0.000000\n",
       "hit_number          0.000000\n",
       "hit_type            0.000000\n",
       "hit_page_path       0.000000\n",
       "event_category      0.000000\n",
       "event_action        0.000000\n",
       "dtype: float64"
      ]
     },
     "execution_count": 22,
     "metadata": {},
     "output_type": "execute_result"
    }
   ],
   "source": [
    "# Проверим количество пропущенных значений по столбцам\n",
    "missing_values(df_out)"
   ]
  },
  {
   "cell_type": "markdown",
   "id": "d0d73b1f",
   "metadata": {},
   "source": [
    "- 7 колонок из 11 заполнены на 100%\n",
    "\n",
    "- 4 колонки не заполнены полностью (от 24 до 100%)\n",
    "\n",
    "- колонка event_value не заполнена совсем (100% данных отсутствуют)\n",
    "\n",
    "Все четыре колонки ('event_value', 'hit_time', 'hit_referer', 'event_label') для дальнейших действий не нужны,\n",
    "поэтому их можно удалить"
   ]
  },
  {
   "cell_type": "markdown",
   "id": "da4fc2e0",
   "metadata": {},
   "source": [
    "#### 1.1.2. Заполнение таблицы для работы, проверка качества заполнения, расчет параметра CR ('ga_hits.csv')"
   ]
  },
  {
   "cell_type": "code",
   "execution_count": 27,
   "id": "a08c0c30",
   "metadata": {},
   "outputs": [
    {
     "name": "stdout",
     "output_type": "stream",
     "text": [
      "(15726470, 7)\n",
      "Количество полностью заполненных объектов из всей выборки:  15726470\n",
      "Процент полностью заполненных объектов из всей выборки:  100.0\n"
     ]
    }
   ],
   "source": [
    "# Удаляем столбцы с пропущенными данными, проверяем итоговую размерность таблицы, а также процент заполнения выборки\n",
    "columns_for_drop = ['event_value', 'hit_time', 'hit_referer', 'event_label']\n",
    "df_prepared = df_out.drop(df_out[columns_for_drop], axis =1)\n",
    "print(df_prepared.shape)\n",
    "print_useful_rows_info(df_prepared)"
   ]
  },
  {
   "cell_type": "markdown",
   "id": "127f2a95",
   "metadata": {},
   "source": [
    "Формируем столбец CR (Convercion Rate) - конверсия из визита в любое целевое действие из списка:  \n",
    "\n",
    "Целевое действие — события типа «Оставить заявку» и «Заказать звонок» \n",
    "- (ga_hits.event_action in ['sub_car_claim_click', 'sub_car_claim_submit_click', \n",
    "'sub_open_dialog_click', 'sub_custom_question_submit_click', \n",
    "'sub_call_number_click', 'sub_callback_submit_click', 'sub_submit_success',\n",
    "'sub_car_request_submit_click']"
   ]
  },
  {
   "cell_type": "code",
   "execution_count": 28,
   "id": "74ae64bc",
   "metadata": {},
   "outputs": [
    {
     "name": "stdout",
     "output_type": "stream",
     "text": [
      "Количество уникальных значений:  2\n",
      "Список значений:  0    15621562\n",
      "1      104908\n",
      "Name: CR, dtype: int64\n"
     ]
    }
   ],
   "source": [
    "# Формируем столбец CR (Convercion Rate)\n",
    "df_prepared['CR'] = [1 if (x == 'sub_car_claim_click' or x =='sub_car_claim_submit_click' or x =='sub_open_dialog_click'\n",
    "    or x =='sub_custom_question_submit_click' or x =='sub_call_number_click'\n",
    "    or x =='sub_callback_submit_click' or x =='sub_submit_success' or x =='sub_car_request_submit_click')\n",
    "    else 0 for x in df_prepared['event_action']]\n",
    "# Проверяем количество целевых действий и их уникальность \n",
    "print('Количество уникальных значений: ', df_prepared['CR'].nunique())\n",
    "print('Список значений: ',  df_prepared['CR'].value_counts())"
   ]
  },
  {
   "cell_type": "markdown",
   "id": "12d755d0",
   "metadata": {},
   "source": [
    " ##### Целевых действий CR   ---     из 15 726 470    -  всего лишь 104 908, т.е. 0,67%"
   ]
  },
  {
   "cell_type": "markdown",
   "id": "5976d2d5",
   "metadata": {},
   "source": [
    "####  1.1.3.  Группировка по id и расчет суммарного CR  ('ga_hits.csv')"
   ]
  },
  {
   "cell_type": "code",
   "execution_count": 29,
   "id": "c7b6a2b9",
   "metadata": {},
   "outputs": [
    {
     "name": "stdout",
     "output_type": "stream",
     "text": [
      "(1734610, 2)\n"
     ]
    },
    {
     "data": {
      "text/html": [
       "<div>\n",
       "<style scoped>\n",
       "    .dataframe tbody tr th:only-of-type {\n",
       "        vertical-align: middle;\n",
       "    }\n",
       "\n",
       "    .dataframe tbody tr th {\n",
       "        vertical-align: top;\n",
       "    }\n",
       "\n",
       "    .dataframe thead th {\n",
       "        text-align: right;\n",
       "    }\n",
       "</style>\n",
       "<table border=\"1\" class=\"dataframe\">\n",
       "  <thead>\n",
       "    <tr style=\"text-align: right;\">\n",
       "      <th></th>\n",
       "      <th>session_id</th>\n",
       "      <th>CR_sum</th>\n",
       "    </tr>\n",
       "  </thead>\n",
       "  <tbody>\n",
       "    <tr>\n",
       "      <th>1281576</th>\n",
       "      <td>7140505447604038223.1630415440.1630415440</td>\n",
       "      <td>474</td>\n",
       "    </tr>\n",
       "    <tr>\n",
       "      <th>286145</th>\n",
       "      <td>2375944964542858067.1635025747.1635025747</td>\n",
       "      <td>83</td>\n",
       "    </tr>\n",
       "    <tr>\n",
       "      <th>676515</th>\n",
       "      <td>4245963133837464050.1640882501.1640882501</td>\n",
       "      <td>81</td>\n",
       "    </tr>\n",
       "  </tbody>\n",
       "</table>\n",
       "</div>"
      ],
      "text/plain": [
       "                                        session_id  CR_sum\n",
       "1281576  7140505447604038223.1630415440.1630415440     474\n",
       "286145   2375944964542858067.1635025747.1635025747      83\n",
       "676515   4245963133837464050.1640882501.1640882501      81"
      ]
     },
     "execution_count": 29,
     "metadata": {},
     "output_type": "execute_result"
    }
   ],
   "source": [
    "# Для работы принимаем значение 'CR_sum', 'CR_count' принимаем к сведению\n",
    "df_group_CR_sum = df_prepared.groupby('session_id')['CR'].sum().reset_index(name='CR_sum').sort_values(['CR_sum'], ascending=False)\n",
    "print(df_group_CR_sum.shape)\n",
    "df_group_CR_sum.head(3)"
   ]
  },
  {
   "cell_type": "markdown",
   "id": "24a03cab",
   "metadata": {},
   "source": [
    "#### 1.1.4. Определение признака марки и модели авто -- \"model_auto\" \n",
    "###### 1.1.4.1. Выделение и группировка данных по марке и модели авто"
   ]
  },
  {
   "cell_type": "code",
   "execution_count": 25,
   "id": "bd8fdac8",
   "metadata": {},
   "outputs": [
    {
     "name": "stdout",
     "output_type": "stream",
     "text": [
      "Количество уникальных значений:  148\n",
      "Список значений:  none               12217738\n",
      "skoda rapid          442513\n",
      "lada-vaz vesta       403910\n",
      "volkswagen polo      318075\n",
      "skoda karoq          194273\n",
      "                     ...   \n",
      "saab                      1\n",
      "ravon                     1\n",
      "haima                     1\n",
      "seat                      1\n",
      "dacia                     1\n",
      "Name: model_auto, Length: 148, dtype: int64\n"
     ]
    }
   ],
   "source": [
    "# Создаем столбец модели авто\n",
    "df_prepared['model_auto'] = df_prepared['hit_page_path'].apply(model_au)\n",
    "df_prepared.head(3)\n",
    "# Смотрим структуру нового столбца моделей авто\n",
    "df_prepared_auto = df_prepared\n",
    "print('Количество уникальных значений: ', df_prepared_auto['model_auto'].nunique())\n",
    "print('Список значений: ',  df_prepared_auto['model_auto'].value_counts())"
   ]
  },
  {
   "cell_type": "code",
   "execution_count": null,
   "id": "527d1a51",
   "metadata": {},
   "outputs": [],
   "source": [
    "# Исключаем из выборки для увеличения скорости обработки данных строки с нулевым значением марки авто (= 'none')\n",
    "df_auto_without_none = df_prepared_auto.drop(df_prepared_auto[(df_prepared_auto.model_auto == 'none')].index)\n",
    "df_auto_without_none_ = df_auto_without_none.drop(df_auto_without_none[(df_auto_without_none.model_auto == '')].index)"
   ]
  },
  {
   "cell_type": "code",
   "execution_count": null,
   "id": "9a4c409d",
   "metadata": {},
   "outputs": [],
   "source": [
    "# Сохраняем промежуточный файл с марками авто\n",
    "df_auto_without_none_.to_csv('data/df_auto_without_none_.csv', index = False)"
   ]
  },
  {
   "cell_type": "markdown",
   "id": "20b36d5c",
   "metadata": {},
   "source": [
    "###### 1.1.4.2.  Исследование популярности марки авто и формирование выборки с моделями авто"
   ]
  },
  {
   "cell_type": "code",
   "execution_count": 31,
   "id": "87efaad9",
   "metadata": {},
   "outputs": [
    {
     "name": "stdout",
     "output_type": "stream",
     "text": [
      "Размерность выборки с моделями авто (146, 3)\n",
      "Лидеры среди моделей автомобилей\n"
     ]
    },
    {
     "data": {
      "text/plain": [
       "<Figure size 432x288 with 0 Axes>"
      ]
     },
     "metadata": {},
     "output_type": "display_data"
    },
    {
     "data": {
      "image/png": "[encoded data removed]",
      "text/plain": [
       "<Figure size 1440x216 with 1 Axes>"
      ]
     },
     "metadata": {
      "needs_background": "light"
     },
     "output_type": "display_data"
    },
    {
     "data": {
      "text/plain": [
       "<Figure size 432x288 with 0 Axes>"
      ]
     },
     "metadata": {},
     "output_type": "display_data"
    },
    {
     "data": {
      "image/png": "[encoded data removed]",
      "text/plain": [
       "<Figure size 1440x216 with 1 Axes>"
      ]
     },
     "metadata": {
      "needs_background": "light"
     },
     "output_type": "display_data"
    }
   ],
   "source": [
    "df1 = pd.read_csv('data/df_auto_without_none_.csv')\n",
    "df1['CR_result'] = df1['CR']\n",
    "# Делаем группировку по моделям авто с подсчетом общего количества сессий и количества конверсий в результат\n",
    "stats_auto = gr_CR_and_count(df1, 'model_auto')\n",
    "print('Размерность выборки с моделями авто', stats_auto.shape)\n",
    "# Визуализируем лидеров \n",
    "vis_leaders_count_CR(stats_auto, 'model_auto', 'Лидеры среди моделей автомобилей')"
   ]
  },
  {
   "cell_type": "code",
   "execution_count": 27,
   "id": "02bfb65c",
   "metadata": {},
   "outputs": [
    {
     "data": {
      "text/plain": [
       "SignificanceResult(statistic=0.008159888740477536, pvalue=9.62126669069841e-53)"
      ]
     },
     "execution_count": 27,
     "metadata": {},
     "output_type": "execute_result"
    }
   ],
   "source": [
    "# Считаем корреляцию признаков целевой переменной и модели авто по коэффициенту Спирмена\n",
    "stats.spearmanr(df_auto_without_none['CR'], df_auto_without_none['model_auto'])"
   ]
  },
  {
   "cell_type": "markdown",
   "id": "44258cf0",
   "metadata": {},
   "source": [
    "Так как pvalue близка к 0, то гипотеза о влиянии марки авто на целевую переменную принимается с заданным уровнем значимости. \n",
    "\n",
    "Таким образом, модель авто может повлиять на конверсию в результат, и есть необходимость закодировать в столбцы все модели авто и после сгруппировать по сессиям"
   ]
  },
  {
   "cell_type": "markdown",
   "id": "26363144",
   "metadata": {},
   "source": [
    "###### 1.1.4.3.  Стандартизация категориальной переменной марки авто"
   ]
  },
  {
   "cell_type": "code",
   "execution_count": 32,
   "id": "1fbae01e",
   "metadata": {},
   "outputs": [
    {
     "data": {
      "text/html": [
       "<div>\n",
       "<style scoped>\n",
       "    .dataframe tbody tr th:only-of-type {\n",
       "        vertical-align: middle;\n",
       "    }\n",
       "\n",
       "    .dataframe tbody tr th {\n",
       "        vertical-align: top;\n",
       "    }\n",
       "\n",
       "    .dataframe thead th {\n",
       "        text-align: right;\n",
       "    }\n",
       "</style>\n",
       "<table border=\"1\" class=\"dataframe\">\n",
       "  <thead>\n",
       "    <tr style=\"text-align: right;\">\n",
       "      <th></th>\n",
       "      <th>session_id</th>\n",
       "      <th>CR_result</th>\n",
       "      <th>x0_acura</th>\n",
       "      <th>x0_alfa-romeo</th>\n",
       "      <th>x0_asia</th>\n",
       "      <th>x0_audi</th>\n",
       "      <th>x0_audi a3</th>\n",
       "      <th>x0_audi a4</th>\n",
       "      <th>x0_audi a5</th>\n",
       "      <th>x0_audi e-tron</th>\n",
       "      <th>...</th>\n",
       "      <th>x0_volkswagen passat-cc</th>\n",
       "      <th>x0_volkswagen polo</th>\n",
       "      <th>x0_volkswagen taos</th>\n",
       "      <th>x0_volkswagen teramont</th>\n",
       "      <th>x0_volkswagen tiguan</th>\n",
       "      <th>x0_volkswagen touareg</th>\n",
       "      <th>x0_volvo</th>\n",
       "      <th>x0_volvo s90</th>\n",
       "      <th>x0_vortex</th>\n",
       "      <th>x0_zaz</th>\n",
       "    </tr>\n",
       "  </thead>\n",
       "  <tbody>\n",
       "    <tr>\n",
       "      <th>3</th>\n",
       "      <td>1000043953525145011.1638186424.1638186424</td>\n",
       "      <td>0</td>\n",
       "      <td>0.0</td>\n",
       "      <td>0.0</td>\n",
       "      <td>0.0</td>\n",
       "      <td>0.0</td>\n",
       "      <td>0.0</td>\n",
       "      <td>0.0</td>\n",
       "      <td>0.0</td>\n",
       "      <td>0.0</td>\n",
       "      <td>...</td>\n",
       "      <td>0.0</td>\n",
       "      <td>12.0</td>\n",
       "      <td>0.0</td>\n",
       "      <td>0.0</td>\n",
       "      <td>0.0</td>\n",
       "      <td>0.0</td>\n",
       "      <td>0.0</td>\n",
       "      <td>0.0</td>\n",
       "      <td>0.0</td>\n",
       "      <td>0.0</td>\n",
       "    </tr>\n",
       "    <tr>\n",
       "      <th>8</th>\n",
       "      <td>1000086147286198824.1640524329.1640524329</td>\n",
       "      <td>0</td>\n",
       "      <td>0.0</td>\n",
       "      <td>0.0</td>\n",
       "      <td>0.0</td>\n",
       "      <td>0.0</td>\n",
       "      <td>0.0</td>\n",
       "      <td>0.0</td>\n",
       "      <td>0.0</td>\n",
       "      <td>0.0</td>\n",
       "      <td>...</td>\n",
       "      <td>0.0</td>\n",
       "      <td>14.0</td>\n",
       "      <td>0.0</td>\n",
       "      <td>0.0</td>\n",
       "      <td>0.0</td>\n",
       "      <td>0.0</td>\n",
       "      <td>0.0</td>\n",
       "      <td>0.0</td>\n",
       "      <td>0.0</td>\n",
       "      <td>0.0</td>\n",
       "    </tr>\n",
       "  </tbody>\n",
       "</table>\n",
       "<p>2 rows × 148 columns</p>\n",
       "</div>"
      ],
      "text/plain": [
       "                                  session_id  CR_result  x0_acura  \\\n",
       "3  1000043953525145011.1638186424.1638186424          0       0.0   \n",
       "8  1000086147286198824.1640524329.1640524329          0       0.0   \n",
       "\n",
       "   x0_alfa-romeo  x0_asia  x0_audi  x0_audi a3  x0_audi a4  x0_audi a5  \\\n",
       "3            0.0      0.0      0.0         0.0         0.0         0.0   \n",
       "8            0.0      0.0      0.0         0.0         0.0         0.0   \n",
       "\n",
       "   x0_audi e-tron  ...  x0_volkswagen passat-cc  x0_volkswagen polo  \\\n",
       "3             0.0  ...                      0.0                12.0   \n",
       "8             0.0  ...                      0.0                14.0   \n",
       "\n",
       "   x0_volkswagen taos  x0_volkswagen teramont  x0_volkswagen tiguan  \\\n",
       "3                 0.0                     0.0                   0.0   \n",
       "8                 0.0                     0.0                   0.0   \n",
       "\n",
       "   x0_volkswagen touareg  x0_volvo  x0_volvo s90  x0_vortex  x0_zaz  \n",
       "3                    0.0       0.0           0.0        0.0     0.0  \n",
       "8                    0.0       0.0           0.0        0.0     0.0  \n",
       "\n",
       "[2 rows x 148 columns]"
      ]
     },
     "execution_count": 32,
     "metadata": {},
     "output_type": "execute_result"
    }
   ],
   "source": [
    "# Удаляем все столбцы кроме марки модели\n",
    "df1 = df1.drop(columns=['hit_date','hit_number', 'hit_type', 'hit_page_path', 'event_category', 'event_action', 'CR'])\n",
    "# Раскладываем категориальную переменную марки авто\n",
    "df2 = df1\n",
    "ohe = OneHotEncoder(sparse=False)\n",
    "ohe.fit(df2[['model_auto']])\n",
    "ohe_fuel = ohe.transform(df2[['model_auto']])\n",
    "ohe.get_feature_names()\n",
    "df2[ohe.get_feature_names()] = ohe_fuel\n",
    "# Группируем по сессии и суммируем значения по столбцам\n",
    "df3 = df2.groupby('session_id').sum().reset_index()\n",
    "# Проверяем результат\n",
    "df3[df3['x0_volkswagen polo']>=1].head(2)"
   ]
  },
  {
   "cell_type": "code",
   "execution_count": 126,
   "id": "1475efce",
   "metadata": {},
   "outputs": [],
   "source": [
    "# Сохраняем выборку с марками авто с файл\n",
    "df3.to_csv('data/session_with_model_auto_cat.csv', index=False)"
   ]
  },
  {
   "cell_type": "markdown",
   "id": "4dcdde43",
   "metadata": {},
   "source": [
    "Столбцы с марками авто присоединим к общей выборке в последнюю очередь при подготовке к моделированию"
   ]
  },
  {
   "cell_type": "markdown",
   "id": "d3782a01",
   "metadata": {},
   "source": [
    "### 1.2.  ИССЛЕДОВАНИЕ ИСХОДНОГО ФАЙЛА 'ga_sessions.csv'\n",
    "Проверен файл с расширением .pkl, его содержание аналогично, поэтому сразу работаем с ga_sessions.csv"
   ]
  },
  {
   "cell_type": "code",
   "execution_count": 25,
   "id": "75778402",
   "metadata": {},
   "outputs": [],
   "source": [
    "df_ga_sessions = pd.read_csv('data/ga_sessions.csv')"
   ]
  },
  {
   "cell_type": "markdown",
   "id": "0818ea61",
   "metadata": {},
   "source": [
    "#### 1.2.1.  Присоединение параметра конверсии - CR\n",
    "Количество строк получилось  1 732 266"
   ]
  },
  {
   "cell_type": "code",
   "execution_count": 30,
   "id": "0941156d",
   "metadata": {},
   "outputs": [
    {
     "name": "stdout",
     "output_type": "stream",
     "text": [
      "Размер выборки - (1732266, 19)\n",
      "Состав выборки - Index(['session_id', 'client_id', 'visit_date', 'visit_time', 'visit_number',\n",
      "       'utm_source', 'utm_medium', 'utm_campaign', 'utm_adcontent',\n",
      "       'utm_keyword', 'device_category', 'device_os', 'device_brand',\n",
      "       'device_model', 'device_screen_resolution', 'device_browser',\n",
      "       'geo_country', 'geo_city', 'CR_sum'],\n",
      "      dtype='object')\n"
     ]
    },
    {
     "data": {
      "text/html": [
       "<div>\n",
       "<style scoped>\n",
       "    .dataframe tbody tr th:only-of-type {\n",
       "        vertical-align: middle;\n",
       "    }\n",
       "\n",
       "    .dataframe tbody tr th {\n",
       "        vertical-align: top;\n",
       "    }\n",
       "\n",
       "    .dataframe thead th {\n",
       "        text-align: right;\n",
       "    }\n",
       "</style>\n",
       "<table border=\"1\" class=\"dataframe\">\n",
       "  <thead>\n",
       "    <tr style=\"text-align: right;\">\n",
       "      <th></th>\n",
       "      <th>session_id</th>\n",
       "      <th>client_id</th>\n",
       "      <th>visit_date</th>\n",
       "      <th>visit_time</th>\n",
       "      <th>visit_number</th>\n",
       "      <th>utm_source</th>\n",
       "      <th>utm_medium</th>\n",
       "      <th>utm_campaign</th>\n",
       "      <th>utm_adcontent</th>\n",
       "      <th>utm_keyword</th>\n",
       "      <th>device_category</th>\n",
       "      <th>device_os</th>\n",
       "      <th>device_brand</th>\n",
       "      <th>device_model</th>\n",
       "      <th>device_screen_resolution</th>\n",
       "      <th>device_browser</th>\n",
       "      <th>geo_country</th>\n",
       "      <th>geo_city</th>\n",
       "      <th>CR_sum</th>\n",
       "    </tr>\n",
       "  </thead>\n",
       "  <tbody>\n",
       "    <tr>\n",
       "      <th>0</th>\n",
       "      <td>9055434745589932991.1637753792.1637753792</td>\n",
       "      <td>2108382700.163776</td>\n",
       "      <td>2021-11-24</td>\n",
       "      <td>14:36:32</td>\n",
       "      <td>1</td>\n",
       "      <td>ZpYIoDJMcFzVoPFsHGJL</td>\n",
       "      <td>banner</td>\n",
       "      <td>LEoPHuyFvzoNfnzGgfcd</td>\n",
       "      <td>vCIpmpaGBnIQhyYNkXqp</td>\n",
       "      <td>puhZPIYqKXeFPaUviSjo</td>\n",
       "      <td>mobile</td>\n",
       "      <td>Android</td>\n",
       "      <td>Huawei</td>\n",
       "      <td>NaN</td>\n",
       "      <td>360x720</td>\n",
       "      <td>Chrome</td>\n",
       "      <td>Russia</td>\n",
       "      <td>Zlatoust</td>\n",
       "      <td>0</td>\n",
       "    </tr>\n",
       "    <tr>\n",
       "      <th>1</th>\n",
       "      <td>905544597018549464.1636867290.1636867290</td>\n",
       "      <td>210838531.163687</td>\n",
       "      <td>2021-11-14</td>\n",
       "      <td>08:21:30</td>\n",
       "      <td>1</td>\n",
       "      <td>MvfHsxITijuriZxsqZqt</td>\n",
       "      <td>cpm</td>\n",
       "      <td>FTjNLDyTrXaWYgZymFkV</td>\n",
       "      <td>xhoenQgDQsgfEPYNPwKO</td>\n",
       "      <td>IGUCNvHlhfHpROGclCit</td>\n",
       "      <td>mobile</td>\n",
       "      <td>Android</td>\n",
       "      <td>Samsung</td>\n",
       "      <td>NaN</td>\n",
       "      <td>385x854</td>\n",
       "      <td>Samsung Internet</td>\n",
       "      <td>Russia</td>\n",
       "      <td>Moscow</td>\n",
       "      <td>0</td>\n",
       "    </tr>\n",
       "    <tr>\n",
       "      <th>2</th>\n",
       "      <td>9055446045651783499.1640648526.1640648526</td>\n",
       "      <td>2108385331.164065</td>\n",
       "      <td>2021-12-28</td>\n",
       "      <td>02:42:06</td>\n",
       "      <td>1</td>\n",
       "      <td>ZpYIoDJMcFzVoPFsHGJL</td>\n",
       "      <td>banner</td>\n",
       "      <td>LEoPHuyFvzoNfnzGgfcd</td>\n",
       "      <td>vCIpmpaGBnIQhyYNkXqp</td>\n",
       "      <td>puhZPIYqKXeFPaUviSjo</td>\n",
       "      <td>mobile</td>\n",
       "      <td>Android</td>\n",
       "      <td>Huawei</td>\n",
       "      <td>NaN</td>\n",
       "      <td>360x720</td>\n",
       "      <td>Chrome</td>\n",
       "      <td>Russia</td>\n",
       "      <td>Krasnoyarsk</td>\n",
       "      <td>0</td>\n",
       "    </tr>\n",
       "  </tbody>\n",
       "</table>\n",
       "</div>"
      ],
      "text/plain": [
       "                                  session_id          client_id  visit_date  \\\n",
       "0  9055434745589932991.1637753792.1637753792  2108382700.163776  2021-11-24   \n",
       "1   905544597018549464.1636867290.1636867290   210838531.163687  2021-11-14   \n",
       "2  9055446045651783499.1640648526.1640648526  2108385331.164065  2021-12-28   \n",
       "\n",
       "  visit_time  visit_number            utm_source utm_medium  \\\n",
       "0   14:36:32             1  ZpYIoDJMcFzVoPFsHGJL     banner   \n",
       "1   08:21:30             1  MvfHsxITijuriZxsqZqt        cpm   \n",
       "2   02:42:06             1  ZpYIoDJMcFzVoPFsHGJL     banner   \n",
       "\n",
       "           utm_campaign         utm_adcontent           utm_keyword  \\\n",
       "0  LEoPHuyFvzoNfnzGgfcd  vCIpmpaGBnIQhyYNkXqp  puhZPIYqKXeFPaUviSjo   \n",
       "1  FTjNLDyTrXaWYgZymFkV  xhoenQgDQsgfEPYNPwKO  IGUCNvHlhfHpROGclCit   \n",
       "2  LEoPHuyFvzoNfnzGgfcd  vCIpmpaGBnIQhyYNkXqp  puhZPIYqKXeFPaUviSjo   \n",
       "\n",
       "  device_category device_os device_brand device_model  \\\n",
       "0          mobile   Android       Huawei          NaN   \n",
       "1          mobile   Android      Samsung          NaN   \n",
       "2          mobile   Android       Huawei          NaN   \n",
       "\n",
       "  device_screen_resolution    device_browser geo_country     geo_city  CR_sum  \n",
       "0                  360x720            Chrome      Russia     Zlatoust       0  \n",
       "1                  385x854  Samsung Internet      Russia       Moscow       0  \n",
       "2                  360x720            Chrome      Russia  Krasnoyarsk       0  "
      ]
     },
     "execution_count": 30,
     "metadata": {},
     "output_type": "execute_result"
    }
   ],
   "source": [
    "# Делаем объединение таблиц  с признаком 'inner', так как признак CR является основным, на котором строится вся \n",
    "# аналитикаследует исключить все строки, в которых нет данной информации, т.е. 'session_id',  которые были в \n",
    "# таблице 'ga_sessions.csv', но не было в таблице 'ga_hits.csv'.\n",
    "df_join_ = pd.merge(df_ga_sessions, df_group_CR_sum, how='inner') \n",
    "df_info_(df_join_)"
   ]
  },
  {
   "cell_type": "markdown",
   "id": "fb9d8e12",
   "metadata": {},
   "source": [
    "ga_sessions.csv - одна строка = один визит на сайт\n",
    "\n",
    "1. session_id - ID визита\n",
    "2. client_id - ID посетителя\n",
    "3. visit_date - дата визита\n",
    "4. visit_time - время визита\n",
    "5. visit_number - порядковый номер визита клиента\n",
    "6. utm_source - канал привлечения\n",
    "7. utm_medium - тип привлечения\n",
    "8. utm_campaign - рекламная кампания\n",
    "9. utm_adcontent - ключевое слово\n",
    "10. utm_keyword - тип устройства\n",
    "11. device_category - ОС устройства\n",
    "12. device_os - марка ОС устройства\n",
    "13. device_brand - марка устройства\n",
    "14. device_model - модель устройства\n",
    "15. device_screen_resolution - разрешение экрана\n",
    "16. device_browser - браузер\n",
    "17. geo_country - страна\n",
    "18. geo_city - город\n",
    "\n",
    "df_join.csv + еще три столбца к таблице ga_sessions.csv\n",
    "\n",
    "19. CR_sum - суммарная конверсия"
   ]
  },
  {
   "cell_type": "markdown",
   "id": "226509c9",
   "metadata": {},
   "source": [
    "### 1.3.  DATA CLEANING рабочей выборки \n",
    "#### 1.3.1. Исследование исходных данных "
   ]
  },
  {
   "cell_type": "code",
   "execution_count": 44,
   "id": "104c7264",
   "metadata": {},
   "outputs": [
    {
     "data": {
      "image/png": "[encoded data removed]",
      "text/plain": [
       "<Figure size 1800x720 with 2 Axes>"
      ]
     },
     "metadata": {
      "needs_background": "light"
     },
     "output_type": "display_data"
    }
   ],
   "source": [
    "# Визуально посмотрим информацию в столбцах на предмет отсутствующих данных\n",
    "msno.matrix(df_join_);"
   ]
  },
  {
   "cell_type": "code",
   "execution_count": 71,
   "id": "1c6dc0aa",
   "metadata": {},
   "outputs": [
    {
     "name": "stdout",
     "output_type": "stream",
     "text": [
      "\n",
      "Характеристика: session_id\n",
      "Количество уникальных значений:  1732266\n",
      "Список значений:  9055434745589932991.1637753792.1637753792    1\n",
      "629529258169981545.1626332167.1626332167     1\n",
      "6295352713792576176.1634065074.1634065074    1\n",
      "6295350622136026841.1626588901.1626588901    1\n",
      "6295349887709233242.1639202906.1639202906    1\n",
      "                                            ..\n",
      "3524000133754500026.1625142208.1625142208    1\n",
      "3523993785803856201.1636161866.1636161866    1\n",
      "352398731068897298.1621686290.1621686290     1\n",
      "3523985479341028705.1640084833.1640084833    1\n",
      "9055430416266113553.1640968742.1640968742    1\n",
      "Name: session_id, Length: 1732266, dtype: int64\n",
      "\n",
      "Характеристика: client_id\n",
      "Количество уникальных значений:  1320702\n",
      "Список значений:  1.750498e+09    449\n",
      "1.266575e+09    303\n",
      "7.368596e+08    301\n",
      "1.894772e+09    270\n",
      "1.065182e+09    256\n",
      "               ... \n",
      "8.760138e+08      1\n",
      "8.760135e+07      1\n",
      "8.760101e+07      1\n",
      "8.760069e+08      1\n",
      "2.108382e+09      1\n",
      "Name: client_id, Length: 1320702, dtype: int64\n",
      "\n",
      "Характеристика: visit_date\n",
      "Количество уникальных значений:  226\n",
      "Список значений:  2021-05-24    39230\n",
      "2021-12-21    29864\n",
      "2021-05-25    19160\n",
      "2021-06-29    16887\n",
      "2021-09-14    15583\n",
      "              ...  \n",
      "2021-06-05     2032\n",
      "2021-05-23     1109\n",
      "2021-05-21      826\n",
      "2021-05-22      761\n",
      "2021-05-19      703\n",
      "Name: visit_date, Length: 226, dtype: int64\n",
      "\n",
      "Характеристика: visit_time\n",
      "Количество уникальных значений:  85032\n",
      "Список значений:  13:00:00    58044\n",
      "12:00:00    57540\n",
      "14:00:00    56824\n",
      "10:00:00    56739\n",
      "11:00:00    56270\n",
      "            ...  \n",
      "05:28:49        1\n",
      "03:44:30        1\n",
      "03:36:26        1\n",
      "03:53:01        1\n",
      "04:30:09        1\n",
      "Name: visit_time, Length: 85032, dtype: int64\n",
      "\n",
      "Характеристика: visit_number\n",
      "Количество уникальных значений:  533\n",
      "Список значений:  1      1301099\n",
      "2       212176\n",
      "3        71835\n",
      "4        36600\n",
      "5        21482\n",
      "        ...   \n",
      "418          1\n",
      "419          1\n",
      "420          1\n",
      "421          1\n",
      "564          1\n",
      "Name: visit_number, Length: 533, dtype: int64\n",
      "\n",
      "Характеристика: utm_source\n",
      "Количество уникальных значений:  280\n",
      "Список значений:  ZpYIoDJMcFzVoPFsHGJL    552555\n",
      "fDLlAcSmythWSCVMvqvL    277060\n",
      "kjsLglQLzykiRbcDiGcD    245178\n",
      "MvfHsxITijuriZxsqZqt    175831\n",
      "BHcvLfOaCWvWTykYqHVe    110963\n",
      "                         ...  \n",
      "DWvtKQncdpXXfLBjBmGj         1\n",
      "ZsHOHNXkbhgIDlKNiFMf         1\n",
      "hYVrCkhCPSqKBhZYhWVq         1\n",
      "OboZzsWwJIeGPLeiLGMq         1\n",
      "sbJRYgVfvcnqKJNDDYIr         1\n",
      "Name: utm_source, Length: 280, dtype: int64\n",
      "\n",
      "Характеристика: utm_medium\n",
      "Количество уникальных значений:  55\n",
      "Список значений:  banner               525206\n",
      "cpc                  399395\n",
      "(none)               277060\n",
      "cpm                  229791\n",
      "referral             136851\n",
      "organic               55009\n",
      "email                 28287\n",
      "push                  27710\n",
      "stories               10472\n",
      "cpv                    7815\n",
      "blogger_channel        7731\n",
      "smartbanner            6501\n",
      "blogger_stories        4226\n",
      "tg                     3920\n",
      "cpa                    3266\n",
      "post                   2227\n",
      "outlook                1269\n",
      "app                    1211\n",
      "smm                    1194\n",
      "clicks                  908\n",
      "blogger_header          760\n",
      "(not set)               405\n",
      "info_text               335\n",
      "sms                     194\n",
      "landing                 127\n",
      "partner                  95\n",
      "link                     52\n",
      "cbaafe                   43\n",
      "CPM                      36\n",
      "yandex_cpc               31\n",
      "vk_smm                   25\n",
      "static                   17\n",
      "google_cpc               15\n",
      "article                  15\n",
      "web_polka                11\n",
      "fb_smm                    8\n",
      "medium                    8\n",
      "ok_smm                    6\n",
      "nkp                       5\n",
      "social                    5\n",
      "catalogue                 4\n",
      "main_polka                3\n",
      "linktest                  2\n",
      "users_msk                 2\n",
      "reach                     2\n",
      "promo_sber                2\n",
      "last                      1\n",
      "qrcodevideo               1\n",
      "qr                        1\n",
      "dom_click                 1\n",
      "promo_sbol                1\n",
      "tablet                    1\n",
      "landing_interests         1\n",
      "Sbol_catalog              1\n",
      "sber_app                  1\n",
      "Name: utm_medium, dtype: int64\n",
      "\n",
      "Характеристика: utm_campaign\n",
      "Количество уникальных значений:  406\n",
      "Список значений:  LTuZkdKfxRGVceoWkVyg    422992\n",
      "LEoPHuyFvzoNfnzGgfcd    321286\n",
      "FTjNLDyTrXaWYgZymFkV    234950\n",
      "gecBYcKZCPMcVYdSSzKP    133247\n",
      "XHNUiSKKGTEpSAlaVMFQ     23750\n",
      "                         ...  \n",
      "zXjuoqEaPElBnwpSHMpx         1\n",
      "cqgnjDbqrtCipVvzhxqa         1\n",
      "AdtHYglxfCpTpwZeTAuW         1\n",
      "qPDTdivQVeflLjTYIJnG         1\n",
      "cXxuwXPoQCvAXPHpFcZl         1\n",
      "Name: utm_campaign, Length: 406, dtype: int64\n",
      "\n",
      "Характеристика: utm_adcontent\n",
      "Количество уникальных значений:  280\n",
      "Список значений:  JNHcPlZPxEMWDnRiyoBf    935408\n",
      "vCIpmpaGBnIQhyYNkXqp    179438\n",
      "xhoenQgDQsgfEPYNPwKO    104381\n",
      "PkybGvWbaqORmxjNunqZ     59038\n",
      "LLfCasrxQzJIyuldcuWy     18138\n",
      "                         ...  \n",
      "fiImkyBmzQSeAeQEVCDZ         1\n",
      "uUDFLZnWKzkthhRGUTvb         1\n",
      "vXARZToVDdvNhALiQtvl         1\n",
      "gQEnaeQmOHisHSTEyzhp         1\n",
      "oJivRDNIrrOckRBIKOtG         1\n",
      "Name: utm_adcontent, Length: 280, dtype: int64\n",
      "\n",
      "Характеристика: utm_keyword\n",
      "Количество уникальных значений:  1192\n",
      "Список значений:  puhZPIYqKXeFPaUviSjo    465950\n",
      "aXQzDWsJuGXeBXexNHjc     18154\n",
      "ITfrGJNwVsHBGJMAKoct     12395\n",
      "pHqgLcdBQPSLcrTpLkdr     12320\n",
      "hAmNSZmQkKQKAjZEGlgb     10422\n",
      "                         ...  \n",
      "XsuVVTgiDIxZtndPjvDm         1\n",
      "WhaUakldaAmpLumfaADO         1\n",
      "nJVPLgfxsBtPAXttNVDI         1\n",
      "nwKBdMZKktIQFvhZwbFe         1\n",
      "fcXWTQaKfxbkBkBnzLhK         1\n",
      "Name: utm_keyword, Length: 1192, dtype: int64\n",
      "\n",
      "Характеристика: device_category\n",
      "Количество уникальных значений:  3\n",
      "Список значений:  mobile     1368679\n",
      "desktop     346891\n",
      "tablet       16696\n",
      "Name: device_category, dtype: int64\n",
      "\n",
      "Характеристика: device_os\n",
      "Количество уникальных значений:  13\n",
      "Список значений:  Android          425520\n",
      "iOS              182597\n",
      "Windows           81740\n",
      "Macintosh         23415\n",
      "Linux              4616\n",
      "(not set)           309\n",
      "Chrome OS            65\n",
      "BlackBerry           24\n",
      "Tizen                 7\n",
      "Firefox OS            3\n",
      "Nokia                 2\n",
      "Samsung               2\n",
      "Windows Phone         2\n",
      "Name: device_os, dtype: int64\n",
      "\n",
      "Характеристика: device_brand\n",
      "Количество уникальных значений:  200\n",
      "Список значений:  Apple        503533\n",
      "Samsung      311641\n",
      "Xiaomi       269251\n",
      "Huawei       173828\n",
      "Realme        17926\n",
      "              ...  \n",
      "Smarteo           1\n",
      "Star              1\n",
      "Mobiistar         1\n",
      "Fero              1\n",
      "Maxvi             1\n",
      "Name: device_brand, Length: 200, dtype: int64\n",
      "\n",
      "Характеристика: device_model\n",
      "Количество уникальных значений:  104\n",
      "Список значений:  AuMdmADEIoPXiWpTsBEj    9018\n",
      "tWBQlsvNfHxRUjaPAfhd     596\n",
      "cwMJxNXiWUgMUxGiCTPs     586\n",
      "pTgAEPipQxDXCjPrJbHo     430\n",
      "FJApgTrMAGHoxCxQVKws     347\n",
      "                        ... \n",
      "VDidzTqFGxuqiRQJGrwB       1\n",
      "hOhIHYHnDhUlkzDoZJdA       1\n",
      "zcovoWIWBZLooJXEJyTD       1\n",
      "aWSBcBZlKorTFjJGlWKG       1\n",
      "qmRODeCJLlmkmwxNYXvp       1\n",
      "Name: device_model, Length: 104, dtype: int64\n",
      "\n",
      "Характеристика: device_screen_resolution\n",
      "Количество уникальных значений:  4947\n",
      "Список значений:  414x896      155140\n",
      "1920x1080    119214\n",
      "393x851      107972\n",
      "375x812      106961\n",
      "360x780       86718\n",
      "              ...  \n",
      "620x1090          1\n",
      "514x1129          1\n",
      "496x600           1\n",
      "841x421           1\n",
      "464x1123          1\n",
      "Name: device_screen_resolution, Length: 4947, dtype: int64\n",
      "\n",
      "Характеристика: device_browser\n",
      "Количество уникальных значений:  55\n",
      "Список значений:  Chrome                              951573\n",
      "Safari                              436705\n",
      "YaBrowser                           123765\n",
      "Safari (in-app)                      65952\n",
      "Android Webview                      51919\n",
      "Samsung Internet                     44273\n",
      "Opera                                25094\n",
      "Firefox                              15738\n",
      "Edge                                 15196\n",
      "UC Browser                             815\n",
      "Mozilla Compatible Agent               336\n",
      "Android Runtime                        241\n",
      "[FBAN                                  115\n",
      "Instagram 208.0.0.32.135 Android        72\n",
      "MRCHROME                                72\n",
      "Instagram 209.0.0.21.119 Android        49\n",
      "Android Browser                         47\n",
      "Puffin                                  43\n",
      "Maxthon                                 30\n",
      "Internet Explorer                       24\n",
      "Opera Mini                              23\n",
      "Android                                 19\n",
      "Instagram 202.0.0.23.119                17\n",
      "Mozilla                                 16\n",
      "Instagram 194.0.0.36.172 Android        14\n",
      "Instagram 202.0.0.37.123 Android        12\n",
      "(not set)                               11\n",
      "com.vk.vkclient                          8\n",
      "Instagram 212.0.0.38.119 Android         6\n",
      "Coc Coc                                  6\n",
      "helloworld                               6\n",
      "Instagram 203.0.0.26.117                 6\n",
      "Instagram 192.0.0.37.119                 6\n",
      "Amazon Silk                              6\n",
      "Instagram 201.0.0.23.111                 5\n",
      "Instagram 216.0.0.12.135                 4\n",
      "Instagram 213.0.0.29.120 Android         4\n",
      "Instagram 207.0.0.28.118                 4\n",
      "Instagram 216.1.0.21.137 Android         4\n",
      "SeaMonkey                                3\n",
      "Instagram 213.0.0.19.117                 3\n",
      "Instagram 192.0.0.35.123 Android         3\n",
      "Instagram 158.0.0.30.123 Android         3\n",
      "MyApp                                    2\n",
      "Iron                                     2\n",
      "Instagram 199.0.0.27.120                 2\n",
      "Instagram 208.0.0.26.131                 2\n",
      "Instagram 199.1.0.34.119 Android         2\n",
      "NetFront                                 2\n",
      "MT6735_TD                                1\n",
      "NokiaX2-02                               1\n",
      "Nokia501                                 1\n",
      "com.zhiliaoapp.musically                 1\n",
      "Konqueror                                1\n",
      "Threads 202.0.0.23.119                   1\n",
      "Name: device_browser, dtype: int64\n",
      "\n",
      "Характеристика: geo_country\n",
      "Количество уникальных значений:  159\n"
     ]
    },
    {
     "name": "stdout",
     "output_type": "stream",
     "text": [
      "Список значений:  Russia                 1682423\n",
      "Ukraine                   8455\n",
      "United States             8141\n",
      "Belarus                   3432\n",
      "Kazakhstan                2109\n",
      "                        ...   \n",
      "Paraguay                     1\n",
      "New Caledonia                1\n",
      "Puerto Rico                  1\n",
      "Yemen                        1\n",
      "Congo - Brazzaville          1\n",
      "Name: geo_country, Length: 159, dtype: int64\n",
      "\n",
      "Характеристика: geo_city\n",
      "Количество уникальных значений:  2389\n",
      "Список значений:  Moscow              750928\n",
      "Saint Petersburg    278402\n",
      "(not set)            73297\n",
      "Yekaterinburg        33555\n",
      "Krasnodar            30260\n",
      "                     ...  \n",
      "Oldbury                  1\n",
      "Bad Breisig              1\n",
      "Ilza                     1\n",
      "Svishtov                 1\n",
      "Compiegne                1\n",
      "Name: geo_city, Length: 2389, dtype: int64\n",
      "\n",
      "Характеристика: CR_sum\n",
      "Количество уникальных значений:  52\n",
      "Список значений:  0      1681952\n",
      "1        27273\n",
      "3        11232\n",
      "2         6955\n",
      "4         2520\n",
      "6          809\n",
      "5          809\n",
      "7          210\n",
      "8          117\n",
      "9          104\n",
      "10          73\n",
      "12          29\n",
      "11          22\n",
      "14          19\n",
      "18          17\n",
      "13          13\n",
      "16          10\n",
      "24           8\n",
      "22           8\n",
      "17           7\n",
      "21           7\n",
      "35           6\n",
      "23           6\n",
      "20           6\n",
      "19           6\n",
      "27           5\n",
      "25           5\n",
      "15           4\n",
      "39           3\n",
      "30           3\n",
      "28           3\n",
      "38           2\n",
      "26           2\n",
      "42           2\n",
      "33           2\n",
      "67           1\n",
      "474          1\n",
      "48           1\n",
      "31           1\n",
      "29           1\n",
      "50           1\n",
      "46           1\n",
      "81           1\n",
      "44           1\n",
      "41           1\n",
      "83           1\n",
      "36           1\n",
      "43           1\n",
      "49           1\n",
      "47           1\n",
      "74           1\n",
      "73           1\n",
      "Name: CR_sum, dtype: int64\n",
      "\n",
      "Характеристика: _merge\n",
      "Количество уникальных значений:  1\n",
      "Список значений:  both          1732266\n",
      "left_only           0\n",
      "right_only          0\n",
      "Name: _merge, dtype: int64\n"
     ]
    }
   ],
   "source": [
    "# Изучаем характеристики столбцов таблицы и их значений\n",
    "df_info_uniq(df_join_)"
   ]
  },
  {
   "cell_type": "markdown",
   "id": "2cae27db",
   "metadata": {},
   "source": [
    "#### 1.3.2.   Работа с отсутствующими  и нулевыми данными "
   ]
  },
  {
   "cell_type": "code",
   "execution_count": 209,
   "id": "e5c7ecc1",
   "metadata": {},
   "outputs": [
    {
     "name": "stdout",
     "output_type": "stream",
     "text": [
      "Процент пропущенных значений:\n"
     ]
    },
    {
     "data": {
      "text/plain": [
       "device_model                99.130503\n",
       "utm_keyword                 58.925823\n",
       "device_os                   58.533966\n",
       "device_brand                20.042880\n",
       "utm_adcontent               17.557177\n",
       "utm_campaign                11.273500\n",
       "utm_source                   0.004387\n",
       "geo_city                     0.000000\n",
       "geo_country                  0.000000\n",
       "device_browser               0.000000\n",
       "device_screen_resolution     0.000000\n",
       "session_id                   0.000000\n",
       "device_category              0.000000\n",
       "client_id                    0.000000\n",
       "utm_medium                   0.000000\n",
       "visit_number                 0.000000\n",
       "visit_time                   0.000000\n",
       "visit_date                   0.000000\n",
       "CR_sum                       0.000000\n",
       "dtype: float64"
      ]
     },
     "execution_count": 209,
     "metadata": {},
     "output_type": "execute_result"
    }
   ],
   "source": [
    "missing_values(df_join_)"
   ]
  },
  {
   "cell_type": "markdown",
   "id": "466c9133",
   "metadata": {},
   "source": [
    "- 13 колонок из 20 заполнены на 100%\n",
    "- 7 колонок не заполнены полностью (от 0,5 до 99%)\n",
    "- колонка 'device_model' почти не заполнена (99,1% данных отсутствуют) - подлежит удалению\n",
    "- колонка '_merge' - вспомогательная, можно удалить\n",
    "- 'utm_keyword' (59% данных отсутствуют), 'device_os'(59% данных отсутствуют) - много отсутствующих данных, можно удалить"
   ]
  },
  {
   "cell_type": "markdown",
   "id": "7645a15d",
   "metadata": {},
   "source": [
    "##### 1.3.2.1. Удаление колонок с отсутствующими данными более 20% --- 'device_model','_merge', 'utm_keyword', 'device_os'"
   ]
  },
  {
   "cell_type": "code",
   "execution_count": 31,
   "id": "1cf9601b",
   "metadata": {},
   "outputs": [
    {
     "name": "stdout",
     "output_type": "stream",
     "text": [
      "(1732266, 16)\n"
     ]
    }
   ],
   "source": [
    "# Удаляем 3 колонок, общее количество колонок в таблице остается 16, сохраняем таблицу\n",
    "df_clean = df_join_.drop(columns=['device_model','utm_keyword', 'device_os'])\n",
    "print(df_clean.shape)"
   ]
  },
  {
   "cell_type": "code",
   "execution_count": 32,
   "id": "cc20bed5",
   "metadata": {},
   "outputs": [],
   "source": [
    "df_clean.to_csv('data/df_clean.csv', index=False)"
   ]
  },
  {
   "cell_type": "markdown",
   "id": "127ca83f",
   "metadata": {},
   "source": [
    "##### 1.3.2.2.  Проверка объема нулевых значений по столбцам таблицы (='(not set)' или 'none')"
   ]
  },
  {
   "cell_type": "code",
   "execution_count": 210,
   "id": "ad7c3f52",
   "metadata": {},
   "outputs": [
    {
     "name": "stdout",
     "output_type": "stream",
     "text": [
      "Проверка % нулевых значений объектов из всей выборки (проверка нулевых данных): \n"
     ]
    },
    {
     "data": {
      "text/html": [
       "<div>\n",
       "<style scoped>\n",
       "    .dataframe tbody tr th:only-of-type {\n",
       "        vertical-align: middle;\n",
       "    }\n",
       "\n",
       "    .dataframe tbody tr th {\n",
       "        vertical-align: top;\n",
       "    }\n",
       "\n",
       "    .dataframe thead th {\n",
       "        text-align: right;\n",
       "    }\n",
       "</style>\n",
       "<table border=\"1\" class=\"dataframe\">\n",
       "  <thead>\n",
       "    <tr style=\"text-align: right;\">\n",
       "      <th></th>\n",
       "      <th>columns</th>\n",
       "      <th>result</th>\n",
       "    </tr>\n",
       "  </thead>\n",
       "  <tbody>\n",
       "    <tr>\n",
       "      <th>6</th>\n",
       "      <td>utm_medium</td>\n",
       "      <td>16.017459</td>\n",
       "    </tr>\n",
       "    <tr>\n",
       "      <th>14</th>\n",
       "      <td>geo_city</td>\n",
       "      <td>4.231279</td>\n",
       "    </tr>\n",
       "    <tr>\n",
       "      <th>10</th>\n",
       "      <td>device_brand</td>\n",
       "      <td>0.946275</td>\n",
       "    </tr>\n",
       "    <tr>\n",
       "      <th>13</th>\n",
       "      <td>geo_country</td>\n",
       "      <td>0.061827</td>\n",
       "    </tr>\n",
       "    <tr>\n",
       "      <th>12</th>\n",
       "      <td>device_browser</td>\n",
       "      <td>0.000635</td>\n",
       "    </tr>\n",
       "    <tr>\n",
       "      <th>0</th>\n",
       "      <td>session_id</td>\n",
       "      <td>0.000000</td>\n",
       "    </tr>\n",
       "    <tr>\n",
       "      <th>1</th>\n",
       "      <td>client_id</td>\n",
       "      <td>0.000000</td>\n",
       "    </tr>\n",
       "    <tr>\n",
       "      <th>2</th>\n",
       "      <td>visit_date</td>\n",
       "      <td>0.000000</td>\n",
       "    </tr>\n",
       "    <tr>\n",
       "      <th>3</th>\n",
       "      <td>visit_time</td>\n",
       "      <td>0.000000</td>\n",
       "    </tr>\n",
       "    <tr>\n",
       "      <th>4</th>\n",
       "      <td>visit_number</td>\n",
       "      <td>0.000000</td>\n",
       "    </tr>\n",
       "    <tr>\n",
       "      <th>5</th>\n",
       "      <td>utm_source</td>\n",
       "      <td>0.000000</td>\n",
       "    </tr>\n",
       "    <tr>\n",
       "      <th>7</th>\n",
       "      <td>utm_campaign</td>\n",
       "      <td>0.000000</td>\n",
       "    </tr>\n",
       "    <tr>\n",
       "      <th>8</th>\n",
       "      <td>utm_adcontent</td>\n",
       "      <td>0.000000</td>\n",
       "    </tr>\n",
       "    <tr>\n",
       "      <th>9</th>\n",
       "      <td>device_category</td>\n",
       "      <td>0.000000</td>\n",
       "    </tr>\n",
       "    <tr>\n",
       "      <th>11</th>\n",
       "      <td>device_screen_resolution</td>\n",
       "      <td>0.000000</td>\n",
       "    </tr>\n",
       "    <tr>\n",
       "      <th>15</th>\n",
       "      <td>CR_sum</td>\n",
       "      <td>0.000000</td>\n",
       "    </tr>\n",
       "  </tbody>\n",
       "</table>\n",
       "</div>"
      ],
      "text/plain": [
       "                     columns     result\n",
       "6                 utm_medium  16.017459\n",
       "14                  geo_city   4.231279\n",
       "10              device_brand   0.946275\n",
       "13               geo_country   0.061827\n",
       "12            device_browser   0.000635\n",
       "0                 session_id   0.000000\n",
       "1                  client_id   0.000000\n",
       "2                 visit_date   0.000000\n",
       "3                 visit_time   0.000000\n",
       "4               visit_number   0.000000\n",
       "5                 utm_source   0.000000\n",
       "7               utm_campaign   0.000000\n",
       "8              utm_adcontent   0.000000\n",
       "9            device_category   0.000000\n",
       "11  device_screen_resolution   0.000000\n",
       "15                    CR_sum   0.000000"
      ]
     },
     "execution_count": 210,
     "metadata": {},
     "output_type": "execute_result"
    }
   ],
   "source": [
    "check_none_values (df_clean)"
   ]
  },
  {
   "cell_type": "markdown",
   "id": "528b884f",
   "metadata": {},
   "source": [
    "Из 16 столбцов в 5 наблюдаются нулевые значения\n",
    "\n",
    "Как видно, наибольшее количество нулевые значений в столбцах 'utm_medium' и 'geo_city', и они нужны для работы "
   ]
  },
  {
   "cell_type": "code",
   "execution_count": 86,
   "id": "b0a85356",
   "metadata": {},
   "outputs": [],
   "source": [
    "df_clean = pd.read_csv('data/df_clean.csv')"
   ]
  },
  {
   "cell_type": "markdown",
   "id": "414ff4bf",
   "metadata": {},
   "source": [
    "##### 1.3.2.3. Работа со столбцами с отсутствующими и нулевыми значениями (8 столбцов)\n",
    "'utm_source', 'utm_campaign', 'utm_adcontent', 'device_brand', 'utm_medium', 'device_browser', 'geo_country', 'geo_city',  \n",
    "##### 'utm_source'  - замена на моды столбца, сформированные через группировку по столбцу 'utm_adcontent'\n",
    "'utm_source' - канал привлечения, отсутствуют 0,004% данных, нулевых данных нет"
   ]
  },
  {
   "cell_type": "code",
   "execution_count": 87,
   "id": "2c3aeef6",
   "metadata": {},
   "outputs": [
    {
     "name": "stdout",
     "output_type": "stream",
     "text": [
      "Итоговый процент отсутствующих значений после замены:  0.0020782027702442927\n"
     ]
    }
   ],
   "source": [
    "df_clean['utm_source'] = re_moda_group(df_clean, 'utm_adcontent', 'utm_source')"
   ]
  },
  {
   "cell_type": "code",
   "execution_count": 88,
   "id": "9940fc43",
   "metadata": {},
   "outputs": [
    {
     "name": "stdout",
     "output_type": "stream",
     "text": [
      "Итоговый процент отсутствующих значений после замены на моду столбца -  0\n"
     ]
    }
   ],
   "source": [
    "# Количество пустых 'utm_source' уменьшилось, но не обнулилось. Заменим оставшиеся на моду всего столбца\n",
    "df_clean['utm_source'] = replace_isna_data_all_column_mode(df_clean['utm_source'])"
   ]
  },
  {
   "cell_type": "code",
   "execution_count": 89,
   "id": "834f7957",
   "metadata": {},
   "outputs": [
    {
     "data": {
      "text/plain": [
       "(552555, 19)"
      ]
     },
     "execution_count": 89,
     "metadata": {},
     "output_type": "execute_result"
    }
   ],
   "source": [
    "df_join_[df_join_['utm_source']=='ZpYIoDJMcFzVoPFsHGJL'].shape"
   ]
  },
  {
   "cell_type": "code",
   "execution_count": 90,
   "id": "fe080523",
   "metadata": {},
   "outputs": [
    {
     "data": {
      "text/plain": [
       "(552631, 16)"
      ]
     },
     "execution_count": 90,
     "metadata": {},
     "output_type": "execute_result"
    }
   ],
   "source": [
    "df_clean[df_clean['utm_source']=='ZpYIoDJMcFzVoPFsHGJL'].shape"
   ]
  },
  {
   "cell_type": "markdown",
   "id": "865f8c82",
   "metadata": {},
   "source": [
    "#####  'utm_campaign'  --- замена на моды столбца через группировку по столбцу 'utm_source'\n",
    "'utm_campaign' - рекламная кампания, отсутствуют 11,2% данных, нулевых значений нет"
   ]
  },
  {
   "cell_type": "code",
   "execution_count": 81,
   "id": "13f3e9a4",
   "metadata": {},
   "outputs": [
    {
     "name": "stdout",
     "output_type": "stream",
     "text": [
      "Количество уникальных значений:  210\n",
      "Список значений:  ZpYIoDJMcFzVoPFsHGJL    197298\n",
      "fDLlAcSmythWSCVMvqvL     98765\n",
      "kjsLglQLzykiRbcDiGcD     87547\n",
      "MvfHsxITijuriZxsqZqt     62735\n",
      "BHcvLfOaCWvWTykYqHVe     39672\n",
      "                         ...  \n",
      "NmOxMbxOBZyJqqGcWBnH         1\n",
      "SYQTbMrWPSQnOfTSlQxp         1\n",
      "fcwjEERKGqQLIBYNygQV         1\n",
      "mtQufDECJCXyKwpKQPvz         1\n",
      "BellrslNBZQZaIxVFGXJ         1\n",
      "Name: utm_source, Length: 210, dtype: int64\n"
     ]
    }
   ],
   "source": [
    "# Проверяем целесообразность группировки по столбцам, выбираем для группировки столбец 'utm_source'\n",
    "df1 = df_clean.query('utm_campaign==\"LTuZkdKfxRGVceoWkVyg\"')\n",
    "print('Количество уникальных значений: ', df1['utm_source'].nunique())\n",
    "print('Список значений: ',  df1['utm_source'].value_counts())"
   ]
  },
  {
   "cell_type": "code",
   "execution_count": 91,
   "id": "aaea3b9f",
   "metadata": {},
   "outputs": [
    {
     "name": "stdout",
     "output_type": "stream",
     "text": [
      "Итоговый процент отсутствующих значений после замены:  0.002251386334431317\n"
     ]
    }
   ],
   "source": [
    "df_clean['utm_campaign'] = re_moda_group(df_clean, 'utm_source', 'utm_campaign')"
   ]
  },
  {
   "cell_type": "code",
   "execution_count": 92,
   "id": "80f5bb15",
   "metadata": {},
   "outputs": [
    {
     "name": "stdout",
     "output_type": "stream",
     "text": [
      "Итоговый процент отсутствующих значений после замены на моду столбца -  0\n"
     ]
    }
   ],
   "source": [
    "# Количество пустых 'utm_campaign' уменьшилось, но не обнулилось. Заменим оставшиеся на моду всего столбца\n",
    "df_clean['utm_campaign'] = replace_isna_data_all_column_mode(df_clean['utm_campaign'])"
   ]
  },
  {
   "cell_type": "code",
   "execution_count": 95,
   "id": "09d20eec",
   "metadata": {},
   "outputs": [
    {
     "data": {
      "text/plain": [
       "(422992, 19)"
      ]
     },
     "execution_count": 95,
     "metadata": {},
     "output_type": "execute_result"
    }
   ],
   "source": [
    "df_join_[df_join_['utm_campaign']=='LTuZkdKfxRGVceoWkVyg'].shape"
   ]
  },
  {
   "cell_type": "code",
   "execution_count": 96,
   "id": "92a1c0e8",
   "metadata": {},
   "outputs": [
    {
     "data": {
      "text/plain": [
       "(618120, 16)"
      ]
     },
     "execution_count": 96,
     "metadata": {},
     "output_type": "execute_result"
    }
   ],
   "source": [
    "df_clean[df_clean['utm_campaign']=='LTuZkdKfxRGVceoWkVyg'].shape"
   ]
  },
  {
   "cell_type": "markdown",
   "id": "e848bfba",
   "metadata": {},
   "source": [
    "#####  'utm_adcontent' --- замена на моды столбца через группировку по столбцу 'utm_source'\n",
    "'utm_adcontent' - марка устройства, отсутствуют 17,6% данных, нулевых данных нет"
   ]
  },
  {
   "cell_type": "code",
   "execution_count": 90,
   "id": "96dd055c",
   "metadata": {},
   "outputs": [
    {
     "name": "stdout",
     "output_type": "stream",
     "text": [
      "Количество уникальных значений:  2\n",
      "Список значений:  ZpYIoDJMcFzVoPFsHGJL    179151\n",
      "bByPQxmDaMXgpHeypKSM       287\n",
      "Name: utm_source, dtype: int64\n"
     ]
    }
   ],
   "source": [
    "# Проверяем целесообразность группировки по столбцам, выбираем 'utm_source'\n",
    "df2 = df_clean.query('utm_adcontent==\"vCIpmpaGBnIQhyYNkXqp\"')\n",
    "print('Количество уникальных значений: ', df2['utm_source'].nunique())\n",
    "print('Список значений: ',  df2['utm_source'].value_counts())"
   ]
  },
  {
   "cell_type": "code",
   "execution_count": 97,
   "id": "b2c85a5c",
   "metadata": {},
   "outputs": [
    {
     "name": "stdout",
     "output_type": "stream",
     "text": [
      "Итоговый процент отсутствующих значений после замены:  0.001270012804038179\n"
     ]
    }
   ],
   "source": [
    "# Заменим отсутствующие значения на моды столбца, сформированные через группировку по столбцу 'utm_source'\n",
    "df_clean['utm_adcontent'] = re_moda_group(df_clean, 'utm_source', 'utm_adcontent')"
   ]
  },
  {
   "cell_type": "code",
   "execution_count": 98,
   "id": "34f79728",
   "metadata": {},
   "outputs": [
    {
     "name": "stdout",
     "output_type": "stream",
     "text": [
      "Итоговый процент отсутствующих значений после замены на моду столбца -  0\n"
     ]
    }
   ],
   "source": [
    "# Количество пустых 'utm_adcontent'' уменьшилось, но не обнулилось. Заменим оставшиеся на моду всего столбца\n",
    "df_clean['utm_adcontent'] = replace_isna_data_all_column_mode(df_clean['utm_adcontent'])"
   ]
  },
  {
   "cell_type": "code",
   "execution_count": 99,
   "id": "7af03cb6",
   "metadata": {},
   "outputs": [
    {
     "data": {
      "text/plain": [
       "(179438, 19)"
      ]
     },
     "execution_count": 99,
     "metadata": {},
     "output_type": "execute_result"
    }
   ],
   "source": [
    "df_join_[df_join_['utm_adcontent']=='vCIpmpaGBnIQhyYNkXqp'].shape"
   ]
  },
  {
   "cell_type": "code",
   "execution_count": 100,
   "id": "99f274f1",
   "metadata": {},
   "outputs": [
    {
     "data": {
      "text/plain": [
       "(179443, 16)"
      ]
     },
     "execution_count": 100,
     "metadata": {},
     "output_type": "execute_result"
    }
   ],
   "source": [
    "df_clean[df_clean['utm_adcontent']=='vCIpmpaGBnIQhyYNkXqp'].shape"
   ]
  },
  {
   "cell_type": "markdown",
   "id": "68e947b5",
   "metadata": {},
   "source": [
    "#####  'device_brand' --- замена на моды столбца \n",
    "'device_brand' - марка устройства, отсутствуют 20% данных, нулевых 0,95% данных"
   ]
  },
  {
   "cell_type": "code",
   "execution_count": 105,
   "id": "143c7a4a",
   "metadata": {},
   "outputs": [
    {
     "name": "stdout",
     "output_type": "stream",
     "text": [
      "Количество уникальных значений:  3\n",
      "Список значений:  mobile     398382\n",
      "desktop    100779\n",
      "tablet       4816\n",
      "Name: device_category, dtype: int64\n"
     ]
    }
   ],
   "source": [
    "# Проверяем целесообразность группировки по столбцам, выбираем 'device_category'\n",
    "df3= df_clean.query('device_brand==\"Apple\"')\n",
    "print('Количество уникальных значений: ', df3['device_category'].nunique())\n",
    "print('Список значений: ',  df3['device_category'].value_counts())"
   ]
  },
  {
   "cell_type": "code",
   "execution_count": 106,
   "id": "7b679c72",
   "metadata": {},
   "outputs": [
    {
     "name": "stdout",
     "output_type": "stream",
     "text": [
      "Итоговый процент отсутствующих значений после замены на моду столбца -  0\n"
     ]
    }
   ],
   "source": [
    "# Так как Apple подавляющий бренд, заменим на моду всего столбца\n",
    "df_clean['device_brand'] = replace_isna_data_all_column_mode(df_clean['device_brand'])"
   ]
  },
  {
   "cell_type": "code",
   "execution_count": 102,
   "id": "e1407777",
   "metadata": {},
   "outputs": [
    {
     "data": {
      "text/plain": [
       "(503533, 19)"
      ]
     },
     "execution_count": 102,
     "metadata": {},
     "output_type": "execute_result"
    }
   ],
   "source": [
    "df_join_[df_join_['device_brand']=='Apple'].shape"
   ]
  },
  {
   "cell_type": "code",
   "execution_count": 107,
   "id": "3b9cfd2d",
   "metadata": {},
   "outputs": [
    {
     "data": {
      "text/plain": [
       "(850729, 16)"
      ]
     },
     "execution_count": 107,
     "metadata": {},
     "output_type": "execute_result"
    }
   ],
   "source": [
    "df_clean[df_clean['device_brand']=='Apple'].shape"
   ]
  },
  {
   "cell_type": "code",
   "execution_count": 108,
   "id": "62103caf",
   "metadata": {},
   "outputs": [
    {
     "name": "stdout",
     "output_type": "stream",
     "text": [
      "Процент нулевых значений:  0.0\n"
     ]
    }
   ],
   "source": [
    "# Так как нулевых значений мало, заменим их на единую моду столбца и проверим результат\n",
    "df_clean['device_brand'] = replace_none_data_all_column_mode(df_clean['device_brand'])\n",
    "none_value (df_clean['device_brand'] )"
   ]
  },
  {
   "cell_type": "markdown",
   "id": "53c95b64",
   "metadata": {},
   "source": [
    "##### 'utm_medium' --- замена на моды столбца через группировку по столбцу 'utm_source' и \"other\"\n",
    "'utm_medium' - тип привлечения, нулевые 16% данных, отсутствующих данных нет"
   ]
  },
  {
   "cell_type": "code",
   "execution_count": 109,
   "id": "f4838301",
   "metadata": {},
   "outputs": [
    {
     "name": "stdout",
     "output_type": "stream",
     "text": [
      "Процент нулевых значений:  0.0\n"
     ]
    }
   ],
   "source": [
    "df_clean['utm_medium'] = re_moda_group_none(df_clean, 'utm_source', 'utm_medium', 'other')"
   ]
  },
  {
   "cell_type": "code",
   "execution_count": 110,
   "id": "36277aee",
   "metadata": {},
   "outputs": [
    {
     "data": {
      "text/plain": [
       "array(['banner', 'cpm', 'cpc', 'organic', 'referral', 'smm', 'stories',\n",
       "       'blogger_channel', 'blogger_stories', 'email', 'app', 'push',\n",
       "       'partner', 'tg', 'cpv', 'cpa', 'post', 'smartbanner', 'info_text',\n",
       "       'outlook', 'clicks', 'landing', 'blogger_header', 'qr',\n",
       "       'google_cpc', 'sms', 'article', 'vk_smm', 'static', 'cbaafe',\n",
       "       'Sbol_catalog', 'fb_smm', 'landing_interests', 'yandex_cpc',\n",
       "       'web_polka', 'link', 'CPM', 'linktest', 'qrcodevideo', 'users_msk',\n",
       "       'dom_click', 'ok_smm', 'sber_app', 'promo_sber', 'reach', 'nkp',\n",
       "       'medium', 'tablet', 'promo_sbol', 'social', 'main_polka',\n",
       "       'catalogue', 'last', 'other'], dtype=object)"
      ]
     },
     "execution_count": 110,
     "metadata": {},
     "output_type": "execute_result"
    }
   ],
   "source": [
    "df_clean['utm_medium'].unique()"
   ]
  },
  {
   "cell_type": "markdown",
   "id": "751092fb",
   "metadata": {},
   "source": [
    "#####  'device_browser' --- замена нулевых на моду столбца\n",
    "'device_browser' - браузер, нулевых 0.0006% данных, отсутствующих данных нет, "
   ]
  },
  {
   "cell_type": "code",
   "execution_count": 111,
   "id": "3708f09e",
   "metadata": {},
   "outputs": [
    {
     "name": "stdout",
     "output_type": "stream",
     "text": [
      "Процент нулевых значений:  0.0\n"
     ]
    }
   ],
   "source": [
    "# Очень мало нулевых значений, поэтому применяем замену на моду столбца\n",
    "df_clean['device_browser']  = replace_none_data_all_column_mode(df_clean['device_browser'])\n",
    "none_value(df_clean['device_browser'])"
   ]
  },
  {
   "cell_type": "markdown",
   "id": "904a34dc",
   "metadata": {},
   "source": [
    "#####  'geo_country' --- замена нулевые значения на моду столбца\n",
    "'geo_country' - страна, нулевых 0,06% данных, отсутствующих данных нет "
   ]
  },
  {
   "cell_type": "code",
   "execution_count": 112,
   "id": "6bb7908c",
   "metadata": {},
   "outputs": [
    {
     "name": "stdout",
     "output_type": "stream",
     "text": [
      "Процент нулевых значений:  0.0\n"
     ]
    }
   ],
   "source": [
    "# Очень мало нулевых значений, поэтому применяем замену на моду столбца\n",
    "df_clean['geo_country']  = replace_none_data_all_column_mode(df_clean['geo_country'])\n",
    "none_value(df_clean['geo_country'])"
   ]
  },
  {
   "cell_type": "markdown",
   "id": "e2ba7650",
   "metadata": {},
   "source": [
    "#####  'geo_city'--- замена нулевые значения на моду столбца сформированные через группировку по столбцу 'geo_country'\n",
    "'geo_city' - город, нулевых 4,2% данных, отсутствующих данных нет, столбец группировки по смыслу - 'geo_country'"
   ]
  },
  {
   "cell_type": "code",
   "execution_count": 113,
   "id": "01203bde",
   "metadata": {},
   "outputs": [
    {
     "name": "stdout",
     "output_type": "stream",
     "text": [
      "Процент нулевых значений:  0.0\n"
     ]
    }
   ],
   "source": [
    "df_clean['geo_city'] = re_moda_group_none(df_clean, 'geo_country', 'geo_city', \"Capital\")"
   ]
  },
  {
   "cell_type": "code",
   "execution_count": 114,
   "id": "195a0399",
   "metadata": {},
   "outputs": [
    {
     "name": "stdout",
     "output_type": "stream",
     "text": [
      "Числовых значений -  289\n"
     ]
    }
   ],
   "source": [
    "# Есть ячейки, которые содержат только числа, а не названия городов, надо их выбрать, выделяем, заменяем на моду столбца\n",
    "# Проверяем наличие только числовых значений к текстовой ячейке столбца таблицы\n",
    "numer(df_clean.geo_city)\n",
    "df_clean['geo_city'] = ['Capital' if x.isdigit() == True   else x for  x in df_clean['geo_city']]"
   ]
  },
  {
   "cell_type": "code",
   "execution_count": 115,
   "id": "974f68db",
   "metadata": {},
   "outputs": [
    {
     "name": "stdout",
     "output_type": "stream",
     "text": [
      "Числовых значений нет\n"
     ]
    }
   ],
   "source": [
    "numer(df_clean.geo_city)"
   ]
  },
  {
   "cell_type": "code",
   "execution_count": 116,
   "id": "3546116e",
   "metadata": {},
   "outputs": [
    {
     "data": {
      "text/plain": [
       "0.0"
      ]
     },
     "execution_count": 116,
     "metadata": {},
     "output_type": "execute_result"
    }
   ],
   "source": [
    "# Учитывая незначительность числовых значений - оставим их в таблице, т.к. на итоговые результаты они значительного \n",
    "# влияния не окажут. Были ячейки c ошибочными непонятными символами (ошибки), проверим их наличие\n",
    "missing_values_ = ((len(df_clean[((df_clean['geo_city']=='РҐРѕРјСѓС‚РѕРІРѕ') | (df_clean['geo_city']=='РўРёРјРѕС„РµРµРІРєР°') | (df_clean['geo_city']=='РўР°СЂР°СЃРѕРІРєР°'))])/len(df_clean))*100)\n",
    "missing_values_"
   ]
  },
  {
   "cell_type": "markdown",
   "id": "d0f23154",
   "metadata": {},
   "source": [
    "##### 1.3.2.4.  Проверка результатов работы с таблицей"
   ]
  },
  {
   "cell_type": "code",
   "execution_count": 118,
   "id": "c0f31752",
   "metadata": {},
   "outputs": [
    {
     "name": "stdout",
     "output_type": "stream",
     "text": [
      "Количество полностью заполненных объектов из всей выборки:  1732266\n",
      "Процент полностью заполненных объектов из всей выборки:  100.0\n"
     ]
    }
   ],
   "source": [
    "# Проверяем итоговое заполнение таблицы и наличие нулевых значений\n",
    "print_useful_rows_info(df_clean)"
   ]
  },
  {
   "cell_type": "code",
   "execution_count": 119,
   "id": "5a8eb0de",
   "metadata": {},
   "outputs": [
    {
     "name": "stdout",
     "output_type": "stream",
     "text": [
      "Проверка % нулевых значений объектов из всей выборки (проверка нулевых данных): \n"
     ]
    },
    {
     "data": {
      "text/html": [
       "<div>\n",
       "<style scoped>\n",
       "    .dataframe tbody tr th:only-of-type {\n",
       "        vertical-align: middle;\n",
       "    }\n",
       "\n",
       "    .dataframe tbody tr th {\n",
       "        vertical-align: top;\n",
       "    }\n",
       "\n",
       "    .dataframe thead th {\n",
       "        text-align: right;\n",
       "    }\n",
       "</style>\n",
       "<table border=\"1\" class=\"dataframe\">\n",
       "  <thead>\n",
       "    <tr style=\"text-align: right;\">\n",
       "      <th></th>\n",
       "      <th>columns</th>\n",
       "      <th>result</th>\n",
       "    </tr>\n",
       "  </thead>\n",
       "  <tbody>\n",
       "    <tr>\n",
       "      <th>0</th>\n",
       "      <td>session_id</td>\n",
       "      <td>0.0</td>\n",
       "    </tr>\n",
       "    <tr>\n",
       "      <th>1</th>\n",
       "      <td>client_id</td>\n",
       "      <td>0.0</td>\n",
       "    </tr>\n",
       "    <tr>\n",
       "      <th>2</th>\n",
       "      <td>visit_date</td>\n",
       "      <td>0.0</td>\n",
       "    </tr>\n",
       "    <tr>\n",
       "      <th>3</th>\n",
       "      <td>visit_time</td>\n",
       "      <td>0.0</td>\n",
       "    </tr>\n",
       "    <tr>\n",
       "      <th>4</th>\n",
       "      <td>visit_number</td>\n",
       "      <td>0.0</td>\n",
       "    </tr>\n",
       "    <tr>\n",
       "      <th>5</th>\n",
       "      <td>utm_source</td>\n",
       "      <td>0.0</td>\n",
       "    </tr>\n",
       "    <tr>\n",
       "      <th>6</th>\n",
       "      <td>utm_medium</td>\n",
       "      <td>0.0</td>\n",
       "    </tr>\n",
       "    <tr>\n",
       "      <th>7</th>\n",
       "      <td>utm_campaign</td>\n",
       "      <td>0.0</td>\n",
       "    </tr>\n",
       "    <tr>\n",
       "      <th>8</th>\n",
       "      <td>utm_adcontent</td>\n",
       "      <td>0.0</td>\n",
       "    </tr>\n",
       "    <tr>\n",
       "      <th>9</th>\n",
       "      <td>device_category</td>\n",
       "      <td>0.0</td>\n",
       "    </tr>\n",
       "    <tr>\n",
       "      <th>10</th>\n",
       "      <td>device_brand</td>\n",
       "      <td>0.0</td>\n",
       "    </tr>\n",
       "    <tr>\n",
       "      <th>11</th>\n",
       "      <td>device_screen_resolution</td>\n",
       "      <td>0.0</td>\n",
       "    </tr>\n",
       "    <tr>\n",
       "      <th>12</th>\n",
       "      <td>device_browser</td>\n",
       "      <td>0.0</td>\n",
       "    </tr>\n",
       "    <tr>\n",
       "      <th>13</th>\n",
       "      <td>geo_country</td>\n",
       "      <td>0.0</td>\n",
       "    </tr>\n",
       "    <tr>\n",
       "      <th>14</th>\n",
       "      <td>geo_city</td>\n",
       "      <td>0.0</td>\n",
       "    </tr>\n",
       "    <tr>\n",
       "      <th>15</th>\n",
       "      <td>CR_sum</td>\n",
       "      <td>0.0</td>\n",
       "    </tr>\n",
       "  </tbody>\n",
       "</table>\n",
       "</div>"
      ],
      "text/plain": [
       "                     columns  result\n",
       "0                 session_id     0.0\n",
       "1                  client_id     0.0\n",
       "2                 visit_date     0.0\n",
       "3                 visit_time     0.0\n",
       "4               visit_number     0.0\n",
       "5                 utm_source     0.0\n",
       "6                 utm_medium     0.0\n",
       "7               utm_campaign     0.0\n",
       "8              utm_adcontent     0.0\n",
       "9            device_category     0.0\n",
       "10              device_brand     0.0\n",
       "11  device_screen_resolution     0.0\n",
       "12            device_browser     0.0\n",
       "13               geo_country     0.0\n",
       "14                  geo_city     0.0\n",
       "15                    CR_sum     0.0"
      ]
     },
     "execution_count": 119,
     "metadata": {},
     "output_type": "execute_result"
    }
   ],
   "source": [
    "check_none_values (df_clean)"
   ]
  },
  {
   "cell_type": "markdown",
   "id": "10348edb",
   "metadata": {},
   "source": [
    "#### 1.3.3.  Преобразование типов данных\n",
    "##### 1.3.3.1.  Преобразование столбцов даты и времени визита \n",
    "объединим и приведем тип данных в соответствие"
   ]
  },
  {
   "cell_type": "code",
   "execution_count": 120,
   "id": "36e3a061",
   "metadata": {},
   "outputs": [],
   "source": [
    "df_clean_res = df_clean"
   ]
  },
  {
   "cell_type": "code",
   "execution_count": 121,
   "id": "76cb4f75",
   "metadata": {},
   "outputs": [
    {
     "data": {
      "text/plain": [
       "count    1732266.0\n",
       "mean        2021.0\n",
       "std            0.0\n",
       "min         2021.0\n",
       "25%         2021.0\n",
       "50%         2021.0\n",
       "75%         2021.0\n",
       "max         2021.0\n",
       "Name: year_visit, dtype: float64"
      ]
     },
     "execution_count": 121,
     "metadata": {},
     "output_type": "execute_result"
    }
   ],
   "source": [
    "df_clean_res['visit_date'] = df_clean_res['visit_date'] +\" \"+ df_clean_res['visit_time'] \n",
    "df_clean_res['visit_date'] = pd.to_datetime(df_clean_res.visit_date, utc=True)\n",
    "# Проверим выбросы в годе визита. Не установлено\n",
    "df_clean_res['year_visit'] = df_clean_res['visit_date'].dt.year\n",
    "df_clean_res.year_visit.describe()"
   ]
  },
  {
   "cell_type": "markdown",
   "id": "bd96b34c",
   "metadata": {},
   "source": [
    "Весь временной период укладывается в 2021 год - май --- декабрь"
   ]
  },
  {
   "cell_type": "markdown",
   "id": "fe705eee",
   "metadata": {},
   "source": [
    "#### 1.3.4. Удаление \"лишних\" столбцов"
   ]
  },
  {
   "cell_type": "code",
   "execution_count": 117,
   "id": "9b889c79",
   "metadata": {},
   "outputs": [
    {
     "name": "stdout",
     "output_type": "stream",
     "text": [
      "Index(['session_id', 'client_id', 'visit_date', 'visit_time', 'visit_number',\n",
      "       'utm_source', 'utm_medium', 'utm_campaign', 'utm_adcontent',\n",
      "       'device_category', 'device_brand', 'device_screen_resolution',\n",
      "       'device_browser', 'geo_country', 'geo_city', 'CR_sum'],\n",
      "      dtype='object')\n"
     ]
    }
   ],
   "source": [
    "print(df_clean.columns)"
   ]
  },
  {
   "cell_type": "code",
   "execution_count": 123,
   "id": "db5a05b0",
   "metadata": {},
   "outputs": [
    {
     "name": "stdout",
     "output_type": "stream",
     "text": [
      "(1732266, 15)\n"
     ]
    }
   ],
   "source": [
    "df_clean_res = df_clean_res.drop(columns=['visit_time','year_visit'])\n",
    "print(df_clean_res.shape)"
   ]
  },
  {
   "cell_type": "markdown",
   "id": "685f2111",
   "metadata": {},
   "source": [
    "## 2. FEATURE ENGINEERING"
   ]
  },
  {
   "cell_type": "markdown",
   "id": "c4351268",
   "metadata": {},
   "source": [
    "### 2.1. Формирование дополнительных, необходимых для анализа, столбцов\n",
    "#### 2.1.1. Формирование столбца  'CR_result'  (0/1), 'org_traffic', 'advertising_social_NW,  'city_of_presence'\n",
    "##### Формирование столбца  'CR_result'  (0/1) \n",
    "На базе 'CR_sum' сформируем новый столбец 'CR_result' с признаками 0/1. 'CR_result' = 1, если 'CR_sum' >=1"
   ]
  },
  {
   "cell_type": "code",
   "execution_count": 124,
   "id": "c648aa20",
   "metadata": {},
   "outputs": [
    {
     "name": "stdout",
     "output_type": "stream",
     "text": [
      "(1732266, 16)\n",
      "Список значений:  0    1681952\n",
      "1      50314\n",
      "Name: CR_result, dtype: int64\n"
     ]
    }
   ],
   "source": [
    "df_clean_res['CR_result'] = [1 if x >= 1\n",
    "    else 0 for x in df_clean_res['CR_sum']]\n",
    "print(df_clean_res.shape)\n",
    "print('Список значений: ',  df_clean_res['CR_result'].value_counts())"
   ]
  },
  {
   "cell_type": "markdown",
   "id": "c2b35457",
   "metadata": {},
   "source": [
    "#####  'org_traffic' - информация по органическому трафику\n",
    "Для исследования необходима информация по органическому трафику. Создаем столбец 'org_traffic'"
   ]
  },
  {
   "cell_type": "code",
   "execution_count": 125,
   "id": "d670d46e",
   "metadata": {},
   "outputs": [
    {
     "name": "stdout",
     "output_type": "stream",
     "text": [
      "(1732266, 17)\n",
      "Количество уникальных значений:  2\n",
      "Список значений:  платный трафик         1540396\n",
      "органический трафик     191870\n",
      "Name: org_traffic, dtype: int64\n"
     ]
    }
   ],
   "source": [
    "df_clean_res['org_traffic'] = ['органический трафик' if (x == 'organic' or x =='referral' or x =='none')\n",
    "    else 'платный трафик' for x in df_clean_res['utm_medium']]\n",
    "print(df_clean_res.shape)\n",
    "print('Количество уникальных значений: ', df_clean_res['org_traffic'].nunique())\n",
    "print('Список значений: ',  df_clean_res['org_traffic'].value_counts())"
   ]
  },
  {
   "cell_type": "markdown",
   "id": "e9d180ad",
   "metadata": {},
   "source": [
    "#####  'advertising_social_NW - информация по рекламе в социальных сетях\n",
    "Для исследования необходима информация по рекламе в социальных сетях. Создаем столбец 'advertising_social_NW"
   ]
  },
  {
   "cell_type": "code",
   "execution_count": 126,
   "id": "ae02dc9b",
   "metadata": {},
   "outputs": [
    {
     "name": "stdout",
     "output_type": "stream",
     "text": [
      "(1732266, 18)\n",
      "Количество уникальных значений:  2\n",
      "Список значений:  иная реклама           1475986\n",
      "реклама в соц.сетях     256280\n",
      "Name: advertising_social_NW, dtype: int64\n"
     ]
    }
   ],
   "source": [
    "df_clean_res['advertising_social_NW'] = ['реклама в соц.сетях' if (x == 'QxAxdyPLuQMEcrdZWdWb' or x =='MvfHsxITijuriZxsqZqt' \n",
    "    or x =='ISrKoXQCxqqYvAZICvjs' or x =='IZEXUFLARCUMynmHNBGo' or x =='PlbkrSYoHuZBWfYjYnfw' or x =='gVRrcxiDQubJiljoTbGm')\n",
    "    else 'иная реклама' for x in df_clean_res['utm_source']]\n",
    "print(df_clean_res.shape)\n",
    "print('Количество уникальных значений: ', df_clean_res['advertising_social_NW'].nunique())\n",
    "print('Список значений: ',  df_clean_res['advertising_social_NW'].value_counts())"
   ]
  },
  {
   "cell_type": "markdown",
   "id": "d24ad571",
   "metadata": {},
   "source": [
    "#####  'city_of_presence' - информация по городам присутствия\n",
    "Для исследования необходима информация по городам присутствия. Создаем столбец 'city_of_presence'"
   ]
  },
  {
   "cell_type": "code",
   "execution_count": 127,
   "id": "ced44f6b",
   "metadata": {},
   "outputs": [
    {
     "name": "stdout",
     "output_type": "stream",
     "text": [
      "Размер выборки - (1732266, 19)\n",
      "Состав выборки - Index(['session_id', 'client_id', 'visit_date', 'visit_number', 'utm_source',\n",
      "       'utm_medium', 'utm_campaign', 'utm_adcontent', 'device_category',\n",
      "       'device_brand', 'device_screen_resolution', 'device_browser',\n",
      "       'geo_country', 'geo_city', 'CR_sum', 'CR_result', 'org_traffic',\n",
      "       'advertising_social_NW', 'city_of_presence'],\n",
      "      dtype='object')\n"
     ]
    },
    {
     "data": {
      "text/html": [
       "<div>\n",
       "<style scoped>\n",
       "    .dataframe tbody tr th:only-of-type {\n",
       "        vertical-align: middle;\n",
       "    }\n",
       "\n",
       "    .dataframe tbody tr th {\n",
       "        vertical-align: top;\n",
       "    }\n",
       "\n",
       "    .dataframe thead th {\n",
       "        text-align: right;\n",
       "    }\n",
       "</style>\n",
       "<table border=\"1\" class=\"dataframe\">\n",
       "  <thead>\n",
       "    <tr style=\"text-align: right;\">\n",
       "      <th></th>\n",
       "      <th>session_id</th>\n",
       "      <th>client_id</th>\n",
       "      <th>visit_date</th>\n",
       "      <th>visit_number</th>\n",
       "      <th>utm_source</th>\n",
       "      <th>utm_medium</th>\n",
       "      <th>utm_campaign</th>\n",
       "      <th>utm_adcontent</th>\n",
       "      <th>device_category</th>\n",
       "      <th>device_brand</th>\n",
       "      <th>device_screen_resolution</th>\n",
       "      <th>device_browser</th>\n",
       "      <th>geo_country</th>\n",
       "      <th>geo_city</th>\n",
       "      <th>CR_sum</th>\n",
       "      <th>CR_result</th>\n",
       "      <th>org_traffic</th>\n",
       "      <th>advertising_social_NW</th>\n",
       "      <th>city_of_presence</th>\n",
       "    </tr>\n",
       "  </thead>\n",
       "  <tbody>\n",
       "    <tr>\n",
       "      <th>0</th>\n",
       "      <td>9055434745589932991.1637753792.1637753792</td>\n",
       "      <td>2.108383e+09</td>\n",
       "      <td>2021-11-24 14:36:32+00:00</td>\n",
       "      <td>1</td>\n",
       "      <td>ZpYIoDJMcFzVoPFsHGJL</td>\n",
       "      <td>banner</td>\n",
       "      <td>LEoPHuyFvzoNfnzGgfcd</td>\n",
       "      <td>vCIpmpaGBnIQhyYNkXqp</td>\n",
       "      <td>mobile</td>\n",
       "      <td>Huawei</td>\n",
       "      <td>360x720</td>\n",
       "      <td>Chrome</td>\n",
       "      <td>Russia</td>\n",
       "      <td>Zlatoust</td>\n",
       "      <td>0</td>\n",
       "      <td>0</td>\n",
       "      <td>платный трафик</td>\n",
       "      <td>иная реклама</td>\n",
       "      <td>другие города</td>\n",
       "    </tr>\n",
       "    <tr>\n",
       "      <th>1</th>\n",
       "      <td>905544597018549464.1636867290.1636867290</td>\n",
       "      <td>2.108385e+08</td>\n",
       "      <td>2021-11-14 08:21:30+00:00</td>\n",
       "      <td>1</td>\n",
       "      <td>ZpYIoDJMcFzVoPFsHGJL</td>\n",
       "      <td>cpm</td>\n",
       "      <td>FTjNLDyTrXaWYgZymFkV</td>\n",
       "      <td>xhoenQgDQsgfEPYNPwKO</td>\n",
       "      <td>mobile</td>\n",
       "      <td>Samsung</td>\n",
       "      <td>385x854</td>\n",
       "      <td>Samsung Internet</td>\n",
       "      <td>Russia</td>\n",
       "      <td>Moscow</td>\n",
       "      <td>0</td>\n",
       "      <td>0</td>\n",
       "      <td>платный трафик</td>\n",
       "      <td>иная реклама</td>\n",
       "      <td>Москва+Санкт-П</td>\n",
       "    </tr>\n",
       "    <tr>\n",
       "      <th>2</th>\n",
       "      <td>9055446045651783499.1640648526.1640648526</td>\n",
       "      <td>2.108385e+09</td>\n",
       "      <td>2021-12-28 02:42:06+00:00</td>\n",
       "      <td>1</td>\n",
       "      <td>ZpYIoDJMcFzVoPFsHGJL</td>\n",
       "      <td>banner</td>\n",
       "      <td>LEoPHuyFvzoNfnzGgfcd</td>\n",
       "      <td>vCIpmpaGBnIQhyYNkXqp</td>\n",
       "      <td>mobile</td>\n",
       "      <td>Huawei</td>\n",
       "      <td>360x720</td>\n",
       "      <td>Chrome</td>\n",
       "      <td>Russia</td>\n",
       "      <td>Krasnoyarsk</td>\n",
       "      <td>0</td>\n",
       "      <td>0</td>\n",
       "      <td>платный трафик</td>\n",
       "      <td>иная реклама</td>\n",
       "      <td>другие города</td>\n",
       "    </tr>\n",
       "  </tbody>\n",
       "</table>\n",
       "</div>"
      ],
      "text/plain": [
       "                                  session_id     client_id  \\\n",
       "0  9055434745589932991.1637753792.1637753792  2.108383e+09   \n",
       "1   905544597018549464.1636867290.1636867290  2.108385e+08   \n",
       "2  9055446045651783499.1640648526.1640648526  2.108385e+09   \n",
       "\n",
       "                 visit_date  visit_number            utm_source utm_medium  \\\n",
       "0 2021-11-24 14:36:32+00:00             1  ZpYIoDJMcFzVoPFsHGJL     banner   \n",
       "1 2021-11-14 08:21:30+00:00             1  ZpYIoDJMcFzVoPFsHGJL        cpm   \n",
       "2 2021-12-28 02:42:06+00:00             1  ZpYIoDJMcFzVoPFsHGJL     banner   \n",
       "\n",
       "           utm_campaign         utm_adcontent device_category device_brand  \\\n",
       "0  LEoPHuyFvzoNfnzGgfcd  vCIpmpaGBnIQhyYNkXqp          mobile       Huawei   \n",
       "1  FTjNLDyTrXaWYgZymFkV  xhoenQgDQsgfEPYNPwKO          mobile      Samsung   \n",
       "2  LEoPHuyFvzoNfnzGgfcd  vCIpmpaGBnIQhyYNkXqp          mobile       Huawei   \n",
       "\n",
       "  device_screen_resolution    device_browser geo_country     geo_city  CR_sum  \\\n",
       "0                  360x720            Chrome      Russia     Zlatoust       0   \n",
       "1                  385x854  Samsung Internet      Russia       Moscow       0   \n",
       "2                  360x720            Chrome      Russia  Krasnoyarsk       0   \n",
       "\n",
       "   CR_result     org_traffic advertising_social_NW city_of_presence  \n",
       "0          0  платный трафик          иная реклама    другие города  \n",
       "1          0  платный трафик          иная реклама   Москва+Санкт-П  \n",
       "2          0  платный трафик          иная реклама    другие города  "
      ]
     },
     "execution_count": 127,
     "metadata": {},
     "output_type": "execute_result"
    }
   ],
   "source": [
    "df_clean_res['city_of_presence'] = ['Москва+Санкт-П' if (x == 'Moscow' or x =='Saint Petersburg')\n",
    "    else 'другие города' for x in df_clean_res['geo_city']]\n",
    "df_info_(df_clean_res)"
   ]
  },
  {
   "cell_type": "code",
   "execution_count": 128,
   "id": "2b2fcc3f",
   "metadata": {},
   "outputs": [],
   "source": [
    "df_clean_res.to_csv('data/df_clean_res', index=False)"
   ]
  },
  {
   "cell_type": "code",
   "execution_count": 129,
   "id": "ce35edcd",
   "metadata": {},
   "outputs": [],
   "source": [
    "df = pd.read_csv('data/df_clean_res')"
   ]
  },
  {
   "cell_type": "markdown",
   "id": "4a058309",
   "metadata": {},
   "source": [
    "###### -----------------------------------------------------------------------------------------------------------------------------------------------------------------------------------"
   ]
  },
  {
   "cell_type": "code",
   "execution_count": 130,
   "id": "913c18b3",
   "metadata": {},
   "outputs": [
    {
     "name": "stdout",
     "output_type": "stream",
     "text": [
      "\n",
      "Характеристика: session_id\n",
      "Количество уникальных значений:  1732266\n",
      "Список значений:  9055434745589932991.1637753792.1637753792    1\n",
      "629529258169981545.1626332167.1626332167     1\n",
      "6295352713792576176.1634065074.1634065074    1\n",
      "6295350622136026841.1626588901.1626588901    1\n",
      "6295349887709233242.1639202906.1639202906    1\n",
      "                                            ..\n",
      "3524000133754500026.1625142208.1625142208    1\n",
      "3523993785803856201.1636161866.1636161866    1\n",
      "352398731068897298.1621686290.1621686290     1\n",
      "3523985479341028705.1640084833.1640084833    1\n",
      "9055430416266113553.1640968742.1640968742    1\n",
      "Name: session_id, Length: 1732266, dtype: int64\n",
      "\n",
      "Характеристика: client_id\n",
      "Количество уникальных значений:  1320701\n",
      "Список значений:  1.750498e+09    449\n",
      "1.266575e+09    303\n",
      "7.368596e+08    301\n",
      "1.894772e+09    270\n",
      "1.065182e+09    256\n",
      "               ... \n",
      "8.760135e+07      1\n",
      "8.760101e+07      1\n",
      "8.760069e+08      1\n",
      "8.760060e+07      1\n",
      "2.108382e+09      1\n",
      "Name: client_id, Length: 1320701, dtype: int64\n",
      "\n",
      "Характеристика: visit_date\n",
      "Количество уникальных значений:  661195\n",
      "Список значений:  2021-06-28 22:00:00+00:00    4056\n",
      "2021-09-14 09:00:00+00:00    3827\n",
      "2021-05-24 10:00:00+00:00    3762\n",
      "2021-05-24 13:00:00+00:00    3680\n",
      "2021-05-24 12:00:00+00:00    3612\n",
      "                             ... \n",
      "2021-11-07 02:11:37+00:00       1\n",
      "2021-10-24 14:39:14+00:00       1\n",
      "2021-11-24 20:52:03+00:00       1\n",
      "2021-11-06 02:06:31+00:00       1\n",
      "2021-12-31 19:39:02+00:00       1\n",
      "Name: visit_date, Length: 661195, dtype: int64\n",
      "\n",
      "Характеристика: visit_number\n",
      "Количество уникальных значений:  533\n",
      "Список значений:  1      1301099\n",
      "2       212176\n",
      "3        71835\n",
      "4        36600\n",
      "5        21482\n",
      "        ...   \n",
      "418          1\n",
      "419          1\n",
      "420          1\n",
      "421          1\n",
      "564          1\n",
      "Name: visit_number, Length: 533, dtype: int64\n",
      "\n",
      "Характеристика: utm_source\n",
      "Количество уникальных значений:  280\n",
      "Список значений:  ZpYIoDJMcFzVoPFsHGJL    552631\n",
      "fDLlAcSmythWSCVMvqvL    277060\n",
      "kjsLglQLzykiRbcDiGcD    245178\n",
      "MvfHsxITijuriZxsqZqt    175831\n",
      "BHcvLfOaCWvWTykYqHVe    110963\n",
      "                         ...  \n",
      "BellrslNBZQZaIxVFGXJ         1\n",
      "KoBBKFfLGZzJWZoFqBZs         1\n",
      "tYfqTBjAxWbmBruissGm         1\n",
      "nVVduuqoxTOGBvvhENWW         1\n",
      "eFGuYtbktaqRjJGmKrgt         1\n",
      "Name: utm_source, Length: 280, dtype: int64\n",
      "\n",
      "Характеристика: utm_medium\n",
      "Количество уникальных значений:  54\n",
      "Список значений:  banner               802472\n",
      "cpc                  399492\n",
      "cpm                  229805\n",
      "referral             136858\n",
      "organic               55012\n",
      "email                 28287\n",
      "push                  27710\n",
      "stories               10472\n",
      "cpv                    7815\n",
      "blogger_channel        7731\n",
      "smartbanner            6501\n",
      "blogger_stories        4226\n",
      "tg                     3920\n",
      "cpa                    3266\n",
      "post                   2227\n",
      "outlook                1269\n",
      "app                    1211\n",
      "smm                    1194\n",
      "clicks                  908\n",
      "blogger_header          760\n",
      "info_text               335\n",
      "sms                     194\n",
      "landing                 127\n",
      "partner                  95\n",
      "other                    78\n",
      "link                     52\n",
      "cbaafe                   43\n",
      "CPM                      36\n",
      "yandex_cpc               31\n",
      "vk_smm                   25\n",
      "static                   17\n",
      "article                  15\n",
      "google_cpc               15\n",
      "web_polka                11\n",
      "fb_smm                    8\n",
      "medium                    8\n",
      "ok_smm                    6\n",
      "social                    5\n",
      "nkp                       5\n",
      "catalogue                 4\n",
      "main_polka                3\n",
      "promo_sber                2\n",
      "reach                     2\n",
      "users_msk                 2\n",
      "linktest                  2\n",
      "sber_app                  1\n",
      "dom_click                 1\n",
      "qr                        1\n",
      "tablet                    1\n",
      "promo_sbol                1\n",
      "qrcodevideo               1\n",
      "Sbol_catalog              1\n",
      "last                      1\n",
      "landing_interests         1\n",
      "Name: utm_medium, dtype: int64\n",
      "\n",
      "Характеристика: utm_campaign\n",
      "Количество уникальных значений:  406\n",
      "Список значений:  LTuZkdKfxRGVceoWkVyg    618120\n",
      "LEoPHuyFvzoNfnzGgfcd    321404\n",
      "FTjNLDyTrXaWYgZymFkV    234976\n",
      "gecBYcKZCPMcVYdSSzKP    133254\n",
      "XHNUiSKKGTEpSAlaVMFQ     23750\n",
      "                         ...  \n",
      "UDwbPOvNChIeCDrGWlDQ         1\n",
      "JkhCpeDGCtTwhwqWLywv         1\n",
      "KLznuVEblkSupUDWtCge         1\n",
      "zFCiMWkbbAhTflrlLWnz         1\n",
      "mfMzuDnnxZoVzgSxUxeJ         1\n",
      "Name: utm_campaign, Length: 406, dtype: int64\n",
      "\n",
      "Характеристика: utm_adcontent\n",
      "Количество уникальных значений:  280\n",
      "Список значений:  JNHcPlZPxEMWDnRiyoBf    1239535\n",
      "vCIpmpaGBnIQhyYNkXqp     179443\n",
      "xhoenQgDQsgfEPYNPwKO     104383\n",
      "PkybGvWbaqORmxjNunqZ      59039\n",
      "LLfCasrxQzJIyuldcuWy      18138\n",
      "                         ...   \n",
      "oJivRDNIrrOckRBIKOtG          1\n",
      "qANNyMNIkJbMgmEaXBSZ          1\n",
      "cccMlyVfjXspfaCSrMsO          1\n",
      "xFpdNkjtVhPSQMwCKxqc          1\n",
      "LmdNpHjoHOGKumFOLnlV          1\n",
      "Name: utm_adcontent, Length: 280, dtype: int64\n",
      "\n",
      "Характеристика: device_category\n",
      "Количество уникальных значений:  3\n",
      "Список значений:  mobile     1368679\n",
      "desktop     346891\n",
      "tablet       16696\n",
      "Name: device_category, dtype: int64\n",
      "\n",
      "Характеристика: device_brand\n",
      "Количество уникальных значений:  199\n",
      "Список значений:  Apple       867121\n",
      "Samsung     311641\n",
      "Xiaomi      269251\n",
      "Huawei      173828\n",
      "Realme       17926\n",
      "             ...  \n",
      "FREETEL          1\n",
      "Maxvi            1\n",
      "Hafury           1\n",
      "Jiayu            1\n",
      "Vodafone         1\n",
      "Name: device_brand, Length: 199, dtype: int64\n",
      "\n",
      "Характеристика: device_screen_resolution\n",
      "Количество уникальных значений:  4947\n",
      "Список значений:  414x896      155140\n",
      "1920x1080    119214\n",
      "393x851      107972\n",
      "375x812      106961\n",
      "360x780       86718\n",
      "              ...  \n",
      "620x1090          1\n",
      "514x1129          1\n",
      "496x600           1\n",
      "841x421           1\n",
      "464x1123          1\n",
      "Name: device_screen_resolution, Length: 4947, dtype: int64\n",
      "\n",
      "Характеристика: device_browser\n",
      "Количество уникальных значений:  54\n",
      "Список значений:  Chrome                              951584\n",
      "Safari                              436705\n",
      "YaBrowser                           123765\n",
      "Safari (in-app)                      65952\n",
      "Android Webview                      51919\n",
      "Samsung Internet                     44273\n",
      "Opera                                25094\n",
      "Firefox                              15738\n",
      "Edge                                 15196\n",
      "UC Browser                             815\n",
      "Mozilla Compatible Agent               336\n",
      "Android Runtime                        241\n",
      "[FBAN                                  115\n",
      "Instagram 208.0.0.32.135 Android        72\n",
      "MRCHROME                                72\n",
      "Instagram 209.0.0.21.119 Android        49\n",
      "Android Browser                         47\n",
      "Puffin                                  43\n",
      "Maxthon                                 30\n",
      "Internet Explorer                       24\n",
      "Opera Mini                              23\n",
      "Android                                 19\n",
      "Instagram 202.0.0.23.119                17\n",
      "Mozilla                                 16\n",
      "Instagram 194.0.0.36.172 Android        14\n",
      "Instagram 202.0.0.37.123 Android        12\n",
      "com.vk.vkclient                          8\n",
      "helloworld                               6\n",
      "Coc Coc                                  6\n",
      "Instagram 203.0.0.26.117                 6\n",
      "Instagram 192.0.0.37.119                 6\n",
      "Amazon Silk                              6\n",
      "Instagram 212.0.0.38.119 Android         6\n",
      "Instagram 201.0.0.23.111                 5\n",
      "Instagram 216.1.0.21.137 Android         4\n",
      "Instagram 216.0.0.12.135                 4\n",
      "Instagram 207.0.0.28.118                 4\n",
      "Instagram 213.0.0.29.120 Android         4\n",
      "SeaMonkey                                3\n",
      "Instagram 213.0.0.19.117                 3\n",
      "Instagram 192.0.0.35.123 Android         3\n",
      "Instagram 158.0.0.30.123 Android         3\n",
      "MyApp                                    2\n",
      "Iron                                     2\n",
      "Instagram 199.0.0.27.120                 2\n",
      "Instagram 208.0.0.26.131                 2\n",
      "Instagram 199.1.0.34.119 Android         2\n",
      "NetFront                                 2\n",
      "MT6735_TD                                1\n",
      "NokiaX2-02                               1\n",
      "Nokia501                                 1\n",
      "com.zhiliaoapp.musically                 1\n",
      "Konqueror                                1\n",
      "Threads 202.0.0.23.119                   1\n",
      "Name: device_browser, dtype: int64\n",
      "\n",
      "Характеристика: geo_country\n",
      "Количество уникальных значений:  158\n",
      "Список значений:  Russia                 1683494\n",
      "Ukraine                   8455\n",
      "United States             8141\n",
      "Belarus                   3432\n",
      "Kazakhstan                2109\n",
      "                        ...   \n",
      "Puerto Rico                  1\n",
      "New Caledonia                1\n",
      "Sierra Leone                 1\n",
      "Paraguay                     1\n",
      "Congo - Brazzaville          1\n",
      "Name: geo_country, Length: 158, dtype: int64\n",
      "\n",
      "Характеристика: geo_city\n",
      "Количество уникальных значений:  2362\n"
     ]
    },
    {
     "name": "stdout",
     "output_type": "stream",
     "text": [
      "Список значений:  Moscow               817754\n",
      "Saint Petersburg     278402\n",
      "Yekaterinburg         33555\n",
      "Krasnodar             30260\n",
      "Kazan                 27689\n",
      "                      ...  \n",
      "Palermo                   1\n",
      "Busto Arsizio             1\n",
      "Casale Monferrato         1\n",
      "Como                      1\n",
      "Brazzaville               1\n",
      "Name: geo_city, Length: 2362, dtype: int64\n",
      "\n",
      "Характеристика: CR_sum\n",
      "Количество уникальных значений:  52\n",
      "Список значений:  0      1681952\n",
      "1        27273\n",
      "3        11232\n",
      "2         6955\n",
      "4         2520\n",
      "6          809\n",
      "5          809\n",
      "7          210\n",
      "8          117\n",
      "9          104\n",
      "10          73\n",
      "12          29\n",
      "11          22\n",
      "14          19\n",
      "18          17\n",
      "13          13\n",
      "16          10\n",
      "24           8\n",
      "22           8\n",
      "17           7\n",
      "21           7\n",
      "35           6\n",
      "23           6\n",
      "20           6\n",
      "19           6\n",
      "27           5\n",
      "25           5\n",
      "15           4\n",
      "39           3\n",
      "30           3\n",
      "28           3\n",
      "38           2\n",
      "26           2\n",
      "42           2\n",
      "33           2\n",
      "67           1\n",
      "474          1\n",
      "48           1\n",
      "31           1\n",
      "29           1\n",
      "50           1\n",
      "46           1\n",
      "81           1\n",
      "44           1\n",
      "41           1\n",
      "83           1\n",
      "36           1\n",
      "43           1\n",
      "49           1\n",
      "47           1\n",
      "74           1\n",
      "73           1\n",
      "Name: CR_sum, dtype: int64\n",
      "\n",
      "Характеристика: CR_result\n",
      "Количество уникальных значений:  2\n",
      "Список значений:  0    1681952\n",
      "1      50314\n",
      "Name: CR_result, dtype: int64\n",
      "\n",
      "Характеристика: org_traffic\n",
      "Количество уникальных значений:  2\n",
      "Список значений:  платный трафик         1540396\n",
      "органический трафик     191870\n",
      "Name: org_traffic, dtype: int64\n",
      "\n",
      "Характеристика: advertising_social_NW\n",
      "Количество уникальных значений:  2\n",
      "Список значений:  иная реклама           1475986\n",
      "реклама в соц.сетях     256280\n",
      "Name: advertising_social_NW, dtype: int64\n",
      "\n",
      "Характеристика: city_of_presence\n",
      "Количество уникальных значений:  2\n",
      "Список значений:  Москва+Санкт-П    1096156\n",
      "другие города      636110\n",
      "Name: city_of_presence, dtype: int64\n"
     ]
    }
   ],
   "source": [
    "df_info_uniq(df)"
   ]
  },
  {
   "cell_type": "markdown",
   "id": "f206b2c1",
   "metadata": {},
   "source": [
    "#### 2.1.2. Преобразование 'client_id', 'date', добавление столбцов дат 'month' и 'dayofweek'"
   ]
  },
  {
   "cell_type": "code",
   "execution_count": 131,
   "id": "a6a9fa20",
   "metadata": {},
   "outputs": [],
   "source": [
    "# Преобразовываем тип столбца в целочисленное\n",
    "df['client_id'] = df['client_id'].astype(int)\n",
    "\n",
    "# Преобразовываем дату, создаем столбцы месяца и дня недели. По времени - не будем, т.к. много временных поясов\n",
    "df['date'] = pd.to_datetime(df['visit_date'], errors='coerce')\n",
    "df['month'] = df.date.dt.month\n",
    "df['dayofweek'] = df.date.dt.dayofweek"
   ]
  },
  {
   "cell_type": "markdown",
   "id": "bd35b849",
   "metadata": {},
   "source": [
    "#### 2.1.3. Преобразование категориальных - 'device_screen_resolution', 'device_browser', 'device_brand', 'utm_campaign',  'utm_source', 'geo_city' \n",
    "Целью преобразования является сокращение категорий данных. Берем основные используемые из списков уникальных категорий, приведенного выше. Лидеры количества обычно являются и лидерами конверсии.\n",
    "\n",
    "Проверим на примере лидеров распределения среди рекламных кампаний"
   ]
  },
  {
   "cell_type": "code",
   "execution_count": 132,
   "id": "7f75b0e5",
   "metadata": {},
   "outputs": [
    {
     "name": "stdout",
     "output_type": "stream",
     "text": [
      "(406, 3)\n",
      "Лидеры среди рекламных кампаний\n"
     ]
    },
    {
     "data": {
      "text/plain": [
       "<Figure size 432x288 with 0 Axes>"
      ]
     },
     "metadata": {},
     "output_type": "display_data"
    },
    {
     "data": {
      "image/png": "[encoded data removed]",
      "text/plain": [
       "<Figure size 1440x216 with 1 Axes>"
      ]
     },
     "metadata": {
      "needs_background": "light"
     },
     "output_type": "display_data"
    },
    {
     "data": {
      "text/plain": [
       "<Figure size 432x288 with 0 Axes>"
      ]
     },
     "metadata": {},
     "output_type": "display_data"
    },
    {
     "data": {
      "image/png": "[encoded data removed]",
      "text/plain": [
       "<Figure size 1440x216 with 1 Axes>"
      ]
     },
     "metadata": {
      "needs_background": "light"
     },
     "output_type": "display_data"
    }
   ],
   "source": [
    "stats_utm_campaign = gr_CR_and_count(df, 'utm_campaign')\n",
    "print(stats_utm_campaign.shape)\n",
    "vis_leaders_count_CR(stats_utm_campaign, 'utm_campaign', 'Лидеры среди рекламных кампаний')"
   ]
  },
  {
   "cell_type": "markdown",
   "id": "6c385d52",
   "metadata": {},
   "source": [
    "Кампании лидеры конверсии совпадают с лидерами визитов, поэтому берем лидеров количества "
   ]
  },
  {
   "cell_type": "code",
   "execution_count": 133,
   "id": "3f7870a5",
   "metadata": {},
   "outputs": [],
   "source": [
    "# Добавляем категориальную переменную разрешения экрана- device_screen_resolution -- 4947 значений - по кол-ву знаков в разрешении (7 == малое, >7 == большое)\n",
    "df['device_screen'] = ['большое разрешение' if len(i)>7 else 'малое разрешение' for  i in df['device_screen_resolution']]\n",
    "\n",
    "# Добавляем категориальную переменную    device_browser --- 54 значения - - выделяем основные браузеры, \n",
    "# Chrome 1, Safari - 2, YaBrowser - 3, остальные - 4\n",
    "df['device_browser_'] = np.where(((df['device_browser']!='Chrome') & (df['device_browser']!='Safari') & (df['device_browser']!='YaBrowser')), 'other_browser', df['device_browser'])\n",
    "\n",
    "# Добавляем категориальную переменную    device_brand --- 199 значений - выделяем основные бренды, \n",
    "# Apple - 1, Samsung - 2, Xiaomi - 3, Huawei - 4, остальные - 5\n",
    "df['device_brand_'] = np.where(((df['device_brand']!='Apple') & (df['device_brand']!='Samsung') & (df['device_brand']!='Xiaomi') & (df['device_brand']!='Huawei')), 'other_bran', df['device_brand'])\n",
    "\n",
    "# Добавляем категориальную переменную    utm_campaign_ --- 487 значения - - выделяем основные кампании, \n",
    "df['utm_campaign_'] = np.where(((df['utm_campaign']!='LTuZkdKfxRGVceoWkVyg') & \n",
    "                                (df['utm_campaign']!='LEoPHuyFvzoNfnzGgfcd') & (df['utm_campaign']!='FTjNLDyTrXaWYgZymFkV') &\n",
    "                                (df['utm_campaign']!='gecBYcKZCPMcVYdSSzKP')), 'other_campaign', df['utm_campaign'])\n",
    "\n",
    "# Добавляем категориальную переменную    utm_source_ --- 280 значения - - выделяем основные каналы, \n",
    "df['utm_source_'] = np.where(((df['utm_source']!='ZpYIoDJMcFzVoPFsHGJL') & \n",
    "                                (df['utm_source']!='fDLlAcSmythWSCVMvqvL') & (df['utm_source']!='kjsLglQLzykiRbcDiGcD') &\n",
    "                                (df['utm_source']!='bByPQxmDaMXgpHeypKSM') & (df['utm_source']!='BHcvLfOaCWvWTykYqHVe')), 'other_source', df['utm_source'])\n",
    "\n",
    "# Добавляем категориальную переменную    geo_city_ --- 2365 значения - - выделяем основные города (большие города миллионники), \n",
    "df['geo_city_'] = np.where(((df['geo_city']!='Moscow') & (df['geo_city']!='Saint Petersburg') & (df['geo_city']!='Nizhny Novgorod') &\n",
    "                            (df['geo_city']!='Yekaterinburg') & (df['geo_city']!='Krasnodar') & (df['geo_city']!='Ufa') &\n",
    "                            (df['geo_city']!='Kazan') & (df['geo_city']!='Samara') & (df['geo_city']!='Novosibirsk') &\n",
    "                            (df['geo_city']!='Krasnoyarsk')), 'other_city', df['geo_city'])"
   ]
  },
  {
   "cell_type": "markdown",
   "id": "b15fb569",
   "metadata": {},
   "source": [
    "Проверим результаты и посмотрим структуру получившихся категориальных значений:"
   ]
  },
  {
   "cell_type": "code",
   "execution_count": 134,
   "id": "4469eed1",
   "metadata": {},
   "outputs": [
    {
     "name": "stdout",
     "output_type": "stream",
     "text": [
      "Список значений:\n",
      " малое разрешение      1373517\n",
      "большое разрешение     358749\n",
      "Name: device_screen, dtype: int64\n"
     ]
    }
   ],
   "source": [
    "print('Список значений:\\n',  df['device_screen'].value_counts())"
   ]
  },
  {
   "cell_type": "code",
   "execution_count": 135,
   "id": "84d6e646",
   "metadata": {},
   "outputs": [
    {
     "name": "stdout",
     "output_type": "stream",
     "text": [
      "Список значений:\n",
      " Chrome           951584\n",
      "Safari           436705\n",
      "other_browser    220212\n",
      "YaBrowser        123765\n",
      "Name: device_browser_, dtype: int64\n"
     ]
    }
   ],
   "source": [
    "print('Список значений:\\n',  df['device_browser_'].value_counts())"
   ]
  },
  {
   "cell_type": "code",
   "execution_count": 136,
   "id": "43344a8d",
   "metadata": {},
   "outputs": [
    {
     "name": "stdout",
     "output_type": "stream",
     "text": [
      "Список значений:\n",
      " Apple         867121\n",
      "Samsung       311641\n",
      "Xiaomi        269251\n",
      "Huawei        173828\n",
      "other_bran    110425\n",
      "Name: device_brand_, dtype: int64\n"
     ]
    }
   ],
   "source": [
    "print('Список значений:\\n',  df['device_brand_'].value_counts())"
   ]
  },
  {
   "cell_type": "code",
   "execution_count": 137,
   "id": "968d8fc1",
   "metadata": {},
   "outputs": [
    {
     "name": "stdout",
     "output_type": "stream",
     "text": [
      "Список значений:\n",
      " LTuZkdKfxRGVceoWkVyg    618120\n",
      "other_campaign          424512\n",
      "LEoPHuyFvzoNfnzGgfcd    321404\n",
      "FTjNLDyTrXaWYgZymFkV    234976\n",
      "gecBYcKZCPMcVYdSSzKP    133254\n",
      "Name: utm_campaign_, dtype: int64\n"
     ]
    }
   ],
   "source": [
    "print('Список значений:\\n',  df['utm_campaign_'].value_counts())"
   ]
  },
  {
   "cell_type": "code",
   "execution_count": 138,
   "id": "72547a27",
   "metadata": {},
   "outputs": [
    {
     "name": "stdout",
     "output_type": "stream",
     "text": [
      "Список значений:\n",
      " ZpYIoDJMcFzVoPFsHGJL    552631\n",
      "other_source            456078\n",
      "fDLlAcSmythWSCVMvqvL    277060\n",
      "kjsLglQLzykiRbcDiGcD    245178\n",
      "BHcvLfOaCWvWTykYqHVe    110963\n",
      "bByPQxmDaMXgpHeypKSM     90356\n",
      "Name: utm_source_, dtype: int64\n"
     ]
    }
   ],
   "source": [
    "print('Список значений:\\n',  df['utm_source_'].value_counts())"
   ]
  },
  {
   "cell_type": "code",
   "execution_count": 139,
   "id": "b323334b",
   "metadata": {},
   "outputs": [
    {
     "name": "stdout",
     "output_type": "stream",
     "text": [
      "Список значений:\n",
      " Moscow              817754\n",
      "other_city          444710\n",
      "Saint Petersburg    278402\n",
      "Yekaterinburg        33555\n",
      "Krasnodar            30260\n",
      "Kazan                27689\n",
      "Samara               23433\n",
      "Nizhny Novgorod      20782\n",
      "Ufa                  20283\n",
      "Novosibirsk          20115\n",
      "Krasnoyarsk          15283\n",
      "Name: geo_city_, dtype: int64\n"
     ]
    }
   ],
   "source": [
    "print('Список значений:\\n',  df['geo_city_'].value_counts())"
   ]
  },
  {
   "cell_type": "markdown",
   "id": "14b4d339",
   "metadata": {},
   "source": [
    "geo_country: Количество уникальных значений:  158     Список значений:  Russia           1683494   - 95%\n",
    "\n",
    "utm_adcontent: Количество уникальных значений:  281   Список значений:  JNHcPlZPxEMWDnRiyoBf    1234204   90%\n",
    "\n",
    "поэтому не будем делать моделирование на эти признаки"
   ]
  },
  {
   "cell_type": "markdown",
   "id": "45dc36a5",
   "metadata": {},
   "source": [
    "####  Исследование 'model_auto_sum'"
   ]
  },
  {
   "cell_type": "code",
   "execution_count": null,
   "id": "517883af",
   "metadata": {},
   "outputs": [],
   "source": [
    "Все модели авто ---\n",
    "array(['skoda rapid', 'lada-vaz vesta', 'volkswagen polo', 'skoda karoq',\n",
    "       'mercedes-benz e-klasse', 'nissan qashqai', 'nissan', 'kia rio',\n",
    "       'nissan x-trail', 'skoda octavia', 'renault duster',\n",
    "       'toyota camry', 'renault logan', 'kia seltos', 'kia sorento',\n",
    "       'volkswagen tiguan', 'mercedes-benz glb',\n",
    "       'mercedes-benz gla-klasse', 'volvo s90', 'haval jolion',\n",
    "       'bmw 5-serii', 'mercedes-benz g-klasse', 'porsche cayenne',\n",
    "       'mini hatch', 'bmw 3-serii', 'bmw x5', 'skoda kodiaq',\n",
    "       'mercedes-benz gle', 'bmw x3', 'mercedes-benz glc',\n",
    "       'mercedes-benz c-klasse', 'peugeot traveller',\n",
    "       'toyota land-cruiser-prado', 'land-rover range-rover',\n",
    "       'toyota corolla', 'bmw 2-serii', 'mercedes-benz s-klasse',\n",
    "       'porsche 911', 'toyota fortuner', 'bmw x6', 'hyundai solaris',\n",
    "       'mercedes-benz gls-klasse', 'volkswagen touareg', 'audi e-tron',\n",
    "       'audi a3', 'toyota alphard', 'volkswagen teramont', 'audi q5',\n",
    "       'audi a4', 'bmw 7-serii', 'mercedes-benz cla-klasse', 'bmw x7',\n",
    "       'volkswagen taos', 'kia', 'bmw', 'toyota', 'porsche panamera',\n",
    "       'mercedes-benz', 'audi', 'skoda', 'kia cerato', 'volkswagen',\n",
    "       'renault arkana', 'hyundai', 'https:', 'renault', 'chevrolet',\n",
    "       'toyota rav-4', 'kia sportage', 'honda civic-type-r', 'haval',\n",
    "       'mitsubishi', 'mazda', 'ford', 'lexus', 'honda', 'land-rover',\n",
    "       'land-rover range-rover-velar', 'gaz', 'volkswagen passat-cc',\n",
    "       'porsche macan', 'infiniti qx60', 'volvo', 'alfa-romeo', 'bmw x1',\n",
    "       'porsche', 'chery', 'acura', 'bentley', 'volkswagen passat',\n",
    "       'land-rover defender', 'dodge', 'daewoo', 'peugeot', 'uaz', 'jeep',\n",
    "       'genesis', 'mini', 'asia', 'geely', 'lada_(vaz)', 'cheryexeed',\n",
    "       'changan', 'fiat', 'opel', 'iran-khodro', 'lamborghini', 'h6',\n",
    "       'byd', 'subaru', 'kia k5', 'suzuki', 'buick', 'tesla', 'lifan',\n",
    "       'citroen', 'jaguar', 'mercedes-benz v-klasse', 'gac', 'datsun',\n",
    "       'e994838', 'zaz', 'great-wall', 'mercedes-benz cls-klasse',\n",
    "       'hummer', 'vortex', 'faw', 'rover', 'smart', 'jac', 'audi a5',\n",
    "       'scion', 'qashqai', 'brilliance', 'foton', 'hawtai', 'granta',\n",
    "       'es', 'lincoln', 'ravon', 'haima', 'rolls-royce', 'dacia', 'saab',\n",
    "       'seat', 'ssangyong'], dtype=object)"
   ]
  },
  {
   "cell_type": "markdown",
   "id": "b228b781",
   "metadata": {},
   "source": [
    "Оставим столбцы с марками авто на третью итерацию моделирования. Первые проведем без них"
   ]
  },
  {
   "cell_type": "markdown",
   "id": "048a34b4",
   "metadata": {},
   "source": [
    "#### 2.1.4. Выводы по разделу 2.1.\n",
    "- Целевая переменная ---  CR_result\n",
    "- Поля для моделирования - session_id (id), client_id , month, dayofweek, visit_number, device_screen (кат), device_browser_, device_category (кат), device_brand_(кат),  utm_medium(кат), utm_campaign_(кат), utm_source_(кат), geo_city(кат), city_of_presence (кат), advertising_social_NW (кат), org_traffic (кат)\n",
    "\n",
    "- Столбцы на удаление --  geo_country, device_brand, device_browser, device_screen_resolution, visit_date, utm_adcontent, utm_campaign, utm_source, geo_city"
   ]
  },
  {
   "cell_type": "markdown",
   "id": "039acc73",
   "metadata": {},
   "source": [
    "### 2.2. Исследование распределения конверсии во времени"
   ]
  },
  {
   "cell_type": "code",
   "execution_count": 140,
   "id": "679ff65a",
   "metadata": {},
   "outputs": [
    {
     "data": {
      "text/plain": [
       "0    2021-11-24\n",
       "1    2021-11-14\n",
       "2    2021-12-28\n",
       "Name: date, dtype: object"
      ]
     },
     "execution_count": 140,
     "metadata": {},
     "output_type": "execute_result"
    }
   ],
   "source": [
    "# Преобразуем дату, уберем время\n",
    "df['date'] = pd.to_datetime(df['date']).dt.date\n",
    "df.date[0:3]"
   ]
  },
  {
   "cell_type": "code",
   "execution_count": 141,
   "id": "f0859c22",
   "metadata": {},
   "outputs": [
    {
     "name": "stdout",
     "output_type": "stream",
     "text": [
      "Распределение конверсии в визит по дням периода\n"
     ]
    },
    {
     "data": {
      "text/plain": [
       "<Figure size 432x288 with 0 Axes>"
      ]
     },
     "metadata": {},
     "output_type": "display_data"
    },
    {
     "data": {
      "image/png": "[encoded data removed]",
      "text/plain": [
       "<Figure size 1440x216 with 1 Axes>"
      ]
     },
     "metadata": {
      "needs_background": "light"
     },
     "output_type": "display_data"
    },
    {
     "name": "stdout",
     "output_type": "stream",
     "text": [
      "Распределение суммарной конверсии в действие по дням периода\n"
     ]
    },
    {
     "data": {
      "text/plain": [
       "<Figure size 432x288 with 0 Axes>"
      ]
     },
     "metadata": {},
     "output_type": "display_data"
    },
    {
     "data": {
      "image/png": "[encoded data removed]",
      "text/plain": [
       "<Figure size 1440x216 with 1 Axes>"
      ]
     },
     "metadata": {
      "needs_background": "light"
     },
     "output_type": "display_data"
    },
    {
     "name": "stdout",
     "output_type": "stream",
     "text": [
      "Распределение результирующей конверсии в действие по дням периода\n"
     ]
    },
    {
     "data": {
      "text/plain": [
       "<Figure size 432x288 with 0 Axes>"
      ]
     },
     "metadata": {},
     "output_type": "display_data"
    },
    {
     "data": {
      "image/png": "[encoded data removed]",
      "text/plain": [
       "<Figure size 1440x216 with 1 Axes>"
      ]
     },
     "metadata": {
      "needs_background": "light"
     },
     "output_type": "display_data"
    }
   ],
   "source": [
    "d = df.groupby(['date']).agg({'session_id': 'size', 'CR_sum': 'sum', 'CR_result': 'sum'}).reset_index().rename(columns={'session_id': 'count', 'CR_result': 'count_CR'}).sort_values(by='date', ascending = True)\n",
    "# Построим графики распределения во времени\n",
    "plt.figure(1)\n",
    "print('Распределение конверсии в визит по дням периода')\n",
    "plt.figure(figsize=(20, 3))\n",
    "plt.bar(d['date'], d['count'])\n",
    "plt.show();\n",
    "plt.figure(2)\n",
    "print('Распределение суммарной конверсии в действие по дням периода')\n",
    "plt.figure(figsize=(20, 3))\n",
    "plt.bar(d['date'], d['CR_sum'])\n",
    "plt.show();\n",
    "plt.figure(3)\n",
    "print('Распределение результирующей конверсии в действие по дням периода')\n",
    "plt.figure(figsize=(20, 3))\n",
    "plt.bar(d['date'], d['count_CR'])\n",
    "plt.show();"
   ]
  },
  {
   "cell_type": "markdown",
   "id": "8eafec9c",
   "metadata": {},
   "source": [
    "Как видно из графиков пики конверсий по дням совпадают, особенно дни максимумов.\n",
    "\n",
    "Рассмотрим распределение конверсий по месяцам"
   ]
  },
  {
   "cell_type": "code",
   "execution_count": 142,
   "id": "e94c8f96",
   "metadata": {},
   "outputs": [
    {
     "name": "stdout",
     "output_type": "stream",
     "text": [
      "Распределение конверсии в визит по месяцам периода\n"
     ]
    },
    {
     "data": {
      "text/plain": [
       "<Figure size 432x288 with 0 Axes>"
      ]
     },
     "metadata": {},
     "output_type": "display_data"
    },
    {
     "data": {
      "image/png": "[encoded data removed]",
      "text/plain": [
       "<Figure size 720x144 with 1 Axes>"
      ]
     },
     "metadata": {
      "needs_background": "light"
     },
     "output_type": "display_data"
    },
    {
     "name": "stdout",
     "output_type": "stream",
     "text": [
      "Распределение сумимарной конверсии в действие по месяцам периода\n"
     ]
    },
    {
     "data": {
      "text/plain": [
       "<Figure size 432x288 with 0 Axes>"
      ]
     },
     "metadata": {},
     "output_type": "display_data"
    },
    {
     "data": {
      "image/png": "[encoded data removed]",
      "text/plain": [
       "<Figure size 720x144 with 1 Axes>"
      ]
     },
     "metadata": {
      "needs_background": "light"
     },
     "output_type": "display_data"
    },
    {
     "name": "stdout",
     "output_type": "stream",
     "text": [
      "Распределение результирующей конверсии в действие по месяцам периода\n"
     ]
    },
    {
     "data": {
      "text/plain": [
       "<Figure size 432x288 with 0 Axes>"
      ]
     },
     "metadata": {},
     "output_type": "display_data"
    },
    {
     "data": {
      "image/png": "[encoded data removed]",
      "text/plain": [
       "<Figure size 720x144 with 1 Axes>"
      ]
     },
     "metadata": {
      "needs_background": "light"
     },
     "output_type": "display_data"
    }
   ],
   "source": [
    "d['date_mon'] = [ i.strftime(\"%Y-%m\") for i in d['date']]\n",
    "d_ = d.groupby(['date_mon']).agg({'count': 'sum', 'CR_sum': 'sum', 'count_CR': 'sum'}).reset_index().sort_values(by='date_mon', ascending = True)\n",
    "plt.figure(1)\n",
    "print('Распределение конверсии в визит по месяцам периода')\n",
    "plt.figure(figsize=(10, 2))\n",
    "plt.bar(d_['date_mon'], d_['count'])\n",
    "plt.show();\n",
    "plt.figure(2)\n",
    "print('Распределение сумимарной конверсии в действие по месяцам периода')\n",
    "plt.figure(figsize=(10, 2))\n",
    "plt.bar(d_['date_mon'], d_['CR_sum'])\n",
    "plt.show();\n",
    "plt.figure(3)\n",
    "print('Распределение результирующей конверсии в действие по месяцам периода')\n",
    "plt.figure(figsize=(10, 2))\n",
    "plt.bar(d_['date_mon'], d_['count_CR'])\n",
    "plt.show();"
   ]
  },
  {
   "cell_type": "markdown",
   "id": "37a60ef9",
   "metadata": {},
   "source": [
    "Как видно из графиков по месяцам конверсии имеют одинаковый тренд - рост к концу периода, но по месяцам графики различаются. Одинаковую форму имеют графики суммарной и результирующей конверсии, поэтому далее можно рассматривать один из признаков. ---- Оставим результирующую конверсию - 'CR_result'."
   ]
  },
  {
   "cell_type": "code",
   "execution_count": 143,
   "id": "3acba125",
   "metadata": {},
   "outputs": [
    {
     "data": {
      "text/plain": [
       "Index(['session_id', 'client_id', 'visit_date', 'visit_number', 'utm_source',\n",
       "       'utm_medium', 'utm_campaign', 'utm_adcontent', 'device_category',\n",
       "       'device_brand', 'device_screen_resolution', 'device_browser',\n",
       "       'geo_country', 'geo_city', 'CR_sum', 'CR_result', 'org_traffic',\n",
       "       'advertising_social_NW', 'city_of_presence', 'date', 'month',\n",
       "       'dayofweek', 'device_screen', 'device_browser_', 'device_brand_',\n",
       "       'utm_campaign_', 'utm_source_', 'geo_city_'],\n",
       "      dtype='object')"
      ]
     },
     "execution_count": 143,
     "metadata": {},
     "output_type": "execute_result"
    }
   ],
   "source": [
    "df.columns"
   ]
  },
  {
   "cell_type": "code",
   "execution_count": 144,
   "id": "8686dbc0",
   "metadata": {},
   "outputs": [
    {
     "data": {
      "text/html": [
       "<div>\n",
       "<style scoped>\n",
       "    .dataframe tbody tr th:only-of-type {\n",
       "        vertical-align: middle;\n",
       "    }\n",
       "\n",
       "    .dataframe tbody tr th {\n",
       "        vertical-align: top;\n",
       "    }\n",
       "\n",
       "    .dataframe thead th {\n",
       "        text-align: right;\n",
       "    }\n",
       "</style>\n",
       "<table border=\"1\" class=\"dataframe\">\n",
       "  <thead>\n",
       "    <tr style=\"text-align: right;\">\n",
       "      <th></th>\n",
       "      <th>session_id</th>\n",
       "      <th>client_id</th>\n",
       "      <th>visit_number</th>\n",
       "      <th>utm_medium</th>\n",
       "      <th>device_category</th>\n",
       "      <th>CR_result</th>\n",
       "      <th>org_traffic</th>\n",
       "      <th>advertising_social_NW</th>\n",
       "      <th>city_of_presence</th>\n",
       "      <th>date</th>\n",
       "      <th>month</th>\n",
       "      <th>dayofweek</th>\n",
       "      <th>device_screen</th>\n",
       "      <th>device_browser_</th>\n",
       "      <th>device_brand_</th>\n",
       "      <th>utm_campaign_</th>\n",
       "      <th>utm_source_</th>\n",
       "      <th>geo_city_</th>\n",
       "    </tr>\n",
       "  </thead>\n",
       "  <tbody>\n",
       "    <tr>\n",
       "      <th>0</th>\n",
       "      <td>9055434745589932991.1637753792.1637753792</td>\n",
       "      <td>2108382700</td>\n",
       "      <td>1</td>\n",
       "      <td>banner</td>\n",
       "      <td>mobile</td>\n",
       "      <td>0</td>\n",
       "      <td>платный трафик</td>\n",
       "      <td>иная реклама</td>\n",
       "      <td>другие города</td>\n",
       "      <td>2021-11-24</td>\n",
       "      <td>11</td>\n",
       "      <td>2</td>\n",
       "      <td>малое разрешение</td>\n",
       "      <td>Chrome</td>\n",
       "      <td>Huawei</td>\n",
       "      <td>LEoPHuyFvzoNfnzGgfcd</td>\n",
       "      <td>ZpYIoDJMcFzVoPFsHGJL</td>\n",
       "      <td>other_city</td>\n",
       "    </tr>\n",
       "    <tr>\n",
       "      <th>1</th>\n",
       "      <td>905544597018549464.1636867290.1636867290</td>\n",
       "      <td>210838531</td>\n",
       "      <td>1</td>\n",
       "      <td>cpm</td>\n",
       "      <td>mobile</td>\n",
       "      <td>0</td>\n",
       "      <td>платный трафик</td>\n",
       "      <td>иная реклама</td>\n",
       "      <td>Москва+Санкт-П</td>\n",
       "      <td>2021-11-14</td>\n",
       "      <td>11</td>\n",
       "      <td>6</td>\n",
       "      <td>малое разрешение</td>\n",
       "      <td>other_browser</td>\n",
       "      <td>Samsung</td>\n",
       "      <td>FTjNLDyTrXaWYgZymFkV</td>\n",
       "      <td>ZpYIoDJMcFzVoPFsHGJL</td>\n",
       "      <td>Moscow</td>\n",
       "    </tr>\n",
       "    <tr>\n",
       "      <th>2</th>\n",
       "      <td>9055446045651783499.1640648526.1640648526</td>\n",
       "      <td>2108385331</td>\n",
       "      <td>1</td>\n",
       "      <td>banner</td>\n",
       "      <td>mobile</td>\n",
       "      <td>0</td>\n",
       "      <td>платный трафик</td>\n",
       "      <td>иная реклама</td>\n",
       "      <td>другие города</td>\n",
       "      <td>2021-12-28</td>\n",
       "      <td>12</td>\n",
       "      <td>1</td>\n",
       "      <td>малое разрешение</td>\n",
       "      <td>Chrome</td>\n",
       "      <td>Huawei</td>\n",
       "      <td>LEoPHuyFvzoNfnzGgfcd</td>\n",
       "      <td>ZpYIoDJMcFzVoPFsHGJL</td>\n",
       "      <td>Krasnoyarsk</td>\n",
       "    </tr>\n",
       "  </tbody>\n",
       "</table>\n",
       "</div>"
      ],
      "text/plain": [
       "                                  session_id   client_id  visit_number  \\\n",
       "0  9055434745589932991.1637753792.1637753792  2108382700             1   \n",
       "1   905544597018549464.1636867290.1636867290   210838531             1   \n",
       "2  9055446045651783499.1640648526.1640648526  2108385331             1   \n",
       "\n",
       "  utm_medium device_category  CR_result     org_traffic advertising_social_NW  \\\n",
       "0     banner          mobile          0  платный трафик          иная реклама   \n",
       "1        cpm          mobile          0  платный трафик          иная реклама   \n",
       "2     banner          mobile          0  платный трафик          иная реклама   \n",
       "\n",
       "  city_of_presence        date  month  dayofweek     device_screen  \\\n",
       "0    другие города  2021-11-24     11          2  малое разрешение   \n",
       "1   Москва+Санкт-П  2021-11-14     11          6  малое разрешение   \n",
       "2    другие города  2021-12-28     12          1  малое разрешение   \n",
       "\n",
       "  device_browser_ device_brand_         utm_campaign_           utm_source_  \\\n",
       "0          Chrome        Huawei  LEoPHuyFvzoNfnzGgfcd  ZpYIoDJMcFzVoPFsHGJL   \n",
       "1   other_browser       Samsung  FTjNLDyTrXaWYgZymFkV  ZpYIoDJMcFzVoPFsHGJL   \n",
       "2          Chrome        Huawei  LEoPHuyFvzoNfnzGgfcd  ZpYIoDJMcFzVoPFsHGJL   \n",
       "\n",
       "     geo_city_  \n",
       "0   other_city  \n",
       "1       Moscow  \n",
       "2  Krasnoyarsk  "
      ]
     },
     "execution_count": 144,
     "metadata": {},
     "output_type": "execute_result"
    }
   ],
   "source": [
    "# Удалим дублирующие и лишние столбцы\n",
    "df_ = df1 = df.drop(columns=['CR_sum', 'geo_country', 'device_brand', 'device_browser', 'device_screen_resolution', \n",
    "                             'visit_date', 'utm_adcontent', 'utm_campaign', 'utm_source', 'geo_city'])\n",
    "df_.shape\n",
    "df_.head(3)"
   ]
  },
  {
   "cell_type": "code",
   "execution_count": 145,
   "id": "8ace5fb2",
   "metadata": {},
   "outputs": [],
   "source": [
    "# Сохраним промежуточную выборку, после EDA, полная, без моделей авто, перед исследованием корреляции и стандартизацией данных\n",
    "df_.to_csv('data/df_fe1.csv', index=False)"
   ]
  },
  {
   "cell_type": "code",
   "execution_count": 146,
   "id": "a081198b",
   "metadata": {},
   "outputs": [],
   "source": [
    "df = pd.read_csv('data/df_fe1.csv')"
   ]
  },
  {
   "cell_type": "markdown",
   "id": "5a60b045",
   "metadata": {},
   "source": [
    "### 2.3. Исследование корреляции признаков"
   ]
  },
  {
   "cell_type": "code",
   "execution_count": 147,
   "id": "f6f839a3",
   "metadata": {},
   "outputs": [
    {
     "data": {
      "text/html": [
       "<div>\n",
       "<style scoped>\n",
       "    .dataframe tbody tr th:only-of-type {\n",
       "        vertical-align: middle;\n",
       "    }\n",
       "\n",
       "    .dataframe tbody tr th {\n",
       "        vertical-align: top;\n",
       "    }\n",
       "\n",
       "    .dataframe thead th {\n",
       "        text-align: right;\n",
       "    }\n",
       "</style>\n",
       "<table border=\"1\" class=\"dataframe\">\n",
       "  <thead>\n",
       "    <tr style=\"text-align: right;\">\n",
       "      <th></th>\n",
       "      <th>session_id</th>\n",
       "      <th>client_id</th>\n",
       "      <th>visit_number</th>\n",
       "      <th>utm_medium</th>\n",
       "      <th>device_category</th>\n",
       "      <th>CR_result</th>\n",
       "      <th>org_traffic</th>\n",
       "      <th>advertising_social_NW</th>\n",
       "      <th>city_of_presence</th>\n",
       "      <th>date</th>\n",
       "      <th>month</th>\n",
       "      <th>dayofweek</th>\n",
       "      <th>device_screen</th>\n",
       "      <th>device_browser_</th>\n",
       "      <th>device_brand_</th>\n",
       "      <th>utm_campaign_</th>\n",
       "      <th>utm_source_</th>\n",
       "      <th>geo_city_</th>\n",
       "    </tr>\n",
       "  </thead>\n",
       "  <tbody>\n",
       "    <tr>\n",
       "      <th>session_id</th>\n",
       "      <td>1.000000</td>\n",
       "      <td>1.000000</td>\n",
       "      <td>0.010216</td>\n",
       "      <td>0.003054</td>\n",
       "      <td>0.001229</td>\n",
       "      <td>0.001104</td>\n",
       "      <td>0.000693</td>\n",
       "      <td>-0.040557</td>\n",
       "      <td>-0.063979</td>\n",
       "      <td>-0.000102</td>\n",
       "      <td>0.001747</td>\n",
       "      <td>0.000379</td>\n",
       "      <td>0.001230</td>\n",
       "      <td>-0.000713</td>\n",
       "      <td>0.230656</td>\n",
       "      <td>-0.000047</td>\n",
       "      <td>0.088790</td>\n",
       "      <td>-0.040689</td>\n",
       "    </tr>\n",
       "    <tr>\n",
       "      <th>client_id</th>\n",
       "      <td>1.000000</td>\n",
       "      <td>1.000000</td>\n",
       "      <td>0.010213</td>\n",
       "      <td>0.003055</td>\n",
       "      <td>0.001232</td>\n",
       "      <td>0.001104</td>\n",
       "      <td>0.000694</td>\n",
       "      <td>-0.040521</td>\n",
       "      <td>-0.063965</td>\n",
       "      <td>-0.000102</td>\n",
       "      <td>0.001747</td>\n",
       "      <td>0.000379</td>\n",
       "      <td>0.001233</td>\n",
       "      <td>-0.000714</td>\n",
       "      <td>0.230632</td>\n",
       "      <td>-0.000046</td>\n",
       "      <td>0.088979</td>\n",
       "      <td>-0.040680</td>\n",
       "    </tr>\n",
       "    <tr>\n",
       "      <th>visit_number</th>\n",
       "      <td>0.010216</td>\n",
       "      <td>0.010213</td>\n",
       "      <td>1.000000</td>\n",
       "      <td>0.001179</td>\n",
       "      <td>0.138107</td>\n",
       "      <td>0.027026</td>\n",
       "      <td>-0.000927</td>\n",
       "      <td>-0.007855</td>\n",
       "      <td>0.001517</td>\n",
       "      <td>0.011041</td>\n",
       "      <td>-0.002393</td>\n",
       "      <td>0.001021</td>\n",
       "      <td>0.136062</td>\n",
       "      <td>-0.007559</td>\n",
       "      <td>0.002538</td>\n",
       "      <td>0.001599</td>\n",
       "      <td>0.000183</td>\n",
       "      <td>0.001752</td>\n",
       "    </tr>\n",
       "    <tr>\n",
       "      <th>utm_medium</th>\n",
       "      <td>0.003054</td>\n",
       "      <td>0.003055</td>\n",
       "      <td>0.001179</td>\n",
       "      <td>1.000000</td>\n",
       "      <td>-0.000601</td>\n",
       "      <td>-0.000126</td>\n",
       "      <td>0.253436</td>\n",
       "      <td>0.000493</td>\n",
       "      <td>-0.000502</td>\n",
       "      <td>-0.000412</td>\n",
       "      <td>-0.001652</td>\n",
       "      <td>-0.000437</td>\n",
       "      <td>-0.000778</td>\n",
       "      <td>-0.000101</td>\n",
       "      <td>0.000310</td>\n",
       "      <td>0.391600</td>\n",
       "      <td>-0.000522</td>\n",
       "      <td>0.000520</td>\n",
       "    </tr>\n",
       "    <tr>\n",
       "      <th>device_category</th>\n",
       "      <td>0.001229</td>\n",
       "      <td>0.001232</td>\n",
       "      <td>0.138107</td>\n",
       "      <td>-0.000601</td>\n",
       "      <td>1.000000</td>\n",
       "      <td>0.012060</td>\n",
       "      <td>0.000403</td>\n",
       "      <td>-0.002141</td>\n",
       "      <td>-0.000459</td>\n",
       "      <td>0.025637</td>\n",
       "      <td>0.030054</td>\n",
       "      <td>0.029788</td>\n",
       "      <td>0.966566</td>\n",
       "      <td>0.001826</td>\n",
       "      <td>-0.000281</td>\n",
       "      <td>-0.000712</td>\n",
       "      <td>0.001275</td>\n",
       "      <td>0.000377</td>\n",
       "    </tr>\n",
       "    <tr>\n",
       "      <th>CR_result</th>\n",
       "      <td>0.001104</td>\n",
       "      <td>0.001104</td>\n",
       "      <td>0.027026</td>\n",
       "      <td>-0.000126</td>\n",
       "      <td>0.012060</td>\n",
       "      <td>1.000000</td>\n",
       "      <td>-0.000295</td>\n",
       "      <td>0.000274</td>\n",
       "      <td>0.000049</td>\n",
       "      <td>0.007648</td>\n",
       "      <td>0.006999</td>\n",
       "      <td>-0.001565</td>\n",
       "      <td>0.010867</td>\n",
       "      <td>0.006908</td>\n",
       "      <td>0.000411</td>\n",
       "      <td>0.002233</td>\n",
       "      <td>0.000650</td>\n",
       "      <td>0.000510</td>\n",
       "    </tr>\n",
       "    <tr>\n",
       "      <th>org_traffic</th>\n",
       "      <td>0.000693</td>\n",
       "      <td>0.000694</td>\n",
       "      <td>-0.000927</td>\n",
       "      <td>0.253436</td>\n",
       "      <td>0.000403</td>\n",
       "      <td>-0.000295</td>\n",
       "      <td>1.000000</td>\n",
       "      <td>-0.000649</td>\n",
       "      <td>0.000817</td>\n",
       "      <td>-0.000165</td>\n",
       "      <td>0.000681</td>\n",
       "      <td>0.001396</td>\n",
       "      <td>0.000041</td>\n",
       "      <td>-0.000096</td>\n",
       "      <td>-0.000949</td>\n",
       "      <td>0.083730</td>\n",
       "      <td>0.001681</td>\n",
       "      <td>0.000059</td>\n",
       "    </tr>\n",
       "    <tr>\n",
       "      <th>advertising_social_NW</th>\n",
       "      <td>-0.040557</td>\n",
       "      <td>-0.040521</td>\n",
       "      <td>-0.007855</td>\n",
       "      <td>0.000493</td>\n",
       "      <td>-0.002141</td>\n",
       "      <td>0.000274</td>\n",
       "      <td>-0.000649</td>\n",
       "      <td>1.000000</td>\n",
       "      <td>0.014913</td>\n",
       "      <td>0.000064</td>\n",
       "      <td>-0.001466</td>\n",
       "      <td>-0.001876</td>\n",
       "      <td>-0.001950</td>\n",
       "      <td>-0.001340</td>\n",
       "      <td>0.056215</td>\n",
       "      <td>0.000454</td>\n",
       "      <td>-0.013888</td>\n",
       "      <td>0.009727</td>\n",
       "    </tr>\n",
       "    <tr>\n",
       "      <th>city_of_presence</th>\n",
       "      <td>-0.063979</td>\n",
       "      <td>-0.063965</td>\n",
       "      <td>0.001517</td>\n",
       "      <td>-0.000502</td>\n",
       "      <td>-0.000459</td>\n",
       "      <td>0.000049</td>\n",
       "      <td>0.000817</td>\n",
       "      <td>0.014913</td>\n",
       "      <td>1.000000</td>\n",
       "      <td>0.001704</td>\n",
       "      <td>0.000299</td>\n",
       "      <td>-0.000290</td>\n",
       "      <td>-0.000073</td>\n",
       "      <td>0.000007</td>\n",
       "      <td>-0.024717</td>\n",
       "      <td>-0.000139</td>\n",
       "      <td>0.009200</td>\n",
       "      <td>-0.093495</td>\n",
       "    </tr>\n",
       "    <tr>\n",
       "      <th>date</th>\n",
       "      <td>-0.000102</td>\n",
       "      <td>-0.000102</td>\n",
       "      <td>0.011041</td>\n",
       "      <td>-0.000412</td>\n",
       "      <td>0.025637</td>\n",
       "      <td>0.007648</td>\n",
       "      <td>-0.000165</td>\n",
       "      <td>0.000064</td>\n",
       "      <td>0.001704</td>\n",
       "      <td>1.000000</td>\n",
       "      <td>0.178603</td>\n",
       "      <td>-0.001241</td>\n",
       "      <td>0.023775</td>\n",
       "      <td>0.019581</td>\n",
       "      <td>0.000275</td>\n",
       "      <td>-0.000501</td>\n",
       "      <td>-0.000558</td>\n",
       "      <td>-0.000712</td>\n",
       "    </tr>\n",
       "    <tr>\n",
       "      <th>month</th>\n",
       "      <td>0.001747</td>\n",
       "      <td>0.001747</td>\n",
       "      <td>-0.002393</td>\n",
       "      <td>-0.001652</td>\n",
       "      <td>0.030054</td>\n",
       "      <td>0.006999</td>\n",
       "      <td>0.000681</td>\n",
       "      <td>-0.001466</td>\n",
       "      <td>0.000299</td>\n",
       "      <td>0.178603</td>\n",
       "      <td>1.000000</td>\n",
       "      <td>0.010364</td>\n",
       "      <td>0.032319</td>\n",
       "      <td>0.038269</td>\n",
       "      <td>0.000757</td>\n",
       "      <td>0.000604</td>\n",
       "      <td>-0.000465</td>\n",
       "      <td>0.001042</td>\n",
       "    </tr>\n",
       "    <tr>\n",
       "      <th>dayofweek</th>\n",
       "      <td>0.000379</td>\n",
       "      <td>0.000379</td>\n",
       "      <td>0.001021</td>\n",
       "      <td>-0.000437</td>\n",
       "      <td>0.029788</td>\n",
       "      <td>-0.001565</td>\n",
       "      <td>0.001396</td>\n",
       "      <td>-0.001876</td>\n",
       "      <td>-0.000290</td>\n",
       "      <td>-0.001241</td>\n",
       "      <td>0.010364</td>\n",
       "      <td>1.000000</td>\n",
       "      <td>0.031403</td>\n",
       "      <td>-0.003726</td>\n",
       "      <td>0.000660</td>\n",
       "      <td>-0.000944</td>\n",
       "      <td>0.001244</td>\n",
       "      <td>0.000232</td>\n",
       "    </tr>\n",
       "    <tr>\n",
       "      <th>device_screen</th>\n",
       "      <td>0.001230</td>\n",
       "      <td>0.001233</td>\n",
       "      <td>0.136062</td>\n",
       "      <td>-0.000778</td>\n",
       "      <td>0.966566</td>\n",
       "      <td>0.010867</td>\n",
       "      <td>0.000041</td>\n",
       "      <td>-0.001950</td>\n",
       "      <td>-0.000073</td>\n",
       "      <td>0.023775</td>\n",
       "      <td>0.032319</td>\n",
       "      <td>0.031403</td>\n",
       "      <td>1.000000</td>\n",
       "      <td>0.009216</td>\n",
       "      <td>-0.000187</td>\n",
       "      <td>-0.000751</td>\n",
       "      <td>0.000928</td>\n",
       "      <td>0.000164</td>\n",
       "    </tr>\n",
       "    <tr>\n",
       "      <th>device_browser_</th>\n",
       "      <td>-0.000713</td>\n",
       "      <td>-0.000714</td>\n",
       "      <td>-0.007559</td>\n",
       "      <td>-0.000101</td>\n",
       "      <td>0.001826</td>\n",
       "      <td>0.006908</td>\n",
       "      <td>-0.000096</td>\n",
       "      <td>-0.001340</td>\n",
       "      <td>0.000007</td>\n",
       "      <td>0.019581</td>\n",
       "      <td>0.038269</td>\n",
       "      <td>-0.003726</td>\n",
       "      <td>0.009216</td>\n",
       "      <td>1.000000</td>\n",
       "      <td>-0.001720</td>\n",
       "      <td>-0.000727</td>\n",
       "      <td>-0.000990</td>\n",
       "      <td>-0.000648</td>\n",
       "    </tr>\n",
       "    <tr>\n",
       "      <th>device_brand_</th>\n",
       "      <td>0.230656</td>\n",
       "      <td>0.230632</td>\n",
       "      <td>0.002538</td>\n",
       "      <td>0.000310</td>\n",
       "      <td>-0.000281</td>\n",
       "      <td>0.000411</td>\n",
       "      <td>-0.000949</td>\n",
       "      <td>0.056215</td>\n",
       "      <td>-0.024717</td>\n",
       "      <td>0.000275</td>\n",
       "      <td>0.000757</td>\n",
       "      <td>0.000660</td>\n",
       "      <td>-0.000187</td>\n",
       "      <td>-0.001720</td>\n",
       "      <td>1.000000</td>\n",
       "      <td>0.000607</td>\n",
       "      <td>-0.006136</td>\n",
       "      <td>-0.013872</td>\n",
       "    </tr>\n",
       "    <tr>\n",
       "      <th>utm_campaign_</th>\n",
       "      <td>-0.000047</td>\n",
       "      <td>-0.000046</td>\n",
       "      <td>0.001599</td>\n",
       "      <td>0.391600</td>\n",
       "      <td>-0.000712</td>\n",
       "      <td>0.002233</td>\n",
       "      <td>0.083730</td>\n",
       "      <td>0.000454</td>\n",
       "      <td>-0.000139</td>\n",
       "      <td>-0.000501</td>\n",
       "      <td>0.000604</td>\n",
       "      <td>-0.000944</td>\n",
       "      <td>-0.000751</td>\n",
       "      <td>-0.000727</td>\n",
       "      <td>0.000607</td>\n",
       "      <td>1.000000</td>\n",
       "      <td>-0.000748</td>\n",
       "      <td>-0.000187</td>\n",
       "    </tr>\n",
       "    <tr>\n",
       "      <th>utm_source_</th>\n",
       "      <td>0.088790</td>\n",
       "      <td>0.088979</td>\n",
       "      <td>0.000183</td>\n",
       "      <td>-0.000522</td>\n",
       "      <td>0.001275</td>\n",
       "      <td>0.000650</td>\n",
       "      <td>0.001681</td>\n",
       "      <td>-0.013888</td>\n",
       "      <td>0.009200</td>\n",
       "      <td>-0.000558</td>\n",
       "      <td>-0.000465</td>\n",
       "      <td>0.001244</td>\n",
       "      <td>0.000928</td>\n",
       "      <td>-0.000990</td>\n",
       "      <td>-0.006136</td>\n",
       "      <td>-0.000748</td>\n",
       "      <td>1.000000</td>\n",
       "      <td>0.005769</td>\n",
       "    </tr>\n",
       "    <tr>\n",
       "      <th>geo_city_</th>\n",
       "      <td>-0.040689</td>\n",
       "      <td>-0.040680</td>\n",
       "      <td>0.001752</td>\n",
       "      <td>0.000520</td>\n",
       "      <td>0.000377</td>\n",
       "      <td>0.000510</td>\n",
       "      <td>0.000059</td>\n",
       "      <td>0.009727</td>\n",
       "      <td>-0.093495</td>\n",
       "      <td>-0.000712</td>\n",
       "      <td>0.001042</td>\n",
       "      <td>0.000232</td>\n",
       "      <td>0.000164</td>\n",
       "      <td>-0.000648</td>\n",
       "      <td>-0.013872</td>\n",
       "      <td>-0.000187</td>\n",
       "      <td>0.005769</td>\n",
       "      <td>1.000000</td>\n",
       "    </tr>\n",
       "  </tbody>\n",
       "</table>\n",
       "</div>"
      ],
      "text/plain": [
       "                       session_id  client_id  visit_number  utm_medium  \\\n",
       "session_id               1.000000   1.000000      0.010216    0.003054   \n",
       "client_id                1.000000   1.000000      0.010213    0.003055   \n",
       "visit_number             0.010216   0.010213      1.000000    0.001179   \n",
       "utm_medium               0.003054   0.003055      0.001179    1.000000   \n",
       "device_category          0.001229   0.001232      0.138107   -0.000601   \n",
       "CR_result                0.001104   0.001104      0.027026   -0.000126   \n",
       "org_traffic              0.000693   0.000694     -0.000927    0.253436   \n",
       "advertising_social_NW   -0.040557  -0.040521     -0.007855    0.000493   \n",
       "city_of_presence        -0.063979  -0.063965      0.001517   -0.000502   \n",
       "date                    -0.000102  -0.000102      0.011041   -0.000412   \n",
       "month                    0.001747   0.001747     -0.002393   -0.001652   \n",
       "dayofweek                0.000379   0.000379      0.001021   -0.000437   \n",
       "device_screen            0.001230   0.001233      0.136062   -0.000778   \n",
       "device_browser_         -0.000713  -0.000714     -0.007559   -0.000101   \n",
       "device_brand_            0.230656   0.230632      0.002538    0.000310   \n",
       "utm_campaign_           -0.000047  -0.000046      0.001599    0.391600   \n",
       "utm_source_              0.088790   0.088979      0.000183   -0.000522   \n",
       "geo_city_               -0.040689  -0.040680      0.001752    0.000520   \n",
       "\n",
       "                       device_category  CR_result  org_traffic  \\\n",
       "session_id                    0.001229   0.001104     0.000693   \n",
       "client_id                     0.001232   0.001104     0.000694   \n",
       "visit_number                  0.138107   0.027026    -0.000927   \n",
       "utm_medium                   -0.000601  -0.000126     0.253436   \n",
       "device_category               1.000000   0.012060     0.000403   \n",
       "CR_result                     0.012060   1.000000    -0.000295   \n",
       "org_traffic                   0.000403  -0.000295     1.000000   \n",
       "advertising_social_NW        -0.002141   0.000274    -0.000649   \n",
       "city_of_presence             -0.000459   0.000049     0.000817   \n",
       "date                          0.025637   0.007648    -0.000165   \n",
       "month                         0.030054   0.006999     0.000681   \n",
       "dayofweek                     0.029788  -0.001565     0.001396   \n",
       "device_screen                 0.966566   0.010867     0.000041   \n",
       "device_browser_               0.001826   0.006908    -0.000096   \n",
       "device_brand_                -0.000281   0.000411    -0.000949   \n",
       "utm_campaign_                -0.000712   0.002233     0.083730   \n",
       "utm_source_                   0.001275   0.000650     0.001681   \n",
       "geo_city_                     0.000377   0.000510     0.000059   \n",
       "\n",
       "                       advertising_social_NW  city_of_presence      date  \\\n",
       "session_id                         -0.040557         -0.063979 -0.000102   \n",
       "client_id                          -0.040521         -0.063965 -0.000102   \n",
       "visit_number                       -0.007855          0.001517  0.011041   \n",
       "utm_medium                          0.000493         -0.000502 -0.000412   \n",
       "device_category                    -0.002141         -0.000459  0.025637   \n",
       "CR_result                           0.000274          0.000049  0.007648   \n",
       "org_traffic                        -0.000649          0.000817 -0.000165   \n",
       "advertising_social_NW               1.000000          0.014913  0.000064   \n",
       "city_of_presence                    0.014913          1.000000  0.001704   \n",
       "date                                0.000064          0.001704  1.000000   \n",
       "month                              -0.001466          0.000299  0.178603   \n",
       "dayofweek                          -0.001876         -0.000290 -0.001241   \n",
       "device_screen                      -0.001950         -0.000073  0.023775   \n",
       "device_browser_                    -0.001340          0.000007  0.019581   \n",
       "device_brand_                       0.056215         -0.024717  0.000275   \n",
       "utm_campaign_                       0.000454         -0.000139 -0.000501   \n",
       "utm_source_                        -0.013888          0.009200 -0.000558   \n",
       "geo_city_                           0.009727         -0.093495 -0.000712   \n",
       "\n",
       "                          month  dayofweek  device_screen  device_browser_  \\\n",
       "session_id             0.001747   0.000379       0.001230        -0.000713   \n",
       "client_id              0.001747   0.000379       0.001233        -0.000714   \n",
       "visit_number          -0.002393   0.001021       0.136062        -0.007559   \n",
       "utm_medium            -0.001652  -0.000437      -0.000778        -0.000101   \n",
       "device_category        0.030054   0.029788       0.966566         0.001826   \n",
       "CR_result              0.006999  -0.001565       0.010867         0.006908   \n",
       "org_traffic            0.000681   0.001396       0.000041        -0.000096   \n",
       "advertising_social_NW -0.001466  -0.001876      -0.001950        -0.001340   \n",
       "city_of_presence       0.000299  -0.000290      -0.000073         0.000007   \n",
       "date                   0.178603  -0.001241       0.023775         0.019581   \n",
       "month                  1.000000   0.010364       0.032319         0.038269   \n",
       "dayofweek              0.010364   1.000000       0.031403        -0.003726   \n",
       "device_screen          0.032319   0.031403       1.000000         0.009216   \n",
       "device_browser_        0.038269  -0.003726       0.009216         1.000000   \n",
       "device_brand_          0.000757   0.000660      -0.000187        -0.001720   \n",
       "utm_campaign_          0.000604  -0.000944      -0.000751        -0.000727   \n",
       "utm_source_           -0.000465   0.001244       0.000928        -0.000990   \n",
       "geo_city_              0.001042   0.000232       0.000164        -0.000648   \n",
       "\n",
       "                       device_brand_  utm_campaign_  utm_source_  geo_city_  \n",
       "session_id                  0.230656      -0.000047     0.088790  -0.040689  \n",
       "client_id                   0.230632      -0.000046     0.088979  -0.040680  \n",
       "visit_number                0.002538       0.001599     0.000183   0.001752  \n",
       "utm_medium                  0.000310       0.391600    -0.000522   0.000520  \n",
       "device_category            -0.000281      -0.000712     0.001275   0.000377  \n",
       "CR_result                   0.000411       0.002233     0.000650   0.000510  \n",
       "org_traffic                -0.000949       0.083730     0.001681   0.000059  \n",
       "advertising_social_NW       0.056215       0.000454    -0.013888   0.009727  \n",
       "city_of_presence           -0.024717      -0.000139     0.009200  -0.093495  \n",
       "date                        0.000275      -0.000501    -0.000558  -0.000712  \n",
       "month                       0.000757       0.000604    -0.000465   0.001042  \n",
       "dayofweek                   0.000660      -0.000944     0.001244   0.000232  \n",
       "device_screen              -0.000187      -0.000751     0.000928   0.000164  \n",
       "device_browser_            -0.001720      -0.000727    -0.000990  -0.000648  \n",
       "device_brand_               1.000000       0.000607    -0.006136  -0.013872  \n",
       "utm_campaign_               0.000607       1.000000    -0.000748  -0.000187  \n",
       "utm_source_                -0.006136      -0.000748     1.000000   0.005769  \n",
       "geo_city_                  -0.013872      -0.000187     0.005769   1.000000  "
      ]
     },
     "execution_count": 147,
     "metadata": {},
     "output_type": "execute_result"
    }
   ],
   "source": [
    "df_ = df.apply(lambda x: pd.factorize (x)[0])\n",
    "df_.corr()"
   ]
  },
  {
   "cell_type": "code",
   "execution_count": 148,
   "id": "3dad1fbb",
   "metadata": {},
   "outputs": [
    {
     "data": {
      "text/plain": [
       "<AxesSubplot:>"
      ]
     },
     "execution_count": 148,
     "metadata": {},
     "output_type": "execute_result"
    },
    {
     "data": {
      "image/png": "[encoded data removed]",
      "text/plain": [
       "<Figure size 576x432 with 2 Axes>"
      ]
     },
     "metadata": {
      "needs_background": "light"
     },
     "output_type": "display_data"
    }
   ],
   "source": [
    "fig, ax = plt.subplots(figsize=(8, 6))\n",
    "sns.heatmap(df_.corr(), cmap='vlag', center=0, square=True, linewidths=0.5)"
   ]
  },
  {
   "cell_type": "markdown",
   "id": "51500ed2",
   "metadata": {},
   "source": [
    "Корреляция близкая к 1 между сессией и пользователем, один из столбцов нужно удалить, учитывая аналитику от сессии - удаляем user_id\n",
    "\n",
    "Также близкая к 1 корреляция между категорией девайса и разрешением экрана, удалим разрешение экрана"
   ]
  },
  {
   "cell_type": "code",
   "execution_count": 149,
   "id": "813f36a2",
   "metadata": {},
   "outputs": [],
   "source": [
    "df_ = df.drop(columns=['client_id', 'device_screen'])"
   ]
  },
  {
   "cell_type": "code",
   "execution_count": 150,
   "id": "3668bf54",
   "metadata": {},
   "outputs": [
    {
     "data": {
      "text/plain": [
       "<AxesSubplot:>"
      ]
     },
     "execution_count": 150,
     "metadata": {},
     "output_type": "execute_result"
    },
    {
     "data": {
      "image/png": "[encoded data removed]",
      "text/plain": [
       "<Figure size 432x288 with 2 Axes>"
      ]
     },
     "metadata": {
      "needs_background": "light"
     },
     "output_type": "display_data"
    }
   ],
   "source": [
    "# Результирующая тепловая карта матрицы корреляций\n",
    "df__ = df_.apply(lambda x: pd.factorize (x)[0])\n",
    "sns.heatmap(df__.corr(), cmap='vlag', center=0, square=True, linewidths=0.5)"
   ]
  },
  {
   "cell_type": "markdown",
   "id": "63076494",
   "metadata": {},
   "source": [
    "Оставим все оставшиеся переменные в выборке, т.к. корреляция признаков между собой менее 0,4"
   ]
  },
  {
   "cell_type": "markdown",
   "id": "603a965f",
   "metadata": {},
   "source": [
    "### 2.4. Стандартизация и нормализация данных"
   ]
  },
  {
   "cell_type": "markdown",
   "id": "e8c44404",
   "metadata": {},
   "source": [
    "#### 2.4.1. Стандартизация категориальных переменных"
   ]
  },
  {
   "cell_type": "code",
   "execution_count": 151,
   "id": "0cba9f42",
   "metadata": {},
   "outputs": [
    {
     "data": {
      "text/plain": [
       "(1732266, 99)"
      ]
     },
     "execution_count": 151,
     "metadata": {},
     "output_type": "execute_result"
    }
   ],
   "source": [
    "data = df_[['device_browser_', 'device_category', 'device_brand_', 'utm_medium', 'utm_source_',\n",
    "           'utm_campaign_', 'geo_city_', 'city_of_presence', 'advertising_social_NW', 'org_traffic']]\n",
    "\n",
    "ohe_ = OneHotEncoder(sparse=False)\n",
    "ohe_.fit(data)\n",
    "ohe_data_ = ohe_.transform(data)\n",
    "ohe_.get_feature_names_out(input_features=None)\n",
    "df_[ohe_.get_feature_names_out()] = ohe_data_\n",
    "\n",
    "df = df_.drop(columns=['device_browser_', 'device_category', 'device_brand_', 'utm_medium', 'utm_source_', 'utm_campaign_',\n",
    "                       'geo_city_', 'city_of_presence', 'advertising_social_NW', 'org_traffic', 'date'])\n",
    "df.shape"
   ]
  },
  {
   "cell_type": "markdown",
   "id": "cc3377ee",
   "metadata": {},
   "source": [
    "#### 2.4.2. Стандартизация количественных переменных"
   ]
  },
  {
   "cell_type": "code",
   "execution_count": 152,
   "id": "e1514882",
   "metadata": {},
   "outputs": [
    {
     "data": {
      "text/html": [
       "<div>\n",
       "<style scoped>\n",
       "    .dataframe tbody tr th:only-of-type {\n",
       "        vertical-align: middle;\n",
       "    }\n",
       "\n",
       "    .dataframe tbody tr th {\n",
       "        vertical-align: top;\n",
       "    }\n",
       "\n",
       "    .dataframe thead th {\n",
       "        text-align: right;\n",
       "    }\n",
       "</style>\n",
       "<table border=\"1\" class=\"dataframe\">\n",
       "  <thead>\n",
       "    <tr style=\"text-align: right;\">\n",
       "      <th></th>\n",
       "      <th>session_id</th>\n",
       "      <th>CR_result</th>\n",
       "      <th>device_browser__Chrome</th>\n",
       "      <th>device_browser__Safari</th>\n",
       "      <th>device_browser__YaBrowser</th>\n",
       "      <th>device_browser__other_browser</th>\n",
       "      <th>device_category_desktop</th>\n",
       "      <th>device_category_mobile</th>\n",
       "      <th>device_category_tablet</th>\n",
       "      <th>device_brand__Apple</th>\n",
       "      <th>...</th>\n",
       "      <th>geo_city__other_city</th>\n",
       "      <th>city_of_presence_Москва+Санкт-П</th>\n",
       "      <th>city_of_presence_другие города</th>\n",
       "      <th>advertising_social_NW_иная реклама</th>\n",
       "      <th>advertising_social_NW_реклама в соц.сетях</th>\n",
       "      <th>org_traffic_органический трафик</th>\n",
       "      <th>org_traffic_платный трафик</th>\n",
       "      <th>visit_number_std</th>\n",
       "      <th>month_std</th>\n",
       "      <th>dayofweek_std</th>\n",
       "    </tr>\n",
       "  </thead>\n",
       "  <tbody>\n",
       "    <tr>\n",
       "      <th>0</th>\n",
       "      <td>9055434745589932991.1637753792.1637753792</td>\n",
       "      <td>0</td>\n",
       "      <td>1.0</td>\n",
       "      <td>0.0</td>\n",
       "      <td>0.0</td>\n",
       "      <td>0.0</td>\n",
       "      <td>0.0</td>\n",
       "      <td>1.0</td>\n",
       "      <td>0.0</td>\n",
       "      <td>0.0</td>\n",
       "      <td>...</td>\n",
       "      <td>1.0</td>\n",
       "      <td>0.0</td>\n",
       "      <td>1.0</td>\n",
       "      <td>1.0</td>\n",
       "      <td>0.0</td>\n",
       "      <td>0.0</td>\n",
       "      <td>1.0</td>\n",
       "      <td>-0.139817</td>\n",
       "      <td>0.778628</td>\n",
       "      <td>-0.399367</td>\n",
       "    </tr>\n",
       "    <tr>\n",
       "      <th>1</th>\n",
       "      <td>905544597018549464.1636867290.1636867290</td>\n",
       "      <td>0</td>\n",
       "      <td>0.0</td>\n",
       "      <td>0.0</td>\n",
       "      <td>0.0</td>\n",
       "      <td>1.0</td>\n",
       "      <td>0.0</td>\n",
       "      <td>1.0</td>\n",
       "      <td>0.0</td>\n",
       "      <td>0.0</td>\n",
       "      <td>...</td>\n",
       "      <td>0.0</td>\n",
       "      <td>1.0</td>\n",
       "      <td>0.0</td>\n",
       "      <td>1.0</td>\n",
       "      <td>0.0</td>\n",
       "      <td>0.0</td>\n",
       "      <td>1.0</td>\n",
       "      <td>-0.139817</td>\n",
       "      <td>0.778628</td>\n",
       "      <td>1.613656</td>\n",
       "    </tr>\n",
       "  </tbody>\n",
       "</table>\n",
       "<p>2 rows × 99 columns</p>\n",
       "</div>"
      ],
      "text/plain": [
       "                                  session_id  CR_result  \\\n",
       "0  9055434745589932991.1637753792.1637753792          0   \n",
       "1   905544597018549464.1636867290.1636867290          0   \n",
       "\n",
       "   device_browser__Chrome  device_browser__Safari  device_browser__YaBrowser  \\\n",
       "0                     1.0                     0.0                        0.0   \n",
       "1                     0.0                     0.0                        0.0   \n",
       "\n",
       "   device_browser__other_browser  device_category_desktop  \\\n",
       "0                            0.0                      0.0   \n",
       "1                            1.0                      0.0   \n",
       "\n",
       "   device_category_mobile  device_category_tablet  device_brand__Apple  ...  \\\n",
       "0                     1.0                     0.0                  0.0  ...   \n",
       "1                     1.0                     0.0                  0.0  ...   \n",
       "\n",
       "   geo_city__other_city  city_of_presence_Москва+Санкт-П  \\\n",
       "0                   1.0                              0.0   \n",
       "1                   0.0                              1.0   \n",
       "\n",
       "   city_of_presence_другие города  advertising_social_NW_иная реклама  \\\n",
       "0                             1.0                                 1.0   \n",
       "1                             0.0                                 1.0   \n",
       "\n",
       "   advertising_social_NW_реклама в соц.сетях  org_traffic_органический трафик  \\\n",
       "0                                        0.0                              0.0   \n",
       "1                                        0.0                              0.0   \n",
       "\n",
       "   org_traffic_платный трафик  visit_number_std  month_std  dayofweek_std  \n",
       "0                         1.0         -0.139817   0.778628      -0.399367  \n",
       "1                         1.0         -0.139817   0.778628       1.613656  \n",
       "\n",
       "[2 rows x 99 columns]"
      ]
     },
     "execution_count": 152,
     "metadata": {},
     "output_type": "execute_result"
    }
   ],
   "source": [
    "data = df[['visit_number', 'month', 'dayofweek']]\n",
    "\n",
    "std_scaler = StandardScaler()\n",
    "std_scaler.fit(data)\n",
    "std_scaled = std_scaler.transform(data)\n",
    "df[['visit_number_std', 'month_std', 'dayofweek_std']] = std_scaled\n",
    "df = df.drop(columns=['visit_number', 'month', 'dayofweek'])\n",
    "df.head(2)"
   ]
  },
  {
   "cell_type": "code",
   "execution_count": 156,
   "id": "31469238",
   "metadata": {},
   "outputs": [],
   "source": [
    "df_1 = df[['session_id', 'device_browser__Chrome',\n",
    "       'device_browser__Safari', 'device_browser__YaBrowser',\n",
    "       'device_browser__other_browser', 'device_category_desktop',\n",
    "       'device_category_mobile', 'device_category_tablet',\n",
    "       'device_brand__Apple', 'device_brand__Huawei', 'device_brand__Samsung',\n",
    "       'device_brand__Xiaomi', 'device_brand__other_bran', 'utm_medium_CPM',\n",
    "       'utm_medium_Sbol_catalog', 'utm_medium_app', 'utm_medium_article',\n",
    "       'utm_medium_banner', 'utm_medium_blogger_channel',\n",
    "       'utm_medium_blogger_header', 'utm_medium_blogger_stories',\n",
    "       'utm_medium_catalogue', 'utm_medium_cbaafe', 'utm_medium_clicks',\n",
    "       'utm_medium_cpa', 'utm_medium_cpc', 'utm_medium_cpm', 'utm_medium_cpv',\n",
    "       'utm_medium_dom_click', 'utm_medium_email', 'utm_medium_fb_smm',\n",
    "       'utm_medium_google_cpc', 'utm_medium_info_text', 'utm_medium_landing',\n",
    "       'utm_medium_landing_interests', 'utm_medium_last', 'utm_medium_link',\n",
    "       'utm_medium_linktest', 'utm_medium_main_polka', 'utm_medium_medium',\n",
    "       'utm_medium_nkp', 'utm_medium_ok_smm', 'utm_medium_organic',\n",
    "       'utm_medium_other', 'utm_medium_outlook', 'utm_medium_partner',\n",
    "       'utm_medium_post', 'utm_medium_promo_sber', 'utm_medium_promo_sbol',\n",
    "       'utm_medium_push', 'utm_medium_qr', 'utm_medium_qrcodevideo',\n",
    "       'utm_medium_reach', 'utm_medium_referral', 'utm_medium_sber_app',\n",
    "       'utm_medium_smartbanner', 'utm_medium_smm', 'utm_medium_sms',\n",
    "       'utm_medium_social', 'utm_medium_static', 'utm_medium_stories',\n",
    "       'utm_medium_tablet', 'utm_medium_tg', 'utm_medium_users_msk',\n",
    "       'utm_medium_vk_smm', 'utm_medium_web_polka', 'utm_medium_yandex_cpc',\n",
    "       'utm_source__BHcvLfOaCWvWTykYqHVe', 'utm_source__ZpYIoDJMcFzVoPFsHGJL',\n",
    "       'utm_source__bByPQxmDaMXgpHeypKSM', 'utm_source__fDLlAcSmythWSCVMvqvL',\n",
    "       'utm_source__kjsLglQLzykiRbcDiGcD', 'utm_source__other_source',\n",
    "       'utm_campaign__FTjNLDyTrXaWYgZymFkV',\n",
    "       'utm_campaign__LEoPHuyFvzoNfnzGgfcd',\n",
    "       'utm_campaign__LTuZkdKfxRGVceoWkVyg',\n",
    "       'utm_campaign__gecBYcKZCPMcVYdSSzKP', 'utm_campaign__other_campaign',\n",
    "       'geo_city__Kazan', 'geo_city__Krasnodar', 'geo_city__Krasnoyarsk',\n",
    "       'geo_city__Moscow', 'geo_city__Nizhny Novgorod',\n",
    "       'geo_city__Novosibirsk', 'geo_city__Saint Petersburg',\n",
    "       'geo_city__Samara', 'geo_city__Ufa', 'geo_city__Yekaterinburg',\n",
    "       'geo_city__other_city', 'city_of_presence_Москва+Санкт-П',\n",
    "       'city_of_presence_другие города', 'advertising_social_NW_иная реклама',\n",
    "       'advertising_social_NW_реклама в соц.сетях',\n",
    "       'org_traffic_органический трафик', 'org_traffic_платный трафик',\n",
    "       'visit_number_std', 'month_std', 'dayofweek_std','CR_result']]"
   ]
  },
  {
   "cell_type": "code",
   "execution_count": 158,
   "id": "04a8c918",
   "metadata": {},
   "outputs": [],
   "source": [
    "df_1.to_csv('data/df_fe_mod.csv', index=False)"
   ]
  },
  {
   "cell_type": "code",
   "execution_count": 55,
   "id": "ffeeb2a9",
   "metadata": {},
   "outputs": [],
   "source": [
    "# df_fe_mod - исходная выборка перед моделированием, после EDA, после Feature, полная, без моделей авто\n",
    "df = pd.read_csv('data/df_fe_mod.csv')"
   ]
  },
  {
   "cell_type": "code",
   "execution_count": 56,
   "id": "4b9d7a70",
   "metadata": {},
   "outputs": [
    {
     "data": {
      "text/plain": [
       "(1732266, 99)"
      ]
     },
     "execution_count": 56,
     "metadata": {},
     "output_type": "execute_result"
    }
   ],
   "source": [
    "df.shape"
   ]
  },
  {
   "cell_type": "markdown",
   "id": "8eee6b9a",
   "metadata": {},
   "source": [
    "# 4. Modelling"
   ]
  },
  {
   "cell_type": "markdown",
   "id": "f4b1166a",
   "metadata": {},
   "source": [
    "##### Описание преобразованного датасета:\n",
    "- `session_id`: идентификатор сесии;\n",
    "- `date_`: даты по дням;\n",
    "- `device_browser__*`: браузеры;\n",
    "- `device_category_*`: категории девайсов;\n",
    "- `device_brand__*`: бренды девайсов;\n",
    "- `utm_source__*`: каналы привлечения;\n",
    "- `utm_medium_*`: типы привлечения;\n",
    "- `utm_campaign_*`: рекламные кампании;\n",
    "- `geo_city_*`: города;\n",
    "- `city_of_presence_*`: города присутствия;\n",
    "- `advertising_social_NW_*`: социальная и иная реклама;\n",
    "- `org_traffic_*`: вид трафика;\n",
    "- `visit_number_std`: номер визита (после стандартизации);\n",
    "- `month_std`: месяц (после стандартизации);\n",
    "- `dayofweek_std`: день недели (после стандартизации);\n",
    "\n",
    "- `CR_result`: конверсия в действие"
   ]
  },
  {
   "cell_type": "markdown",
   "id": "5cdf19d5",
   "metadata": {},
   "source": [
    "## 4.1. Исследование выборки 1 \n",
    "(общая, без сокращения признаков, без моделей авто)\n",
    "### 4.1.1. Подготовка данных"
   ]
  },
  {
   "cell_type": "code",
   "execution_count": 57,
   "id": "2107ccef",
   "metadata": {},
   "outputs": [],
   "source": [
    "# Инициализация целевой переменной - CR_result, разделение на сеты, удаляем стольбцы сессии id \n",
    "df_prepared = df.drop(['session_id'], axis=1)\n",
    "df_prepared['CR_result'] = df_prepared['CR_result'].astype(float)\n",
    "X = df_prepared.drop(['CR_result'], axis=1)\n",
    "y = df_prepared['CR_result']\n",
    "\n",
    "X_train, X_test, y_train, y_test = train_test_split(X, y, test_size=0.3, random_state=42)"
   ]
  },
  {
   "cell_type": "markdown",
   "id": "1ded68ca",
   "metadata": {},
   "source": [
    "###   4.1.2. Обучение моделей разными методами"
   ]
  },
  {
   "cell_type": "markdown",
   "id": "033753a0",
   "metadata": {},
   "source": [
    "####   4.1.2.1.  Логистическая регрессия \n",
    "- точность на тестовом сете - 97,1%, время обучения модели - 1min 39s, AUC - 0,59"
   ]
  },
  {
   "cell_type": "code",
   "execution_count": 183,
   "id": "6c70772f",
   "metadata": {},
   "outputs": [],
   "source": [
    "# Задаем модель\n",
    "logreg = LogisticRegression(random_state=100, max_iter=400, intercept_scaling=100, penalty='l2', solver='newton-cg')"
   ]
  },
  {
   "cell_type": "code",
   "execution_count": 184,
   "id": "084ffb25",
   "metadata": {},
   "outputs": [
    {
     "name": "stdout",
     "output_type": "stream",
     "text": [
      "CPU times: total: 6min 43s\n",
      "Wall time: 1min 39s\n"
     ]
    }
   ],
   "source": [
    "%%time\n",
    "# Обучаем модель\n",
    "logreg.fit(X_train, y_train)"
   ]
  },
  {
   "cell_type": "code",
   "execution_count": 185,
   "id": "f8c7c982",
   "metadata": {},
   "outputs": [
    {
     "name": "stdout",
     "output_type": "stream",
     "text": [
      "Модель  -- Логистическая регрессия\n",
      "Показатели точности модели --\n",
      "TRAIN ACC: 0.9709950469492473\n",
      "TEST ACC: 0.970860914408867\n",
      "Сonfusion_matrix -\n",
      " [[504537      0]\n",
      " [ 15143      0]]\n"
     ]
    },
    {
     "data": {
      "image/png": "[encoded data removed]",
      "text/plain": [
       "<Figure size 432x288 with 1 Axes>"
      ]
     },
     "metadata": {
      "needs_background": "light"
     },
     "output_type": "display_data"
    },
    {
     "name": "stdout",
     "output_type": "stream",
     "text": [
      "CPU times: total: 969 ms\n",
      "Wall time: 884 ms\n"
     ]
    }
   ],
   "source": [
    "%%time\n",
    "# Выводим показатели работы модели\n",
    "mod_pred(logreg, X_train, y_train, X_test, y_test, 'Логистическая регрессия')\n",
    "roc_auc_test(logreg, X_test, y_test)"
   ]
  },
  {
   "cell_type": "markdown",
   "id": "46c1c722",
   "metadata": {},
   "source": [
    "####   4.1.2.2. Случайный лес \n",
    "- точность на тестовом сете - 96.7%, время обучения модели -  10min 19s, AUC - 0,5478"
   ]
  },
  {
   "cell_type": "code",
   "execution_count": 198,
   "id": "fb75ef39",
   "metadata": {},
   "outputs": [],
   "source": [
    "# Задаем модель\n",
    "rf_clf = RandomForestClassifier(n_estimators=400, random_state=2)"
   ]
  },
  {
   "cell_type": "code",
   "execution_count": 199,
   "id": "363f7ef7",
   "metadata": {},
   "outputs": [
    {
     "name": "stdout",
     "output_type": "stream",
     "text": [
      "CPU times: total: 10min 8s\n",
      "Wall time: 10min 19s\n"
     ]
    }
   ],
   "source": [
    "%%time\n",
    "# Обучаем модель\n",
    "rf_clf.fit(X_train, y_train)"
   ]
  },
  {
   "cell_type": "code",
   "execution_count": 200,
   "id": "5a225ecc",
   "metadata": {},
   "outputs": [
    {
     "name": "stdout",
     "output_type": "stream",
     "text": [
      "Модель  -- Случайный лес\n",
      "Показатели точности модели --\n",
      "TRAIN ACC: 0.9828845129335156\n",
      "TEST ACC: 0.9671932727832512\n",
      "Сonfusion_matrix -\n",
      " [[502531   2006]\n",
      " [ 15043    100]]\n"
     ]
    },
    {
     "data": {
      "image/png": "[encoded data removed]",
      "text/plain": [
       "<Figure size 432x288 with 1 Axes>"
      ]
     },
     "metadata": {
      "needs_background": "light"
     },
     "output_type": "display_data"
    },
    {
     "name": "stdout",
     "output_type": "stream",
     "text": [
      "CPU times: total: 3min 45s\n",
      "Wall time: 3min 48s\n"
     ]
    }
   ],
   "source": [
    "%%time\n",
    "# Выводим показатели работы модели\n",
    "mod_pred(res_clf, X_train, y_train, X_test, y_test, 'Случайный лес')\n",
    "roc_auc_test(res_clf, X_test, y_test)"
   ]
  },
  {
   "cell_type": "markdown",
   "id": "576889c5",
   "metadata": {},
   "source": [
    "####   4.1.2.3. Многослойный персептрон \n",
    "- точность на тестовом сете - 97.1%, время обучения модели -  2min 12s, AUC - 0,5952"
   ]
  },
  {
   "cell_type": "code",
   "execution_count": 201,
   "id": "da4a33f0",
   "metadata": {},
   "outputs": [],
   "source": [
    "mlp = MLPClassifier(random_state=100, max_iter=500, hidden_layer_sizes=(200,40), activation = 'relu', solver ='sgd',\n",
    "                  shuffle =False, warm_start=True)"
   ]
  },
  {
   "cell_type": "code",
   "execution_count": 202,
   "id": "102cc1a5",
   "metadata": {},
   "outputs": [
    {
     "name": "stdout",
     "output_type": "stream",
     "text": [
      "CPU times: total: 3min 8s\n",
      "Wall time: 2min 12s\n"
     ]
    }
   ],
   "source": [
    "%%time\n",
    "# Обучаем модель\n",
    "mlp.fit(X_train, y_train)"
   ]
  },
  {
   "cell_type": "code",
   "execution_count": 203,
   "id": "b53e9630",
   "metadata": {},
   "outputs": [
    {
     "name": "stdout",
     "output_type": "stream",
     "text": [
      "Модель  -- Многослойный персептрон\n",
      "Показатели точности модели --\n",
      "TRAIN ACC: 0.9709950469492473\n",
      "TEST ACC: 0.970860914408867\n",
      "Сonfusion_matrix -\n",
      " [[504537      0]\n",
      " [ 15143      0]]\n"
     ]
    },
    {
     "data": {
      "image/png": "[encoded data removed]",
      "text/plain": [
       "<Figure size 432x288 with 1 Axes>"
      ]
     },
     "metadata": {
      "needs_background": "light"
     },
     "output_type": "display_data"
    },
    {
     "name": "stdout",
     "output_type": "stream",
     "text": [
      "CPU times: total: 10.8 s\n",
      "Wall time: 3.6 s\n"
     ]
    }
   ],
   "source": [
    "%%time\n",
    "# Выводим показатели работы модели\n",
    "mod_pred(mlp, X_train, y_train, X_test, y_test, 'Многослойный персептрон')\n",
    "roc_auc_test(mlp, X_test, y_test)"
   ]
  },
  {
   "cell_type": "markdown",
   "id": "3301f823",
   "metadata": {},
   "source": [
    "###   4.1.3. Кросс-валидация на тренировочной выборке"
   ]
  },
  {
   "cell_type": "code",
   "execution_count": 174,
   "id": "09a255f0",
   "metadata": {},
   "outputs": [
    {
     "name": "stdout",
     "output_type": "stream",
     "text": [
      "Показатели после кросс-валидации модели --- Логистическая регрессия\n",
      "{'fit_time': array([14.67995191, 14.6848731 , 14.60414743, 14.51114488, 14.65306783]), 'score_time': array([0.05656409, 0.042032  , 0.03999925, 0.04100037, 0.05000114]), 'test_score': array([0.97099184, 0.97099585, 0.97099585, 0.97099585, 0.97099585])}\n",
      "Cреднее значение точности модели -  97.09950469518888 % \n",
      "Стандартное отклонение точности модели - 1.6015237594313447e-06\n",
      "CPU times: total: 6min 1s\n",
      "Wall time: 2min 32s\n"
     ]
    },
    {
     "data": {
      "text/plain": [
       "array([0.97099184, 0.97099585, 0.97099585, 0.97099585, 0.97099585])"
      ]
     },
     "execution_count": 174,
     "metadata": {},
     "output_type": "execute_result"
    }
   ],
   "source": [
    "%%time\n",
    "cross_val(logreg, X_train, y_train, 5, 'Логистическая регрессия')"
   ]
  },
  {
   "cell_type": "code",
   "execution_count": 175,
   "id": "79a5f914",
   "metadata": {},
   "outputs": [
    {
     "name": "stdout",
     "output_type": "stream",
     "text": [
      "Показатели после кросс-валидации модели --- Случайный лес\n",
      "{'fit_time': array([124.81642342, 125.02619171, 120.25575709, 115.79921412,\n",
      "       116.97882819]), 'score_time': array([6.34564328, 7.1670301 , 5.95969939, 5.94091725, 5.9307282 ]), 'test_score': array([0.96725192, 0.96734662, 0.96713632, 0.96708272, 0.96712395])}\n",
      "Cреднее значение точности модели -  96.72270667811536 % \n",
      "Стандартное отклонение точности модели - 6.535333863722966e-05\n",
      "CPU times: total: 20min 40s\n",
      "Wall time: 21min 2s\n"
     ]
    },
    {
     "data": {
      "text/plain": [
       "array([0.96722717, 0.96731776, 0.96713632, 0.96717756, 0.96727652])"
      ]
     },
     "execution_count": 175,
     "metadata": {},
     "output_type": "execute_result"
    }
   ],
   "source": [
    "%%time\n",
    "cross_val(rf_clf, X_train, y_train, 5, 'Случайный лес')"
   ]
  },
  {
   "cell_type": "code",
   "execution_count": 176,
   "id": "db219a1b",
   "metadata": {},
   "outputs": [
    {
     "name": "stdout",
     "output_type": "stream",
     "text": [
      "Показатели после кросс-валидации модели --- Многослойный персептрон\n",
      "{'fit_time': array([165.31928205, 184.31417179, 170.51975727, 208.55763936,\n",
      "       188.95407367]), 'score_time': array([0.55474663, 0.56445813, 0.572052  , 0.59001875, 0.57270455]), 'test_score': array([0.97100421, 0.97099997, 0.97099585, 0.97099585, 0.97099172])}\n",
      "Cреднее значение точности модели -  97.09892741607031 % \n",
      "Стандартное отклонение точности модели - 1.741973724077876e-05\n",
      "CPU times: total: 42min\n",
      "Wall time: 30min 18s\n"
     ]
    },
    {
     "data": {
      "text/plain": [
       "array([0.97099184, 0.9709876 , 0.97099585, 0.97101234, 0.97095874])"
      ]
     },
     "execution_count": 176,
     "metadata": {},
     "output_type": "execute_result"
    }
   ],
   "source": [
    "%%time\n",
    "cross_val(mlp, X_train, y_train, 5, 'Многослойный персептрон')"
   ]
  },
  {
   "cell_type": "markdown",
   "id": "8b2f435e",
   "metadata": {},
   "source": [
    "###  4.1.4. Выбор лучшей модели на выборке 1"
   ]
  },
  {
   "cell_type": "markdown",
   "id": "bfe545c9",
   "metadata": {},
   "source": [
    "#####  Логистическая регрессия \n",
    "- точность на тестовом сете - 97,1%, время обучения модели - 1min 39s, AUC - 0,59\n",
    "- После кросс-валидации: среднее значение точности модели -  97.09950469518888 %, стандартное отклонение точности модели - 1.6015237594313447e-06, Wall time кросс-валидации - 2min 32s\n",
    "#####  Случайный лес \n",
    "- точность на тестовом сете - 96.7%, время обучения модели -  10min 19s, AUC - 0,5478\n",
    "- После кросс-валидации: среднее значение точности модели -  97.09950469518888 % %, стандартное отклонение точности модели - 6.535333863722966e-05, Wall time кросс-валидации - 21min 2s\n",
    "#####  Многослойный персептрон \n",
    "- точность на тестовом сете - 97.1%, время обучения модели -  2min 12s, AUC - 0,5952\n",
    "- После кросс-валидации: среднее значение точности модели -  97.09892741607031 %, стандартное отклонение точности модели - 1.741973724077876e-05, Wall time кросс-валидации - 30min 18s\n",
    "#### ЛУчший результат для первой выборки - МП, т.к. AUC выше, а это очень важная характеристик"
   ]
  },
  {
   "cell_type": "markdown",
   "id": "c0004815",
   "metadata": {},
   "source": [
    "### 4.2. Исследование моделей на второй выборке (с сокращением признаков, без моделей авто)"
   ]
  },
  {
   "cell_type": "markdown",
   "id": "4a0cc02c",
   "metadata": {},
   "source": [
    "### 4.2.1. Подготовка данных"
   ]
  },
  {
   "cell_type": "markdown",
   "id": "8f779bcb",
   "metadata": {},
   "source": [
    "#### 4.2.1.1. Сокращение признаков"
   ]
  },
  {
   "cell_type": "code",
   "execution_count": 204,
   "id": "01d25c99",
   "metadata": {},
   "outputs": [
    {
     "name": "stdout",
     "output_type": "stream",
     "text": [
      "CPU times: total: 12.7 s\n",
      "Wall time: 13.1 s\n"
     ]
    }
   ],
   "source": [
    "%%time\n",
    "df = pd.read_csv('data/df_fe_mod.csv')\n",
    "df_prepared = df.drop(['session_id'], axis=1)\n",
    "df_prepared['CR_result'] = df_prepared['CR_result'].astype(float)\n",
    "X = df_prepared.drop(['CR_result'], axis=1)\n",
    "y = df_prepared['CR_result']\n",
    "\n",
    "X_train, X_test, y_train, y_test = train_test_split(X, y, test_size=0.3, random_state=42)"
   ]
  },
  {
   "cell_type": "code",
   "execution_count": 205,
   "id": "9adf123a",
   "metadata": {},
   "outputs": [],
   "source": [
    "df_vars = df_prepared.columns.values.tolist()\n",
    "y = ['y']\n",
    "X = [i for i in df_vars if i not in y]"
   ]
  },
  {
   "cell_type": "code",
   "execution_count": 206,
   "id": "c7343a50",
   "metadata": {},
   "outputs": [
    {
     "name": "stdout",
     "output_type": "stream",
     "text": [
      "CPU times: total: 2min 22s\n",
      "Wall time: 1min\n"
     ]
    }
   ],
   "source": [
    "%%time\n",
    "logreg = LogisticRegression()\n",
    "rfe = RFE(logreg, step = 20)\n",
    "rfe = rfe.fit(X_train, y_train.values.ravel())"
   ]
  },
  {
   "cell_type": "code",
   "execution_count": 207,
   "id": "6455f15b",
   "metadata": {},
   "outputs": [
    {
     "name": "stdout",
     "output_type": "stream",
     "text": [
      "[ True  True  True  True  True  True  True  True  True  True  True  True\n",
      " False False  True False False  True  True  True False False  True False\n",
      " False False False False False False False  True False False False False\n",
      " False False False False False  True  True  True False  True False False\n",
      " False False False False  True False  True False  True  True False False\n",
      " False False False False False False  True  True  True  True  True  True\n",
      "  True  True  True  True  True False False  True  True False False  True\n",
      " False False False False  True  True  True  True  True  True  True  True\n",
      " False]\n",
      "[1 1 1 1 1 1 1 1 1 1 1 1 3 4 1 3 3 1 1 1 2 4 1 2 3 4 3 4 4 2 3 1 3 4 4 4 4\n",
      " 2 3 4 2 1 1 1 4 1 4 4 3 4 4 4 1 4 1 3 1 1 3 4 4 2 4 3 3 3 1 1 1 1 1 1 1 1\n",
      " 1 1 1 3 2 1 1 2 2 1 3 3 3 3 1 1 1 1 1 1 1 1 3]\n"
     ]
    }
   ],
   "source": [
    "print(rfe.support_)\n",
    "print(rfe.ranking_)"
   ]
  },
  {
   "cell_type": "code",
   "execution_count": 208,
   "id": "c643be7d",
   "metadata": {},
   "outputs": [
    {
     "name": "stdout",
     "output_type": "stream",
     "text": [
      "Количество признаков в начальной выборке:  98\n",
      "Количество признаков в выборке с сокращенными признаками:  48\n",
      "['device_browser__Chrome', 'device_browser__Safari', 'device_browser__YaBrowser', 'device_browser__other_browser', 'device_category_desktop']\n"
     ]
    }
   ],
   "source": [
    "# Перечень столбцов с рейтингом =1, их получилось 48, т.е вдвое меньше, чем в начальном перечне, оставим их в перечне\n",
    "a = rfe.ranking_\n",
    "b = []\n",
    "for i in range(len(a)):\n",
    "    if a[i] == 1:\n",
    "        b.append(i)\n",
    "print('Количество признаков в начальной выборке: ', len(df_prepared.columns))\n",
    "print('Количество признаков в выборке с сокращенными признаками: ',len(b))\n",
    "c = df_prepared.columns\n",
    "d = []\n",
    "d = [c[i] for i in b]\n",
    "print(d[0:5])"
   ]
  },
  {
   "cell_type": "markdown",
   "id": "dbb9857b",
   "metadata": {},
   "source": [
    "#### 4.2.1.2. Повторная разделение выборок после рекурсии признаков"
   ]
  },
  {
   "cell_type": "code",
   "execution_count": 209,
   "id": "3a8d7ca3",
   "metadata": {},
   "outputs": [],
   "source": [
    "df_prepared_ = df_prepared[d]\n",
    "df_prepared_['CR_result'] = df_prepared['CR_result']\n",
    "X = df_prepared_.drop(['CR_result'], axis=1)\n",
    "y = df_prepared_['CR_result']\n",
    "\n",
    "X_train, X_test, y_train, y_test = train_test_split(X, y, test_size=0.3, random_state=42)"
   ]
  },
  {
   "cell_type": "markdown",
   "id": "a57a38f2",
   "metadata": {},
   "source": [
    "###   4.2.2.  Обучение моделей на второй выборке"
   ]
  },
  {
   "cell_type": "markdown",
   "id": "162daf8d",
   "metadata": {},
   "source": [
    "####   4.2.2.1.  Логистическая регрессия \n",
    "- точность на тестовом сете - 97,1%, время обучения модели - 28.9 s, AUC - 0,59"
   ]
  },
  {
   "cell_type": "code",
   "execution_count": 210,
   "id": "ee5e16a8",
   "metadata": {},
   "outputs": [],
   "source": [
    "logreg = LogisticRegression(random_state=100, max_iter=400, intercept_scaling=100, penalty='l2', solver='sag')"
   ]
  },
  {
   "cell_type": "code",
   "execution_count": 211,
   "id": "e1a0869d",
   "metadata": {},
   "outputs": [
    {
     "name": "stdout",
     "output_type": "stream",
     "text": [
      "CPU times: total: 1min 46s\n",
      "Wall time: 28.9 s\n"
     ]
    }
   ],
   "source": [
    "%%time\n",
    "logreg.fit(X_train, y_train)"
   ]
  },
  {
   "cell_type": "code",
   "execution_count": 212,
   "id": "baa16cf3",
   "metadata": {},
   "outputs": [
    {
     "name": "stdout",
     "output_type": "stream",
     "text": [
      "Модель  -- Логистическая регрессия\n",
      "Показатели точности модели --\n",
      "TRAIN ACC: 0.9709950469492473\n",
      "TEST ACC: 0.970860914408867\n",
      "Сonfusion_matrix -\n",
      " [[504537      0]\n",
      " [ 15143      0]]\n"
     ]
    },
    {
     "data": {
      "image/png": "[encoded data removed]",
      "text/plain": [
       "<Figure size 432x288 with 1 Axes>"
      ]
     },
     "metadata": {
      "needs_background": "light"
     },
     "output_type": "display_data"
    },
    {
     "name": "stdout",
     "output_type": "stream",
     "text": [
      "CPU times: total: 891 ms\n",
      "Wall time: 807 ms\n"
     ]
    }
   ],
   "source": [
    "%%time\n",
    "mod_pred(logreg, X_train, y_train, X_test, y_test, 'Логистическая регрессия')\n",
    "roc_auc_test(logreg, X_test, y_test)"
   ]
  },
  {
   "cell_type": "markdown",
   "id": "54b10182",
   "metadata": {},
   "source": [
    "####   4.2.2.2. Случайный лес \n",
    "- точность на тестовом сете - 96.7%, время обучения модели - 7min 23s, AUC - 0,5240"
   ]
  },
  {
   "cell_type": "code",
   "execution_count": 213,
   "id": "b4928b40",
   "metadata": {},
   "outputs": [],
   "source": [
    "rf_clf = RandomForestClassifier(n_estimators=400, random_state=2)"
   ]
  },
  {
   "cell_type": "code",
   "execution_count": 214,
   "id": "f3245587",
   "metadata": {},
   "outputs": [
    {
     "name": "stdout",
     "output_type": "stream",
     "text": [
      "CPU times: total: 7min 13s\n",
      "Wall time: 7min 23s\n"
     ]
    }
   ],
   "source": [
    "%%time\n",
    "rf_clf.fit(X_train, y_train)"
   ]
  },
  {
   "cell_type": "code",
   "execution_count": 215,
   "id": "b53ed407",
   "metadata": {},
   "outputs": [
    {
     "name": "stdout",
     "output_type": "stream",
     "text": [
      "Модель  -- Случайный лес\n",
      "Показатели точности модели --\n",
      "TRAIN ACC: 0.9750871278408294\n",
      "TEST ACC: 0.9686210745073892\n",
      "Сonfusion_matrix -\n",
      " [[503283   1254]\n",
      " [ 15053     90]]\n"
     ]
    },
    {
     "data": {
      "image/png": "[encoded data removed]",
      "text/plain": [
       "<Figure size 432x288 with 1 Axes>"
      ]
     },
     "metadata": {
      "needs_background": "light"
     },
     "output_type": "display_data"
    },
    {
     "name": "stdout",
     "output_type": "stream",
     "text": [
      "CPU times: total: 3min 7s\n",
      "Wall time: 3min 11s\n"
     ]
    }
   ],
   "source": [
    "%%time\n",
    "mod_pred(rf_clf, X_train, y_train, X_test, y_test, 'Случайный лес')\n",
    "roc_auc_test(rf_clf, X_test, y_test)"
   ]
  },
  {
   "cell_type": "markdown",
   "id": "7878fc67",
   "metadata": {},
   "source": [
    "####   4.2.2.3. Многослойный персептрон \n",
    "- точность на тестовом сете - 97,1%, время обучения модели - 2min 6s, AUC - 0,5965"
   ]
  },
  {
   "cell_type": "code",
   "execution_count": 216,
   "id": "d595b994",
   "metadata": {},
   "outputs": [],
   "source": [
    "mlp = MLPClassifier(random_state=100, max_iter=500, hidden_layer_sizes=(200,40), activation = 'relu', solver ='sgd',\n",
    "                  shuffle =False, warm_start=True)"
   ]
  },
  {
   "cell_type": "code",
   "execution_count": 217,
   "id": "6c4852a6",
   "metadata": {},
   "outputs": [
    {
     "name": "stdout",
     "output_type": "stream",
     "text": [
      "CPU times: total: 2min 51s\n",
      "Wall time: 2min 6s\n"
     ]
    }
   ],
   "source": [
    "%%time\n",
    "mlp.fit(X_train, y_train)"
   ]
  },
  {
   "cell_type": "code",
   "execution_count": 218,
   "id": "1293877e",
   "metadata": {},
   "outputs": [
    {
     "name": "stdout",
     "output_type": "stream",
     "text": [
      "Модель  -- Многослойный персептрон\n",
      "Показатели точности модели --\n",
      "TRAIN ACC: 0.9709950469492473\n",
      "TEST ACC: 0.970860914408867\n",
      "Сonfusion_matrix -\n",
      " [[504537      0]\n",
      " [ 15143      0]]\n"
     ]
    },
    {
     "data": {
      "image/png": "[encoded data removed]",
      "text/plain": [
       "<Figure size 432x288 with 1 Axes>"
      ]
     },
     "metadata": {
      "needs_background": "light"
     },
     "output_type": "display_data"
    },
    {
     "name": "stdout",
     "output_type": "stream",
     "text": [
      "CPU times: total: 9.31 s\n",
      "Wall time: 3.42 s\n"
     ]
    }
   ],
   "source": [
    "%%time\n",
    "mod_pred(mlp, X_train, y_train, X_test, y_test, 'Многослойный персептрон')\n",
    "roc_auc_test(mlp, X_test, y_test)"
   ]
  },
  {
   "cell_type": "markdown",
   "id": "98f6ca42",
   "metadata": {},
   "source": [
    "###   4.2.3. Кросс-валидация на тренировочной выборке"
   ]
  },
  {
   "cell_type": "code",
   "execution_count": 309,
   "id": "baebaf8d",
   "metadata": {},
   "outputs": [
    {
     "name": "stdout",
     "output_type": "stream",
     "text": [
      "Показатели после кросс-валидации модели --- Логистическая регрессия\n",
      "{'fit_time': array([ 9.80300069, 10.9010036 , 11.23803616, 10.67900014, 10.25000048]), 'score_time': array([0.03399968, 0.03899765, 0.03696418, 0.03100109, 0.03400016]), 'test_score': array([0.97085165, 0.97085153, 0.97085153, 0.97085153, 0.97085153])}\n",
      "Cреднее значение точности модели -  97.0851551972317 % \n",
      "Стандартное отклонение точности модели - 4.8076385361639486e-08\n",
      "CPU times: total: 3min 11s\n",
      "Wall time: 1min 46s\n"
     ]
    },
    {
     "data": {
      "text/plain": [
       "array([0.97085165, 0.97085153, 0.97085153, 0.97085153, 0.97085153])"
      ]
     },
     "execution_count": 309,
     "metadata": {},
     "output_type": "execute_result"
    }
   ],
   "source": [
    "%%time\n",
    "cross_val(logreg, X_train, y_train, 5, 'Логистическая регрессия')"
   ]
  },
  {
   "cell_type": "code",
   "execution_count": 310,
   "id": "3767b6bd",
   "metadata": {},
   "outputs": [
    {
     "name": "stdout",
     "output_type": "stream",
     "text": [
      "Показатели после кросс-валидации модели --- Случайный лес\n",
      "{'fit_time': array([87.20799756, 90.52699876, 77.01199889, 80.67499971, 78.3059988 ]), 'score_time': array([4.98400164, 4.3310008 , 4.34600139, 4.41800356, 4.32900262]), 'test_score': array([0.97024551, 0.97004746, 0.97006395, 0.97010519, 0.97018766])}\n",
      "Cреднее значение точности модели -  97.01250054978439 % \n",
      "Стандартное отклонение точности модели - 7.32068143064438e-05\n",
      "CPU times: total: 14min 12s\n",
      "Wall time: 14min 20s\n"
     ]
    },
    {
     "data": {
      "text/plain": [
       "array([0.9702084 , 0.9700722 , 0.97003921, 0.97008869, 0.97021652])"
      ]
     },
     "execution_count": 310,
     "metadata": {},
     "output_type": "execute_result"
    }
   ],
   "source": [
    "%%time\n",
    "cross_val(rf_clf, X_train, y_train, 5, 'Случайный лес')"
   ]
  },
  {
   "cell_type": "code",
   "execution_count": 311,
   "id": "48dd6aa3",
   "metadata": {},
   "outputs": [
    {
     "name": "stdout",
     "output_type": "stream",
     "text": [
      "Показатели после кросс-валидации модели --- Многослойный персептрон\n",
      "{'fit_time': array([ 97.24302983, 113.33143425, 158.04499912, 123.57800221,\n",
      "       137.80303049]), 'score_time': array([0.32900095, 0.37200046, 0.43799949, 0.5099988 , 0.40496826]), 'test_score': array([0.97085165, 0.97085153, 0.97085153, 0.97085565, 0.97085153])}\n",
      "Cреднее значение точности модели -  97.08515519757175 % \n",
      "Стандартное отклонение точности модели - 2.5700368121794195e-06\n",
      "CPU times: total: 20min 49s\n",
      "Wall time: 21min 29s\n"
     ]
    },
    {
     "data": {
      "text/plain": [
       "array([0.97084752, 0.97085153, 0.97085153, 0.97085565, 0.97085153])"
      ]
     },
     "execution_count": 311,
     "metadata": {},
     "output_type": "execute_result"
    }
   ],
   "source": [
    "%%time\n",
    "cross_val(mlp, X_train, y_train, 5, 'Многослойный персептрон')"
   ]
  },
  {
   "cell_type": "markdown",
   "id": "c23733cf",
   "metadata": {},
   "source": [
    "###   4.2.4. Выводы по лучшей модели выборки 2"
   ]
  },
  {
   "cell_type": "markdown",
   "id": "67cbd090",
   "metadata": {},
   "source": [
    "#####  Логистическая регрессия \n",
    "- точность на тестовом сете - 97,1%, время обучения модели - 28.9 s, AUC - 0,59\n",
    "- После кросс-валидации: среднее значение точности модели -  97.0851551972317 %, стандартное отклонение точности модели - 4.8076385361639486e-08, Wall time кросс-валидации - 1min 46s\n",
    "#####  Случайный лес \n",
    "- точность на тестовом сете - 96.7%, время обучения модели - 7min 23s, AUC - 0,5240\n",
    "- После кросс-валидации: среднее значение точности модели -  97.01250054978439 %, стандартное отклонение точности модели - 7.32068143064438e-05, Wall time кросс-валидации - 14min 20s\n",
    "#####  Многослойный персептрон \n",
    "- точность на тестовом сете - 97,1%, время обучения модели - 2min 6s, AUC - 0,5965\n",
    "- После кросс-валидации: среднее значение точности модели -  97.09110401621092 %, стандартное отклонение точности модели - 2.3562399123822075e-06, Wall time кросс-валидации - 21min 29s"
   ]
  },
  {
   "cell_type": "markdown",
   "id": "5ce9d736",
   "metadata": {},
   "source": [
    "После сокращения количества признаков, точность моделей практически не улучшилась (кроме случайного леса), но общее время работы по всем моделям существенно снизилось\n",
    "Целесообразно проводить сокращение признаков на этапе подготовки данных\n",
    "Но ухудшился AUC\n",
    "Лучший результат для второй выборки - МП, т.к. лучший AUC, несмотря на ухудшение времени"
   ]
  },
  {
   "cell_type": "markdown",
   "id": "eee90a55",
   "metadata": {},
   "source": [
    "## 4.3. Исследование моделей на третьей выборке \n",
    "(с сокращением признаков, с моделями авто)"
   ]
  },
  {
   "cell_type": "markdown",
   "id": "44cab245",
   "metadata": {},
   "source": [
    "### 4.3.1. Подготовка данных\n",
    "#### 4.3.1.1.  Добавление моделей авто"
   ]
  },
  {
   "cell_type": "code",
   "execution_count": 100,
   "id": "ae86ec51",
   "metadata": {},
   "outputs": [
    {
     "data": {
      "text/plain": [
       "(1732266, 245)"
      ]
     },
     "execution_count": 100,
     "metadata": {},
     "output_type": "execute_result"
    }
   ],
   "source": [
    "df = pd.read_csv('data/df_fe_mod.csv')\n",
    "df1 = pd.read_csv('data/session_with_model_auto_cat.csv')\n",
    "df_join = pd.merge(df, df1, how='left') \n",
    "df_join.shape"
   ]
  },
  {
   "cell_type": "code",
   "execution_count": 101,
   "id": "9261cb3c",
   "metadata": {},
   "outputs": [],
   "source": [
    "df_join = df_join.fillna(0)"
   ]
  },
  {
   "cell_type": "code",
   "execution_count": 102,
   "id": "12e1328d",
   "metadata": {},
   "outputs": [
    {
     "name": "stdout",
     "output_type": "stream",
     "text": [
      "244\n"
     ]
    }
   ],
   "source": [
    "df_prepared = df_join.drop(['session_id'], axis=1)\n",
    "df_prepared['CR_result'] = df_prepared['CR_result'].astype(float)\n",
    "print(len(df_prepared.columns))\n",
    "X = df_prepared.drop(['CR_result'], axis=1)\n",
    "y = df_prepared['CR_result']\n",
    "\n",
    "X_train, X_test, y_train, y_test = train_test_split(X, y, test_size=0.3, random_state=42)"
   ]
  },
  {
   "cell_type": "markdown",
   "id": "c6bb5fbb",
   "metadata": {},
   "source": [
    "#### 4.3.1.2. Сокращение признаков"
   ]
  },
  {
   "cell_type": "code",
   "execution_count": 103,
   "id": "bfa9d48f",
   "metadata": {},
   "outputs": [
    {
     "name": "stdout",
     "output_type": "stream",
     "text": [
      "[ True  True  True  True  True  True  True  True  True  True  True  True\n",
      " False False  True False False  True  True  True False False  True  True\n",
      " False False False False  True False False False False False False False\n",
      " False False False False False  True  True  True False  True False False\n",
      " False False False False  True False  True  True  True False False  True\n",
      " False  True False False False False  True  True  True  True  True  True\n",
      "  True  True  True  True  True False  True  True  True  True  True  True\n",
      "  True  True  True  True  True  True  True  True  True  True  True  True\n",
      "  True  True  True False  True False  True False False False  True False\n",
      " False False  True False  True False  True False False False False  True\n",
      " False False False False False False  True False False False False False\n",
      " False  True False False  True False False False False  True False False\n",
      "  True False  True  True  True False  True  True False False False False\n",
      " False False  True False  True  True  True  True  True False False  True\n",
      "  True False False  True  True False  True  True  True  True False  True\n",
      "  True False False False False  True  True False  True  True  True False\n",
      " False  True False False False False False False False  True False False\n",
      "  True  True False  True False  True False False False  True  True False\n",
      "  True  True  True False False False  True False  True  True  True  True\n",
      " False  True False  True False False  True  True False False  True  True\n",
      " False False False]\n",
      "[1 1 1 1 1 1 1 1 1 1 1 1 4 8 1 5 5 1 1 1 3 6 1 1 5 4 4 8 1 3 6 3 3 8 7 8 7\n",
      " 3 7 7 3 1 1 1 7 1 7 8 4 7 7 7 1 7 1 1 1 3 5 1 7 1 8 6 4 5 1 1 1 1 1 1 1 1\n",
      " 1 1 1 4 1 1 1 1 1 1 1 1 1 1 1 1 1 1 1 1 1 1 1 1 1 3 1 6 1 8 7 4 1 4 4 8 1\n",
      " 4 1 5 1 5 5 7 5 1 4 6 5 6 6 8 1 5 4 7 8 7 5 1 7 6 1 6 6 8 6 1 4 5 1 8 1 1\n",
      " 1 6 1 1 3 8 7 5 7 4 1 6 1 1 1 1 1 3 6 1 1 3 7 1 1 8 1 1 1 1 8 1 1 5 3 3 6\n",
      " 1 1 6 1 1 1 4 3 1 3 2 3 4 3 4 4 1 5 6 1 1 3 1 8 1 8 7 8 1 1 2 1 1 1 8 6 5\n",
      " 1 4 1 1 1 1 5 1 3 1 5 6 1 1 3 4 1 1 5 6 8]\n"
     ]
    }
   ],
   "source": [
    "df_vars = df_prepared.columns.values.tolist()\n",
    "y = ['y']\n",
    "X = [i for i in df_vars if i not in y]\n",
    "logreg = LogisticRegression()\n",
    "rfe = RFE(logreg, step = 20)\n",
    "rfe = rfe.fit(X_train, y_train.values.ravel())\n",
    "print(rfe.support_)\n",
    "print(rfe.ranking_)"
   ]
  },
  {
   "cell_type": "code",
   "execution_count": 104,
   "id": "1cbaefc4",
   "metadata": {},
   "outputs": [
    {
     "name": "stdout",
     "output_type": "stream",
     "text": [
      "Количество признаков в начальной выборке:  244\n",
      "Количество признаков в выборке с сокращенными признаками:  121\n",
      "['device_browser__Chrome', 'device_browser__Safari', 'device_browser__YaBrowser', 'device_browser__other_browser', 'device_category_desktop']\n"
     ]
    }
   ],
   "source": [
    "# Перечень столбцов с рейтингом =1, их получилось 121, т.е вдвое меньше, чем в начальном перечне, оставим их в перечне\n",
    "a = rfe.ranking_\n",
    "b = []\n",
    "for i in range(len(a)):\n",
    "    if a[i] == 1:\n",
    "        b.append(i)\n",
    "print('Количество признаков в начальной выборке: ', len(df_prepared.columns))\n",
    "print('Количество признаков в выборке с сокращенными признаками: ',len(b))\n",
    "c = df_prepared.columns\n",
    "d = []\n",
    "d = [c[i] for i in b]\n",
    "print(d[0:5])"
   ]
  },
  {
   "cell_type": "markdown",
   "id": "69766793",
   "metadata": {},
   "source": [
    "#### 4.3.1.3. Повторное разделение выборок после рекурсии признаков"
   ]
  },
  {
   "cell_type": "code",
   "execution_count": 105,
   "id": "57558c0d",
   "metadata": {},
   "outputs": [
    {
     "name": "stdout",
     "output_type": "stream",
     "text": [
      "['device_browser__Chrome', 'device_browser__Safari', 'device_browser__YaBrowser', 'device_browser__other_browser', 'device_category_desktop', 'device_category_mobile', 'device_category_tablet', 'device_brand__Apple', 'device_brand__Huawei', 'device_brand__Samsung', 'device_brand__Xiaomi', 'device_brand__other_bran', 'utm_medium_app', 'utm_medium_blogger_channel', 'utm_medium_blogger_header', 'utm_medium_blogger_stories', 'utm_medium_clicks', 'utm_medium_cpa', 'utm_medium_email', 'utm_medium_organic', 'utm_medium_other', 'utm_medium_outlook', 'utm_medium_post', 'utm_medium_referral', 'utm_medium_smartbanner', 'utm_medium_smm', 'utm_medium_sms', 'utm_medium_stories', 'utm_medium_tg', 'utm_source__BHcvLfOaCWvWTykYqHVe', 'utm_source__ZpYIoDJMcFzVoPFsHGJL', 'utm_source__bByPQxmDaMXgpHeypKSM', 'utm_source__fDLlAcSmythWSCVMvqvL', 'utm_source__kjsLglQLzykiRbcDiGcD', 'utm_source__other_source', 'utm_campaign__FTjNLDyTrXaWYgZymFkV', 'utm_campaign__LEoPHuyFvzoNfnzGgfcd', 'utm_campaign__LTuZkdKfxRGVceoWkVyg', 'utm_campaign__gecBYcKZCPMcVYdSSzKP', 'utm_campaign__other_campaign', 'geo_city__Krasnodar', 'geo_city__Krasnoyarsk', 'geo_city__Moscow', 'geo_city__Nizhny Novgorod', 'geo_city__Novosibirsk', 'geo_city__Saint Petersburg', 'geo_city__Samara', 'geo_city__Ufa', 'geo_city__Yekaterinburg', 'geo_city__other_city', 'city_of_presence_Москва+Санкт-П', 'city_of_presence_другие города', 'advertising_social_NW_иная реклама', 'advertising_social_NW_реклама в соц.сетях', 'org_traffic_органический трафик', 'org_traffic_платный трафик', 'visit_number_std', 'month_std', 'dayofweek_std', 'CR_result', 'x0_acura', 'x0_asia', 'x0_audi a3', 'x0_audi q5', 'x0_bmw 3-serii', 'x0_bmw 7-serii', 'x0_bmw x3', 'x0_buick', 'x0_dacia', 'x0_fiat', 'x0_gac', 'x0_great-wall', 'x0_haval', 'x0_hawtai', 'x0_honda', 'x0_honda civic-type-r', 'x0_hummer', 'x0_hyundai', 'x0_kia', 'x0_kia k5', 'x0_kia rio', 'x0_kia seltos', 'x0_kia sorento', 'x0_kia sportage', 'x0_lamborghini', 'x0_land-rover', 'x0_land-rover range-rover-velar', 'x0_lexus', 'x0_lincoln', 'x0_mazda', 'x0_mercedes-benz', 'x0_mercedes-benz c-klasse', 'x0_mercedes-benz cls-klasse', 'x0_mercedes-benz e-klasse', 'x0_mercedes-benz gle', 'x0_mercedes-benz gls-klasse', 'x0_mercedes-benz v-klasse', 'x0_mini', 'x0_mini hatch', 'x0_nissan qashqai', 'x0_porsche macan', 'x0_ravon', 'x0_renault', 'x0_renault duster', 'x0_rolls-royce', 'x0_seat', 'x0_skoda', 'x0_skoda kodiaq', 'x0_skoda octavia', 'x0_skoda rapid', 'x0_suzuki', 'x0_toyota', 'x0_toyota alphard', 'x0_toyota camry', 'x0_toyota corolla', 'x0_toyota land-cruiser-prado', 'x0_uaz', 'x0_volkswagen passat-cc', 'x0_volkswagen polo', 'x0_volkswagen tiguan', 'x0_volkswagen touareg']\n"
     ]
    }
   ],
   "source": [
    "print(d)"
   ]
  },
  {
   "cell_type": "code",
   "execution_count": 106,
   "id": "f47205a6",
   "metadata": {},
   "outputs": [],
   "source": [
    "df_prepared_ = df_prepared[d]\n",
    "df_prepared_['CR_result'] = df_prepared['CR_result']\n",
    "X = df_prepared_.drop(['CR_result'], axis=1)\n",
    "y = df_prepared_['CR_result']\n",
    "\n",
    "X_train, X_test, y_train, y_test = train_test_split(X, y, test_size=0.3, random_state=42)"
   ]
  },
  {
   "cell_type": "code",
   "execution_count": 73,
   "id": "1d2bd35c",
   "metadata": {},
   "outputs": [],
   "source": [
    "df_prepared_.to_csv('data/dataset_for_use_model.csv', index=False)"
   ]
  },
  {
   "cell_type": "code",
   "execution_count": 37,
   "id": "91f908ba",
   "metadata": {},
   "outputs": [],
   "source": [
    "df = pd.read_csv('data/dataset_for_use_model.csv')\n",
    "X = df.drop(['CR_result'], axis=1)\n",
    "y = df['CR_result']"
   ]
  },
  {
   "cell_type": "markdown",
   "id": "2c74d4e6",
   "metadata": {},
   "source": [
    "###   4.3.2.  Обучение моделей на третьей выборке"
   ]
  },
  {
   "cell_type": "markdown",
   "id": "ff4f30e8",
   "metadata": {},
   "source": [
    "####   4.3.2.1.  Логистическая регрессия \n",
    "- точность на тестовом сете - 97,1%, время обучения модель - 24.5 s, AUC - 0,6742"
   ]
  },
  {
   "cell_type": "code",
   "execution_count": 74,
   "id": "4965b0d3",
   "metadata": {},
   "outputs": [],
   "source": [
    "logreg = LogisticRegression()"
   ]
  },
  {
   "cell_type": "code",
   "execution_count": 75,
   "id": "444b3b83",
   "metadata": {},
   "outputs": [
    {
     "name": "stdout",
     "output_type": "stream",
     "text": [
      "CPU times: total: 1min 1s\n",
      "Wall time: 24.5 s\n"
     ]
    }
   ],
   "source": [
    "%%time\n",
    "logreg.fit(X_train, y_train)"
   ]
  },
  {
   "cell_type": "code",
   "execution_count": 76,
   "id": "8b78bf7c",
   "metadata": {},
   "outputs": [
    {
     "name": "stdout",
     "output_type": "stream",
     "text": [
      "Модель  -- Логистическая регрессия\n",
      "Показатели точности модели --\n",
      "TRAIN ACC: 0.9707995968945707\n",
      "TEST ACC: 0.9706223060344827\n",
      "Сonfusion_matrix -\n",
      " [[504295    242]\n",
      " [ 15025    118]]\n"
     ]
    },
    {
     "data": {
      "image/png": "[encoded data removed]",
      "text/plain": [
       "<Figure size 432x288 with 1 Axes>"
      ]
     },
     "metadata": {
      "needs_background": "light"
     },
     "output_type": "display_data"
    },
    {
     "name": "stdout",
     "output_type": "stream",
     "text": [
      "CPU times: total: 2.12 s\n",
      "Wall time: 3.85 s\n"
     ]
    }
   ],
   "source": [
    "%%time\n",
    "mod_pred(logreg, X_train, y_train, X_test, y_test, 'Логистическая регрессия')\n",
    "roc_auc_test(logreg, X_test, y_test)"
   ]
  },
  {
   "cell_type": "markdown",
   "id": "ae3e34ab",
   "metadata": {},
   "source": [
    "####   4.3.2.2. Случайный лес \n",
    "- точность на тестовом сете - 96,8%, время обучения модели - 9min 40s, AUC - 0,6204"
   ]
  },
  {
   "cell_type": "code",
   "execution_count": 77,
   "id": "a65f26c7",
   "metadata": {},
   "outputs": [
    {
     "name": "stdout",
     "output_type": "stream",
     "text": [
      "Модель  -- Случайный лес\n",
      "Показатели точности модели --\n",
      "TRAIN ACC: 0.9860859353480907\n",
      "TEST ACC: 0.9677378386699508\n",
      "Сonfusion_matrix -\n",
      " [[502688   1849]\n",
      " [ 14917    226]]\n"
     ]
    },
    {
     "data": {
      "image/png": "[encoded data removed]",
      "text/plain": [
       "<Figure size 432x288 with 1 Axes>"
      ]
     },
     "metadata": {
      "needs_background": "light"
     },
     "output_type": "display_data"
    },
    {
     "name": "stdout",
     "output_type": "stream",
     "text": [
      "CPU times: total: 9min 29s\n",
      "Wall time: 9min 40s\n"
     ]
    }
   ],
   "source": [
    "%%time\n",
    "rf_clf = RandomForestClassifier()\n",
    "# rf_clf = RandomForestClassifier(n_estimators=400, random_state=2)\n",
    "rf_clf.fit(X_train, y_train)\n",
    "mod_pred(rf_clf, X_train, y_train, X_test, y_test, 'Случайный лес')\n",
    "roc_auc_test(rf_clf, X_test, y_test)"
   ]
  },
  {
   "cell_type": "markdown",
   "id": "403e35cd",
   "metadata": {},
   "source": [
    "####   4.3.2.3. Многослойный персептрон \n",
    "- точность на тестовом сете - 97,1%, время обучения модели - 3min 42s, AUC - 0,6951"
   ]
  },
  {
   "cell_type": "code",
   "execution_count": 115,
   "id": "b5a339ee",
   "metadata": {},
   "outputs": [
    {
     "name": "stdout",
     "output_type": "stream",
     "text": [
      "Модель  -- Многослойный персептрон\n",
      "Показатели точности модели --\n",
      "TRAIN ACC: 0.9710775153267479\n",
      "TEST ACC: 0.970755080049261\n",
      "Сonfusion_matrix -\n",
      " [[504393    144]\n",
      " [ 15054     89]]\n"
     ]
    },
    {
     "data": {
      "image/png": "[encoded data removed]",
      "text/plain": [
       "<Figure size 500x300 with 1 Axes>"
      ]
     },
     "metadata": {},
     "output_type": "display_data"
    },
    {
     "name": "stdout",
     "output_type": "stream",
     "text": [
      "CPU times: total: 21min 35s\n",
      "Wall time: 3min 42s\n"
     ]
    }
   ],
   "source": [
    "%%time\n",
    "mlp = MLPClassifier()\n",
    "mlp.fit(X_train, y_train)\n",
    "mod_pred(mlp, X_train, y_train, X_test, y_test, 'Многослойный персептрон')\n",
    "roc_auc_test(mlp, X_test, y_test)"
   ]
  },
  {
   "cell_type": "markdown",
   "id": "d5d06b06",
   "metadata": {},
   "source": [
    "###   4.3.3. Кросс-валидация на тренировочной выборке"
   ]
  },
  {
   "cell_type": "code",
   "execution_count": 79,
   "id": "3f39c695",
   "metadata": {},
   "outputs": [
    {
     "name": "stdout",
     "output_type": "stream",
     "text": [
      "Показатели после кросс-валидации модели --- Логистическая регрессия\n",
      "{'fit_time': array([20.41700244, 20.47100496, 20.24596071, 20.20452642, 19.44999576]), 'score_time': array([0.05999708, 0.09699559, 0.07800126, 0.06700158, 0.0630002 ]), 'test_score': array([0.97083928, 0.97078968, 0.97074844, 0.97068659, 0.97087627])}\n",
      "Cреднее значение точности модели -  97.0788051279475 % \n",
      "Стандартное отклонение точности модели - 6.674148077506985e-05\n",
      "CPU times: total: 8min 10s\n",
      "Wall time: 3min 24s\n"
     ]
    },
    {
     "data": {
      "text/plain": [
       "array([0.97083928, 0.97078968, 0.97074844, 0.97068659, 0.97087627])"
      ]
     },
     "execution_count": 79,
     "metadata": {},
     "output_type": "execute_result"
    }
   ],
   "source": [
    "%%time\n",
    "cross_val(logreg, X_train, y_train, 5, 'Логистическая регрессия')"
   ]
  },
  {
   "cell_type": "code",
   "execution_count": 80,
   "id": "8f002e60",
   "metadata": {},
   "outputs": [
    {
     "name": "stdout",
     "output_type": "stream",
     "text": [
      "Показатели после кросс-валидации модели --- Случайный лес\n",
      "{'fit_time': array([335.52699733, 335.95046329, 349.83399248, 342.64696336,\n",
      "       349.87003565]), 'score_time': array([15.18296409, 12.24299812, 15.4419632 , 14.17399645, 15.38600659]), 'test_score': array([0.96780445, 0.9678002 , 0.96780432, 0.96777545, 0.96780432])}\n",
      "Cреднее значение точности модели -  96.7788676415612 % \n",
      "Стандартное отклонение точности модели - 6.37494917307669e-05\n",
      "CPU times: total: 59min 5s\n",
      "Wall time: 1h 46s\n"
     ]
    },
    {
     "data": {
      "text/plain": [
       "array([0.96780858, 0.96788266, 0.96775896, 0.96768886, 0.96780432])"
      ]
     },
     "execution_count": 80,
     "metadata": {},
     "output_type": "execute_result"
    }
   ],
   "source": [
    "%%time\n",
    "cross_val(rf_clf, X_train, y_train, 5, 'Случайный лес')"
   ]
  },
  {
   "cell_type": "code",
   "execution_count": 81,
   "id": "971e558a",
   "metadata": {},
   "outputs": [
    {
     "name": "stdout",
     "output_type": "stream",
     "text": [
      "Показатели после кросс-валидации модели --- Многослойный персептрон\n",
      "{'fit_time': array([411.84496021, 379.80205965, 497.12242937, 686.71372557,\n",
      "       500.07654524]), 'score_time': array([0.66299534, 0.42500019, 0.70100164, 0.49899888, 0.56699944]), 'test_score': array([0.97068259, 0.9708474 , 0.97090101, 0.9707938 , 0.97044331])}\n",
      "Cреднее значение точности модели -  97.08861886582223 % \n",
      "Стандартное отклонение точности модели - 2.721201910195292e-05\n",
      "CPU times: total: 1h 39min 29s\n",
      "Wall time: 1h 26min 34s\n"
     ]
    },
    {
     "data": {
      "text/plain": [
       "array([0.97092587, 0.97084328, 0.97090101, 0.97088039, 0.97088039])"
      ]
     },
     "execution_count": 81,
     "metadata": {},
     "output_type": "execute_result"
    }
   ],
   "source": [
    "%%time\n",
    "cross_val(mlp, X_train, y_train, 5, 'Многослойный персептрон')"
   ]
  },
  {
   "cell_type": "markdown",
   "id": "5b6fc672",
   "metadata": {},
   "source": [
    "###   4.3.4. Выводы по лучшей модели выборки 3"
   ]
  },
  {
   "cell_type": "markdown",
   "id": "71e051df",
   "metadata": {},
   "source": [
    "#####  Логистическая регрессия \n",
    "- точность на тестовом сете - 97,1%, время обучения модель - 24.5 s, AUC - 0,6742\n",
    "- После кросс-валидации: среднее значение точности модели -  97.0788051279475 %, стандартное отклонение точности модели - 6.674148077506985e-05, Wall time кросс-валидации - 3min 24s\n",
    "#####  Случайный лес \n",
    "- точность на тестовом сете - 96,8%, время обучения модели - 9min 40s, AUC - 0,6204\n",
    "- После кросс-валидации: среднее значение точности модели -  96.7788676415612 %, стандартное отклонение точности модели - 6.37494917307669e-05, Wall time кросс-валидации - 1h 46s\n",
    "#####  Многослойный персептрон \n",
    "- точность на тестовом сете - 97,1%, время обучения модели - 3min 42s, AUC - 0,6951\n",
    "- После кросс-валидации: среднее значение точности модели -  97.08861886582223 %, стандартное отклонение точности модели - 2.721201910195292e-05, Wall time кросс-валидации - 1h 26min 34s"
   ]
  },
  {
   "cell_type": "code",
   "execution_count": null,
   "id": "ee34aa31",
   "metadata": {},
   "outputs": [
    {
     "name": "stdout",
     "output_type": "stream",
     "text": [
      "Показатели после кросс-валидации модели --- Многослойный персептрон\n",
      "{'fit_time': array([398.20699978, 608.03700066, 613.19554043, 560.16420245,\n",
      "       720.21503091]), 'score_time': array([0.3239994 , 0.28500247, 0.29200077, 0.33199763, 0.20299935]), 'test_score': array([0.97021244, 0.97013547, 0.9701932 , 0.97044335, 0.97023168])}\n"
     ]
    }
   ],
   "source": [
    "%%time\n",
    "# Кросс-валидация на тестовой выборке\n",
    "cross_val(mlp, X_test, y_test, 5, 'Многослойный персептрон')"
   ]
  },
  {
   "cell_type": "markdown",
   "id": "9e4c1d37",
   "metadata": {},
   "source": [
    "# 5. RESULTS"
   ]
  },
  {
   "cell_type": "markdown",
   "id": "d84a5926",
   "metadata": {},
   "source": [
    "##  5.1. Общие выводы"
   ]
  },
  {
   "cell_type": "markdown",
   "id": "b863d4da",
   "metadata": {},
   "source": [
    "##### По результатам -\n",
    "- учитывая тот факт, что пороговое значение AUC удалось превысить только в случае третьей выборки, рассматриваем результаты только по ней, несмотря на то, что в первых двух выборках accuracy получилась выше\n",
    "- таким образом, целесообразно использовать порядок сбора третьей выборки, т.е. добавлять модели авто и проводить сокращение количества признаков, убирая малозначимые\n",
    "- переобучения модели не установлено по всем трем методам, поэтому данный фактор не рассматриваем далее\n",
    "- По совокупности всех признаков лучшая модель по методу Многослойного персептрона, ее выбираем и работаем с ней далее\n",
    "    - точность на тестовом сете - 97,1%, время обучения модели - 3min 42s, AUC - 0,6951\n",
    "    - После кросс-валидации: среднее значение точности модели -  97.08861886582223 %, стандартное отклонение точности модели - 2.721201910195292e-05, Wall time кросс-валидации - 1h 26min 34s"
   ]
  },
  {
   "cell_type": "markdown",
   "id": "f8dcc404",
   "metadata": {},
   "source": [
    "##  5.2. Обучение модели на всем датасете"
   ]
  },
  {
   "cell_type": "code",
   "execution_count": 120,
   "id": "697f2c18",
   "metadata": {
    "scrolled": true
   },
   "outputs": [
    {
     "name": "stdout",
     "output_type": "stream",
     "text": [
      "TEST ACC MLP RESULTS: 0.9709299841941134\n",
      "Сonfusion_matrix -\n",
      " [[1681069     883]\n",
      " [  49474     840]]\n"
     ]
    },
    {
     "data": {
      "image/png": "[encoded data removed]",
      "text/plain": [
       "<Figure size 500x300 with 1 Axes>"
      ]
     },
     "metadata": {},
     "output_type": "display_data"
    },
    {
     "name": "stdout",
     "output_type": "stream",
     "text": [
      "CPU times: total: 23min 35s\n",
      "Wall time: 4min 2s\n"
     ]
    }
   ],
   "source": [
    "%%time\n",
    "mlp.fit(X, y)\n",
    "res_model = mlp.predict(X)\n",
    "print(f'TEST ACC MLP RESULTS: {accuracy_score(y, res_model)}')\n",
    "print('Сonfusion_matrix -\\n', confusion_matrix(y, res_model))\n",
    "roc_auc_test(mlp, X, y)"
   ]
  },
  {
   "cell_type": "markdown",
   "id": "4de2d143",
   "metadata": {},
   "source": [
    "#### По итогам обучения модели на всем датасете - \n",
    "- точность на тестовом сете - 97,1%, время обучения модели - 4min 2s, AUC - 0,7074"
   ]
  },
  {
   "cell_type": "markdown",
   "id": "dadf911d",
   "metadata": {},
   "source": [
    "##  5.3. Подготовка к общему использованию"
   ]
  },
  {
   "cell_type": "code",
   "execution_count": 129,
   "id": "34cce579",
   "metadata": {},
   "outputs": [],
   "source": [
    "# Сериализация модели в файл\n",
    "filename = 'ML_proect_auto_pod_MLP.pickle'\n",
    "with open(filename, 'wb') as file:\n",
    "    pickle.dump(mlp, file) "
   ]
  },
  {
   "cell_type": "markdown",
   "id": "666401ee",
   "metadata": {},
   "source": [
    "##  5.4. Перечень действий"
   ]
  },
  {
   "cell_type": "markdown",
   "id": "8d93e775",
   "metadata": {},
   "source": [
    "1. Работа с файлом `ga_hits.csv` - события в рамках визита\n",
    "    - 1.1. Расчет параметра CR (расчет по целевому действию, группировка по ID, расчет суммарного CR, вывод итогового бинарного CR), файл - `df_group_CR_sum`\n",
    "    - 1.2. Вывод марки и модели авто (выделение модели, группировка данных, стандартизация категориальной переменной) , файл - `session_with_model_auto_cat.csv`\n",
    "2.  Работа с файлом `ga_hits.csv` - события в рамках визита\n",
    "    - 2.1. Присоединение бинарного показателя конверсии CR\n",
    "    - 2.2. Отработка нулевых и отсутствующих данных\n",
    "        - 2.2.1. Выделение столбцов с нулевыми и отсутствующими данными\n",
    "        - 2.2.2. Удаление столбцов, в которых более 50% данных нулевые или отсутствующие\n",
    "        - 2.2.3. Замена данных на моды (сначала по группировке из матрицы группировки), далее на моду столбца\n",
    "        - 2.2.4. Проверка, что все данные есть и ненулевые\n",
    "        - 2.2.4. Преобразование данных ('date', 'client_id')\n",
    "3. Feature Engeneering, формирование датасета для моделирования\n",
    "    - 3.1. Формирование доп. столбцов - 'CR_result'(0/1), 'org_traffic', 'advertising_social_NW, 'month','dayofweek'\n",
    "    - 3.2. Сокращение категориальных - 'device_browser'(4), 'device_brand'(5), 'utm_campaign'(6),  'utm_source'(6), 'geo_city'(11) по принципу выделения максимальных и объединения остальных данных\n",
    "    - 3.3. Удаление \"лишних\" столбцов - 'CR_sum', 'geo_country', 'device_brand', 'device_browser', 'device_screen_resolution', 'visit_date', 'utm_adcontent', 'utm_campaign', 'utm_source', 'geo_city', 'client_id'\n",
    "    - 3.4. Стандартизация категориальных и количественных переменных\n",
    "    - 3.5. Добавление категориального признака модели авто\n",
    "    - 3.6. Удаление незначимых столбцов\n",
    "    - 3.7. Сверка итоговых столбцов для использования модели (c витриной формата `dataset_for_use_model.csv`)\n",
    "4. Применение модели"
   ]
  },
  {
   "cell_type": "code",
   "execution_count": 141,
   "id": "78b1cb27",
   "metadata": {},
   "outputs": [],
   "source": [
    "# Алгоритм применения модели - читаем файл, определяем Х, открываем модель из pickle, применяем модель и записываем результат\n",
    "\n",
    "df = pd.read_csv('data/dataset_for_use_model.csv')\n",
    "\n",
    "X = df.drop(['CR_result'], axis=1)\n",
    "\n",
    "with open('ML_proect_auto_pod_MLP.pickle', 'rb') as f:\n",
    "    model_from_pickle = pickle.load(f)\n",
    "\n",
    "res_model_ = model_from_pickle.predict(X)"
   ]
  },
  {
   "cell_type": "code",
   "execution_count": 142,
   "id": "4e342a94",
   "metadata": {},
   "outputs": [
    {
     "name": "stdout",
     "output_type": "stream",
     "text": [
      "Сonfusion_matrix -\n",
      " [[1681069     883]\n",
      " [  49474     840]]\n"
     ]
    }
   ],
   "source": [
    "print('Сonfusion_matrix -\\n', confusion_matrix(df['CR_result'], res_model_))"
   ]
  },
  {
   "cell_type": "code",
   "execution_count": 143,
   "id": "cae8a57f",
   "metadata": {},
   "outputs": [
    {
     "name": "stdout",
     "output_type": "stream",
     "text": [
      "Длина списка прогноза - 1732266\n",
      "Размерность датасета для прогноза - (1732266, 121)\n",
      "Кол-во CR_result= 1 - 50314.0\n",
      "Кол-во прогнозов= 1 - 1723.0\n",
      "Кол-во отличий в  CR_result и прогнозе - (50357, 123)\n"
     ]
    }
   ],
   "source": [
    "print('Длина списка прогноза -',len(res_model_))\n",
    "print('Размерность датасета для прогноза -', df.shape)\n",
    "print('Кол-во CR_result= 1 -', df['CR_result'].sum())\n",
    "df['res'] = res_model_\n",
    "df['err'] = np.where(df['CR_result'] !=df['res'], 1, 0)\n",
    "print('Кол-во прогнозов= 1 -', df['res'].sum())\n",
    "print('Кол-во отличий в  CR_result и прогнозе -', df[df['err'] == 1].shape)"
   ]
  },
  {
   "cell_type": "markdown",
   "id": "786eacf2",
   "metadata": {},
   "source": [
    "- 50357 / 1732266 = 2,9%\n",
    "- 1723  / 1732266 = 0,1 %\n",
    "Таким образом, несмотря на неплохие показатели точности модели, предсказание конверсии крайне низкое - занижено почти в 30 раз"
   ]
  },
  {
   "cell_type": "code",
   "execution_count": null,
   "id": "d2902e12",
   "metadata": {},
   "outputs": [],
   "source": []
  },
  {
   "cell_type": "code",
   "execution_count": null,
   "id": "c9c7cf79",
   "metadata": {},
   "outputs": [],
   "source": []
  }
 ],
 "metadata": {
  "kernelspec": {
   "display_name": "Python 3 (ipykernel)",
   "language": "python",
   "name": "python3"
  },
  "language_info": {
   "codemirror_mode": {
    "name": "ipython",
    "version": 3
   },
   "file_extension": ".py",
   "mimetype": "text/x-python",
   "name": "python",
   "nbconvert_exporter": "python",
   "pygments_lexer": "ipython3",
   "version": "3.11.5"
  }
 },
 "nbformat": 4,
 "nbformat_minor": 5
}
